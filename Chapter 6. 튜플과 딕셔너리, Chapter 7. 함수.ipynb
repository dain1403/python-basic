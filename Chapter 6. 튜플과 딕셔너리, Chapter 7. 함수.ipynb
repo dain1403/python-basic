{
 "cells": [
  {
   "cell_type": "markdown",
   "metadata": {},
   "source": [
    "# Chapter 6. 튜플과 딕셔너리"
   ]
  },
  {
   "cell_type": "code",
   "execution_count": 2,
   "metadata": {},
   "outputs": [
    {
     "name": "stdout",
     "output_type": "stream",
     "text": [
      "('coffee', 'milk', 'tea', 'cider')\n",
      "coffee\n",
      "tea\n",
      "('coffee', 'milk', 'tea')\n"
     ]
    },
    {
     "ename": "TypeError",
     "evalue": "'tuple' object does not support item assignment",
     "output_type": "error",
     "traceback": [
      "\u001b[1;31m---------------------------------------------------------------------------\u001b[0m",
      "\u001b[1;31mTypeError\u001b[0m                                 Traceback (most recent call last)",
      "\u001b[1;32m<ipython-input-2-3689a82acc4e>\u001b[0m in \u001b[0;36m<module>\u001b[1;34m\u001b[0m\n\u001b[0;32m      7\u001b[0m \u001b[0mprint\u001b[0m\u001b[1;33m(\u001b[0m\u001b[0mmenu\u001b[0m\u001b[1;33m[\u001b[0m\u001b[1;36m0\u001b[0m\u001b[1;33m:\u001b[0m\u001b[1;36m3\u001b[0m\u001b[1;33m]\u001b[0m\u001b[1;33m)\u001b[0m\u001b[1;33m\u001b[0m\u001b[1;33m\u001b[0m\u001b[0m\n\u001b[0;32m      8\u001b[0m \u001b[1;33m\u001b[0m\u001b[0m\n\u001b[1;32m----> 9\u001b[1;33m \u001b[0mmenu\u001b[0m\u001b[1;33m[\u001b[0m\u001b[1;36m1\u001b[0m\u001b[1;33m]\u001b[0m \u001b[1;33m=\u001b[0m \u001b[1;34m'cola'\u001b[0m\u001b[1;33m\u001b[0m\u001b[1;33m\u001b[0m\u001b[0m\n\u001b[0m",
      "\u001b[1;31mTypeError\u001b[0m: 'tuple' object does not support item assignment"
     ]
    }
   ],
   "source": [
    "# ex 6-1\n",
    "menu = ('coffee','milk','tea','cider')\n",
    "\n",
    "print(menu)\n",
    "print(menu[0])\n",
    "print(menu[2])\n",
    "print(menu[0:3])\n",
    "\n",
    "menu[1] = 'cola'"
   ]
  },
  {
   "cell_type": "code",
   "execution_count": 3,
   "metadata": {},
   "outputs": [
    {
     "name": "stdout",
     "output_type": "stream",
     "text": [
      "('apple', 'banana', 'cherry', 'orange', 'melon', 'strawberry')\n",
      "6\n",
      "apple\n",
      "banana\n",
      "cherry\n"
     ]
    }
   ],
   "source": [
    "# ex 6-2\n",
    "tuple1 = ('apple','banana','cherry')\n",
    "tuple2 = ('orange','melon','strawberry')\n",
    "tuple3 = tuple1 + tuple2\n",
    "print(tuple3)\n",
    "print(len(tuple3))\n",
    "\n",
    "for x in tuple1:\n",
    "    print(x)\n",
    "    \n",
    "del tuple1"
   ]
  },
  {
   "cell_type": "code",
   "execution_count": 10,
   "metadata": {},
   "outputs": [
    {
     "name": "stdout",
     "output_type": "stream",
     "text": [
      "관리자 아이디를 입력하세요 : admin\n",
      "관리자 비밀번호를 입력하세요 : 12345\n",
      "관리자입니다.\n"
     ]
    }
   ],
   "source": [
    "# Q 6-2\n",
    "admin_info = ('admin','12345','rubato@naver.com')\n",
    "\n",
    "id = input('관리자 아이디를 입력하세요 : ')\n",
    "password = input('관리자 비밀번호를 입력하세요 : ')\n",
    "\n",
    "if id == admin_info[0] and password == admin_info[1] :\n",
    "    print('관리자입니다.')\n",
    "else:\n",
    "    print('아이디 또는 비밀번호가 잘못 입력되었습니다. ')"
   ]
  },
  {
   "cell_type": "code",
   "execution_count": 7,
   "metadata": {},
   "outputs": [
    {
     "name": "stdout",
     "output_type": "stream",
     "text": [
      "(1, 3, 5, 7, 9)\n"
     ]
    }
   ],
   "source": [
    "# 표현식 (1, 3, 5, 7, 9)\n",
    "odds = tuple(range(1,10,2))\n",
    "print(odds)"
   ]
  },
  {
   "cell_type": "code",
   "execution_count": 8,
   "metadata": {},
   "outputs": [
    {
     "name": "stdout",
     "output_type": "stream",
     "text": [
      "(1, 4, 9, 16, 25)\n"
     ]
    }
   ],
   "source": [
    "# 표현식 (1, 4, 9, 16, 25)\n",
    "squares = tuple(i*i for i in range(1,6))\n",
    "print(squares)"
   ]
  },
  {
   "cell_type": "code",
   "execution_count": 11,
   "metadata": {},
   "outputs": [
    {
     "name": "stdout",
     "output_type": "stream",
     "text": [
      "(1, 9, 25, 49, 81)\n"
     ]
    }
   ],
   "source": [
    "# 표현식 (1,9,25,49,81)\n",
    "odd_squares = tuple(i*i for i in range(1,10) if i%2 ==1)\n",
    "print(odd_squares)"
   ]
  },
  {
   "cell_type": "markdown",
   "metadata": {},
   "source": [
    "### Sequence 객체"
   ]
  },
  {
   "cell_type": "code",
   "execution_count": 16,
   "metadata": {},
   "outputs": [
    {
     "name": "stdout",
     "output_type": "stream",
     "text": [
      "True\n",
      "False\n",
      "True\n",
      "False\n"
     ]
    }
   ],
   "source": [
    "# 특정 값이 있는지 확인하기\n",
    "a = [0, 10, 20, 30, 40, 50, 60, 70, 80, 90]\n",
    "print(30 in a)\n",
    "print(100 in a)\n",
    "print(100 not in a)\n",
    "print(30 not in a)"
   ]
  },
  {
   "cell_type": "code",
   "execution_count": 17,
   "metadata": {},
   "outputs": [
    {
     "data": {
      "text/plain": [
       "True"
      ]
     },
     "execution_count": 17,
     "metadata": {},
     "output_type": "execute_result"
    }
   ],
   "source": [
    "43 in (38, 76, 43, 92, 19)"
   ]
  },
  {
   "cell_type": "code",
   "execution_count": 18,
   "metadata": {},
   "outputs": [
    {
     "data": {
      "text/plain": [
       "True"
      ]
     },
     "execution_count": 18,
     "metadata": {},
     "output_type": "execute_result"
    }
   ],
   "source": [
    "1 in range(10)"
   ]
  },
  {
   "cell_type": "code",
   "execution_count": 19,
   "metadata": {},
   "outputs": [
    {
     "data": {
      "text/plain": [
       "True"
      ]
     },
     "execution_count": 19,
     "metadata": {},
     "output_type": "execute_result"
    }
   ],
   "source": [
    "'P' in 'Hello Python'"
   ]
  },
  {
   "cell_type": "code",
   "execution_count": 21,
   "metadata": {},
   "outputs": [
    {
     "name": "stdout",
     "output_type": "stream",
     "text": [
      "[0, 10, 20, 30, 9, 8, 7, 6]\n"
     ]
    }
   ],
   "source": [
    "# 시퀀스 객체 연결하기\n",
    "a = [0, 10, 20, 30]\n",
    "b = [9, 8, 7, 6]\n",
    "print(a + b)"
   ]
  },
  {
   "cell_type": "code",
   "execution_count": 25,
   "metadata": {},
   "outputs": [
    {
     "name": "stdout",
     "output_type": "stream",
     "text": [
      "(1, 2, 3, 10, 20, 30)\n",
      "Hello World!\n"
     ]
    }
   ],
   "source": [
    "print((1,2,3)+(10,20,30))\n",
    "print('Hello' + ' ' + 'World!')"
   ]
  },
  {
   "cell_type": "code",
   "execution_count": 26,
   "metadata": {},
   "outputs": [
    {
     "data": {
      "text/plain": [
       "(1, 2, 3, 4, 5, 6, 7, 8, 9, 10, 11, 12, 13, 14, 15, 16, 17, 18, 19)"
      ]
     },
     "execution_count": 26,
     "metadata": {},
     "output_type": "execute_result"
    }
   ],
   "source": [
    "tuple(range(1,10)) + tuple(range(10,20))"
   ]
  },
  {
   "cell_type": "code",
   "execution_count": 27,
   "metadata": {},
   "outputs": [
    {
     "data": {
      "text/plain": [
       "'Python3'"
      ]
     },
     "execution_count": 27,
     "metadata": {},
     "output_type": "execute_result"
    }
   ],
   "source": [
    "# 문자열과 숫자 연결\n",
    "'Python'+str(3)"
   ]
  },
  {
   "cell_type": "code",
   "execution_count": 28,
   "metadata": {},
   "outputs": [
    {
     "name": "stdout",
     "output_type": "stream",
     "text": [
      "[1, 2, 3, 1, 2, 3, 1, 2, 3]\n",
      "[1, 2, 3, 1, 2, 3, 1, 2, 3]\n"
     ]
    }
   ],
   "source": [
    "# 시퀀스 객체 반복하기\n",
    "print([1,2,3] * 3)\n",
    "print(3 * [1,2,3])"
   ]
  },
  {
   "cell_type": "code",
   "execution_count": 30,
   "metadata": {},
   "outputs": [
    {
     "name": "stdout",
     "output_type": "stream",
     "text": [
      "(1, 2, 3, 1, 2, 3, 1, 2, 3)\n",
      "python python python \n"
     ]
    }
   ],
   "source": [
    "print((1,2,3)*3)\n",
    "print('python '*3)"
   ]
  },
  {
   "cell_type": "code",
   "execution_count": 35,
   "metadata": {},
   "outputs": [
    {
     "data": {
      "text/plain": [
       "[1, 2, 3, 4, 1, 2, 3, 4, 1, 2, 3, 4]"
      ]
     },
     "execution_count": 35,
     "metadata": {},
     "output_type": "execute_result"
    }
   ],
   "source": [
    "#range(1,5) * 3  #  에러남\n",
    "list(range(1,5)) * 3"
   ]
  },
  {
   "cell_type": "code",
   "execution_count": 37,
   "metadata": {},
   "outputs": [
    {
     "name": "stdout",
     "output_type": "stream",
     "text": [
      "(11, 55, 99)\n",
      "(11, 55, 99)\n"
     ]
    }
   ],
   "source": [
    "a = (11, 22, 33, 44, 55, 66, 77, 88, 99)\n",
    "print(a[0:9:4])  #0부터 9까지 4씩증가해서 보여주기\n",
    "print(a[::4])"
   ]
  },
  {
   "cell_type": "markdown",
   "metadata": {},
   "source": [
    "### Dictionary"
   ]
  },
  {
   "cell_type": "code",
   "execution_count": 38,
   "metadata": {},
   "outputs": [
    {
     "name": "stdout",
     "output_type": "stream",
     "text": [
      "{'name': '안지영', 'age': 30, 'email': 'jiyoung@korea.com'}\n",
      "안지영\n",
      "30\n",
      "길이 : 3\n"
     ]
    }
   ],
   "source": [
    "# ex 6-3\n",
    "members = {'name' : '안지영','age':30, 'email':'jiyoung@korea.com'}\n",
    "\n",
    "print(members)\n",
    "print(members['name'])\n",
    "print(members['age'])\n",
    "\n",
    "print('길이 : %d'%len(members))"
   ]
  },
  {
   "cell_type": "code",
   "execution_count": 40,
   "metadata": {},
   "outputs": [
    {
     "name": "stdout",
     "output_type": "stream",
     "text": [
      "{'kor': 95, 'eng': 85, 'math': 90, 'science': 80}\n",
      "70\n",
      "{'kor': 70, 'eng': 85, 'math': 90, 'science': 80, 'music': 100}\n",
      "{'kor': 70, 'eng': 85, 'math': 90, 'music': 100}\n",
      "이름 : 안지영\n",
      "국어 : 70\n",
      "영어 : 85\n",
      "수학 : 90\n"
     ]
    }
   ],
   "source": [
    "# 6-4\n",
    "name = '안지영'\n",
    "scores = {'kor':95,'eng':85,'math':90,'science':80}\n",
    "print(scores)\n",
    "\n",
    "scores['kor'] = 70\n",
    "print(scores['kor'])\n",
    "\n",
    "scores['music'] = 100\n",
    "print(scores)\n",
    "\n",
    "del scores['science']\n",
    "print(scores)\n",
    "\n",
    "print('이름 : %s'%name)\n",
    "print('국어 : %d'%scores['kor'])\n",
    "print('영어 : %d'%scores['eng'])\n",
    "print('수학 : %d'%scores['math'])"
   ]
  },
  {
   "cell_type": "code",
   "execution_count": 41,
   "metadata": {},
   "outputs": [
    {
     "name": "stdout",
     "output_type": "stream",
     "text": [
      "{'갤럭시 노트8': 2017, '갤럭시 S9': 2018, '갤럭시 노트10': 2019, '갤럭시 S20': 2020}\n",
      "갤럭시 노트8 => 2017\n",
      "갤럭시 S9 => 2018\n",
      "갤럭시 노트10 => 2019\n",
      "갤럭시 S20 => 2020\n",
      "4\n"
     ]
    }
   ],
   "source": [
    "# 6-5\n",
    "phones = {'갤럭시 노트8': 2017, '갤럭시 S9':2018, '갤럭시 노트10':2019, '갤럭시 S20':2020}\n",
    "print(phones)\n",
    "\n",
    "for key in phones:\n",
    "    print('%s => %s'%(key,phones[key]))\n",
    "    \n",
    "print(len(phones))"
   ]
  },
  {
   "cell_type": "code",
   "execution_count": 44,
   "metadata": {},
   "outputs": [
    {
     "name": "stdout",
     "output_type": "stream",
     "text": [
      "김예진 : 90\n",
      "박영진 : 95\n",
      "김소희 : 84\n",
      "합계 : 269, 평균 : 89.67\n"
     ]
    }
   ],
   "source": [
    "# Q 6-3\n",
    "scores = {'김예진':90,'박영진':95, '김소희':84}\n",
    "sum = 0\n",
    "for key in scores :\n",
    "    sum += scores[key]\n",
    "    print('%s : %d'%(key,scores[key]))\n",
    "    \n",
    "avg = sum/len(scores)\n",
    "print('합계 : %d, 평균 : %.2f'%(sum,avg))"
   ]
  },
  {
   "cell_type": "code",
   "execution_count": 47,
   "metadata": {},
   "outputs": [
    {
     "name": "stdout",
     "output_type": "stream",
     "text": [
      "아이디를 입력하세요 : admin\n",
      "비밀번호를 입력하세요 : 11111\n",
      "모든 정보에 접근 가능합니다!\n"
     ]
    }
   ],
   "source": [
    "# Q 6-4\n",
    "ad = {'id' : 'admin', 'password':'11111'}\n",
    "in_id = input('아이디를 입력하세요 : ')\n",
    "in_password = input('비밀번호를 입력하세요 : ')\n",
    "\n",
    "if(in_id == ad['id'] and in_password == ad['password']):\n",
    "    print('모든 정보에 접근 가능합니다!')\n",
    "else : \n",
    "    print('정보에 접근 권한이 없습니다!')"
   ]
  },
  {
   "cell_type": "code",
   "execution_count": 49,
   "metadata": {},
   "outputs": [
    {
     "data": {
      "text/plain": [
       "{'health': 490, 'mana': 334, 'melee': 550, 'armor': 18.72}"
      ]
     },
     "execution_count": 49,
     "metadata": {},
     "output_type": "execute_result"
    }
   ],
   "source": [
    "lux1 = dict(health = 490, mana=334, melee=550, armor=18.72) \n",
    "    #dict에서 키=값 형식으로 딕셔너리를 만들 수 있습니다\n",
    "lux1"
   ]
  },
  {
   "cell_type": "code",
   "execution_count": 50,
   "metadata": {},
   "outputs": [
    {
     "data": {
      "text/plain": [
       "{'health': 490, 'mana': 334, 'melee': 550, 'armor': 18.72}"
      ]
     },
     "execution_count": 50,
     "metadata": {},
     "output_type": "execute_result"
    }
   ],
   "source": [
    "lux2 = dict(zip(['health', 'mana', 'melee', 'armor'], [490, 334, 550, 18.72]))\n",
    "lux2"
   ]
  },
  {
   "cell_type": "code",
   "execution_count": 51,
   "metadata": {},
   "outputs": [
    {
     "data": {
      "text/plain": [
       "{'health': 490, 'mana': 334, 'melee': 550, 'armor': 18.72}"
      ]
     },
     "execution_count": 51,
     "metadata": {},
     "output_type": "execute_result"
    }
   ],
   "source": [
    "lux3 = dict([('health', 490), ('mana', 334), ('melee', 550), ('armor', 18.72)])\n",
    "    #리스트 안에 (키, 값) 형식의 튜플을 나열하는 방법입니다.\n",
    "lux3"
   ]
  },
  {
   "cell_type": "code",
   "execution_count": 54,
   "metadata": {},
   "outputs": [
    {
     "data": {
      "text/plain": [
       "True"
      ]
     },
     "execution_count": 54,
     "metadata": {},
     "output_type": "execute_result"
    }
   ],
   "source": [
    "lux = {'health': 490, 'health': 800, 'mana': 334, 'melee': 550, 'armor': 18.72}\n",
    "'health' in lux"
   ]
  },
  {
   "cell_type": "code",
   "execution_count": 55,
   "metadata": {},
   "outputs": [
    {
     "name": "stdout",
     "output_type": "stream",
     "text": [
      "6051.8\n"
     ]
    }
   ],
   "source": [
    "terrestrial_planet = {\n",
    "    'Mercury': {\n",
    "        'mean_radius': 2439.7,\n",
    "        'mass': 3.3022E+23,\n",
    "        'orbital_period': 87.969\n",
    "    },\n",
    "    'Venus': {\n",
    "        'mean_radius': 6051.8,\n",
    "        'mass': 4.8676E+24,\n",
    "        'orbital_period': 224.70069,\n",
    "    },\n",
    "    'Earth': {\n",
    "        'mean_radius': 6371.0,\n",
    "        'mass': 5.97219E+24,\n",
    "        'orbital_period': 365.25641,\n",
    "    },\n",
    "    'Mars': {\n",
    "        'mean_radius': 3389.5,\n",
    "        'mass': 6.4185E+23,\n",
    "        'orbital_period': 686.9600,\n",
    "    }\n",
    "}\n",
    " \n",
    "print(terrestrial_planet['Venus']['mean_radius'])    # 6051.8"
   ]
  },
  {
   "cell_type": "markdown",
   "metadata": {},
   "source": [
    "### 집합(set)"
   ]
  },
  {
   "cell_type": "code",
   "execution_count": 56,
   "metadata": {},
   "outputs": [
    {
     "data": {
      "text/plain": [
       "{'cherry', 'grape', 'orange', 'pineapple', 'strawberry'}"
      ]
     },
     "execution_count": 56,
     "metadata": {},
     "output_type": "execute_result"
    }
   ],
   "source": [
    "fruits = {'strawberry', 'grape', 'orange', 'pineapple', 'cherry'}\n",
    "fruits\n",
    "# 세트는 요소의 순서가 정해져 있지 않습니다(unordered). \n",
    "# 집어넣은 순서대로 나오지 않는다."
   ]
  },
  {
   "cell_type": "code",
   "execution_count": 57,
   "metadata": {},
   "outputs": [
    {
     "data": {
      "text/plain": [
       "{'cherry', 'orange'}"
      ]
     },
     "execution_count": 57,
     "metadata": {},
     "output_type": "execute_result"
    }
   ],
   "source": [
    "fruits = {'orange', 'orange', 'cherry'}\n",
    "fruits\n",
    "# 중복은 제거된다."
   ]
  },
  {
   "cell_type": "code",
   "execution_count": null,
   "metadata": {},
   "outputs": [],
   "source": [
    " "
   ]
  },
  {
   "cell_type": "code",
   "execution_count": null,
   "metadata": {},
   "outputs": [],
   "source": []
  },
  {
   "cell_type": "markdown",
   "metadata": {},
   "source": [
    "# Chapter 7. 함수"
   ]
  },
  {
   "cell_type": "code",
   "execution_count": 60,
   "metadata": {},
   "outputs": [
    {
     "name": "stdout",
     "output_type": "stream",
     "text": [
      "안녕하세요.\n",
      "안녕하세요.\n",
      "안녕하세요.\n"
     ]
    }
   ],
   "source": [
    "# ex7-1\n",
    "def hello() :\n",
    "    print('안녕하세요.')\n",
    "hello()\n",
    "hello()\n",
    "hello()"
   ]
  },
  {
   "cell_type": "code",
   "execution_count": 61,
   "metadata": {},
   "outputs": [
    {
     "name": "stdout",
     "output_type": "stream",
     "text": [
      "7은(는) 홀수이다.\n",
      "16은(는) 짝수이다.\n"
     ]
    }
   ],
   "source": [
    "# ex 7-2\n",
    "def even_odd(num):\n",
    "    if num % 2 == 0:\n",
    "        print('%d은(는) 짝수이다.'%num)\n",
    "    else : \n",
    "        print('%d은(는) 홀수이다.'%num)\n",
    "        \n",
    "even_odd(7)\n",
    "even_odd(16)"
   ]
  },
  {
   "cell_type": "code",
   "execution_count": 21,
   "metadata": {},
   "outputs": [
    {
     "name": "stdout",
     "output_type": "stream",
     "text": [
      "덧셈 5\n",
      "뺄셈 -1\n"
     ]
    }
   ],
   "source": [
    "def add_sub(num1, num2):\n",
    "    print('덧셈', num1 + num2)\n",
    "    print('뺄셈', num1 - num2)\n",
    "    \n",
    "add_sub(2,3)"
   ]
  },
  {
   "cell_type": "code",
   "execution_count": 62,
   "metadata": {},
   "outputs": [
    {
     "name": "stdout",
     "output_type": "stream",
     "text": [
      "김지영님은 빨강을 좋아하지 않습니다.\n",
      "홍채영님은 노랑을 조금 좋아합니다.\n",
      "진소진님은 파랑을 매우 좋아합니다.\n"
     ]
    }
   ],
   "source": [
    "# ex 7-3\n",
    "def favorate_color(name, color, amount):\n",
    "    if(amount == 1):\n",
    "        print('%s님은 %s을 좋아하지 않습니다.'%(name,color))\n",
    "    elif (amount == 2):\n",
    "        print('%s님은 %s을 조금 좋아합니다.'%(name,color))\n",
    "    else:\n",
    "        print('%s님은 %s을 매우 좋아합니다.'%(name,color))\n",
    "        \n",
    "favorate_color('김지영','빨강',1)\n",
    "favorate_color('홍채영','노랑',2)\n",
    "favorate_color('진소진','파랑',3)"
   ]
  },
  {
   "cell_type": "code",
   "execution_count": 24,
   "metadata": {},
   "outputs": [
    {
     "name": "stdout",
     "output_type": "stream",
     "text": [
      "3과목의 평균 : 90.00\n",
      "4과목의 평균 : 81.75\n",
      "5과목의 평균 : 79.40\n"
     ]
    }
   ],
   "source": [
    "# 7-4\n",
    "#임의의 매개변수 *를 사용 \n",
    "# *scores는 호출하는 함수에서 전달하는 변수 또는 데이터의 튜플의 형태로 전달받는다.\n",
    "def average(*scores):  \n",
    "    sum = 0\n",
    "    #for i in range(len(scores)):\n",
    "        #sum += scores[i]\n",
    "    for score in scores:\n",
    "        sum += score\n",
    "        \n",
    "    avg = sum / len(scores)\n",
    "    print('%d과목의 평균 : %.2f'%(len(scores),avg))\n",
    "    \n",
    "average(80,90,100)\n",
    "average(75,80,94,78)\n",
    "average(80,73,76,86,82)"
   ]
  },
  {
   "cell_type": "code",
   "execution_count": 35,
   "metadata": {},
   "outputs": [
    {
     "name": "stdout",
     "output_type": "stream",
     "text": [
      "4과목의 평균 : 83.75\n"
     ]
    }
   ],
   "source": [
    "y = (70, 80, 90,95)\n",
    "average(*y)"
   ]
  },
  {
   "cell_type": "code",
   "execution_count": 20,
   "metadata": {},
   "outputs": [
    {
     "name": "stdout",
     "output_type": "stream",
     "text": [
      "메인 : x =  10 id= 140731397808816\n",
      "func() : x =  100 ,id =  140731397811696\n",
      "메인 : x =  10 id =  140731397808816\n"
     ]
    }
   ],
   "source": [
    "# ex 7-5\n",
    "def func(x):\n",
    "    x = 100\n",
    "    print('func() : x = ', x, ',id = ',id(x))\n",
    "    \n",
    "x = 10\n",
    "print('메인 : x = ', x, 'id=', id(x))\n",
    "func(x)\n",
    "print('메인 : x = ', x, 'id = ',id(x))"
   ]
  },
  {
   "cell_type": "code",
   "execution_count": 25,
   "metadata": {},
   "outputs": [
    {
     "name": "stdout",
     "output_type": "stream",
     "text": [
      "원의 반지름을 입력하세요 : 10\n",
      "반지름 : 10, 원의 면적 : 314.00\n"
     ]
    }
   ],
   "source": [
    "# ex 7-7\n",
    "def circle(radius):\n",
    "    area = 3.14 * radius * radius\n",
    "    return area\n",
    "\n",
    "radius = int(input('원의 반지름을 입력하세요 : '))\n",
    "result = circle(radius)\n",
    "print('반지름 : %d, 원의 면적 : %.2f'%(radius, result))"
   ]
  },
  {
   "cell_type": "code",
   "execution_count": 27,
   "metadata": {},
   "outputs": [
    {
     "name": "stdout",
     "output_type": "stream",
     "text": [
      "원의 반지름을 입력하세요 : 5\n",
      "반지름 : 5, 원의 면적 : 78.50, 원의 둘레 : 31.40\n"
     ]
    }
   ],
   "source": [
    "def new_circle(radius):\n",
    "    area = 3.14 * radius * radius\n",
    "    circum = 2 * 3.14 *radius\n",
    "    return area, circum\n",
    "\n",
    "radius = int(input('원의 반지름을 입력하세요 : '))\n",
    "res1, res2 = new_circle(radius)\n",
    "print('반지름 : %d, 원의 면적 : %.2f, 원의 둘레 : %.2f'%(radius,res1,res2))"
   ]
  },
  {
   "cell_type": "code",
   "execution_count": 31,
   "metadata": {},
   "outputs": [
    {
     "name": "stdout",
     "output_type": "stream",
     "text": [
      "이름:  홍길동\n",
      "나이:  30\n",
      "주소:  서울시 용산구 이촌동\n",
      "\n",
      "이름:  홍길동\n",
      "나이:  30\n",
      "주소:  서울시 용산구 이촌동\n"
     ]
    }
   ],
   "source": [
    "def personal_info(name, age, address):\n",
    "    print('이름: ', name)\n",
    "    print('나이: ', age)    \n",
    "    print('주소: ', address)    \n",
    "    \n",
    "personal_info('홍길동',30, '서울시 용산구 이촌동')\n",
    "print()\n",
    "personal_info(age=30, address='서울시 용산구 이촌동', name='홍길동')"
   ]
  },
  {
   "cell_type": "code",
   "execution_count": 34,
   "metadata": {},
   "outputs": [
    {
     "name": "stdout",
     "output_type": "stream",
     "text": [
      "이름:  홍길동\n",
      "나이:  30\n",
      "주소:  서울시 용산구 이촌동\n"
     ]
    }
   ],
   "source": [
    "x = {'age':30, 'address':'서울시 용산구 이촌동', 'name':'홍길동'}\n",
    "personal_info(**x)"
   ]
  },
  {
   "cell_type": "code",
   "execution_count": 41,
   "metadata": {},
   "outputs": [
    {
     "name": "stdout",
     "output_type": "stream",
     "text": [
      "age: 30\n",
      "address: 서울시 용산구 이촌동\n",
      "name: 홍길동\n"
     ]
    }
   ],
   "source": [
    "# 키워드형 가변인수\n",
    "def personal_info(**kwargs):\n",
    "    for kw, val in kwargs.items():\n",
    "        print(kw, ': ',val,sep='')\n",
    "\n",
    "x = {'age':30, 'address':'서울시 용산구 이촌동', 'name':'홍길동'}\n",
    "personal_info(**x)"
   ]
  },
  {
   "cell_type": "code",
   "execution_count": 42,
   "metadata": {},
   "outputs": [
    {
     "name": "stdout",
     "output_type": "stream",
     "text": [
      "1:2:3"
     ]
    }
   ],
   "source": [
    "# 위치형 가변인수 + 키워드형 가변인수\n",
    "def custom_print(*args, **kwargs):\n",
    "    print(*args, **kwargs)\n",
    "    \n",
    "custom_print(1, 2, 3, sep=':', end='')"
   ]
  },
  {
   "cell_type": "code",
   "execution_count": 43,
   "metadata": {},
   "outputs": [
    {
     "name": "stdout",
     "output_type": "stream",
     "text": [
      "10 ~ 100의 정수 합계 : 5005\n",
      "100 ~ 1000의 정수 합계 : 495550\n",
      "1000 ~ 10000의 정수 합계 : 49505500\n"
     ]
    }
   ],
   "source": [
    "# Q 7-1\n",
    "def sum(start, end):\n",
    "    total = 0\n",
    "    for i in range(start, end+1):\n",
    "        total += i\n",
    "    print('%d ~ %d의 정수 합계 : %d'%(start,end,total))\n",
    "    \n",
    "sum(10,100)\n",
    "sum(100,1000)\n",
    "sum(1000,10000)"
   ]
  },
  {
   "cell_type": "code",
   "execution_count": 45,
   "metadata": {},
   "outputs": [
    {
     "name": "stdout",
     "output_type": "stream",
     "text": [
      "시작 수를 입력하세요 : 10\n",
      "끝 수를 입력하세요 : 100\n",
      "합계를 구할 배수를 입력하세요 : 5\n",
      "10 ~ 100의 정수 중 5의 배수의 합 : 1045\n"
     ]
    }
   ],
   "source": [
    "# Q 7-2\n",
    "def sum_besu(n1,n2,num):\n",
    "    sum = 0\n",
    "    for i in range(n1,n2+1):\n",
    "        if i % num == 0:\n",
    "            sum += i\n",
    "            \n",
    "    return sum\n",
    "\n",
    "start = int(input('시작 수를 입력하세요 : '))\n",
    "end = int(input('끝 수를 입력하세요 : '))\n",
    "besu = int(input('합계를 구할 배수를 입력하세요 : '))\n",
    "\n",
    "result = sum_besu(start,end,besu)\n",
    "\n",
    "print('%d ~ %d의 정수 중 %d의 배수의 합 : %d'%(start,end,besu,result))"
   ]
  },
  {
   "cell_type": "code",
   "execution_count": 46,
   "metadata": {},
   "outputs": [
    {
     "name": "stdout",
     "output_type": "stream",
     "text": [
      "첫번째 수를 입력하세요 : 33\n",
      "두번째 수를 입력하세요 : 44\n",
      "33과(와) 44의 최대공약수 : 11\n"
     ]
    }
   ],
   "source": [
    "# 7-3\n",
    "def computeMaxGang(x,y):\n",
    "    if x>y:\n",
    "        small = y\n",
    "    else:\n",
    "        small = x\n",
    "    \n",
    "    for i in range(1, small+1):\n",
    "        if((x % i == 0) and (y % i == 0)):\n",
    "            result = i\n",
    "    return result\n",
    "\n",
    "num1 = int(input(\"첫번째 수를 입력하세요 : \"))\n",
    "num2 = int(input(\"두번째 수를 입력하세요 : \"))\n",
    "\n",
    "max_gong = computeMaxGang(num1,num2)\n",
    "\n",
    "print('%d과(와) %d의 최대공약수 : %d'%(num1, num2,max_gong))"
   ]
  },
  {
   "cell_type": "code",
   "execution_count": 7,
   "metadata": {},
   "outputs": [
    {
     "name": "stdout",
     "output_type": "stream",
     "text": [
      "6\n",
      "28\n",
      "496\n",
      "8128\n",
      "None\n"
     ]
    }
   ],
   "source": [
    "# 완전수 구하기 답은4 1부터 10000까지 ex) 6 -> 1,2,3,6  1+2+3 = 6\n",
    "    \n",
    "def sum_yaksu(n):\n",
    "    sum = 0\n",
    "    for i in range(1,n):\n",
    "        if n % i == 0:\n",
    "            sum += i\n",
    "    return sum\n",
    "\n",
    " \n",
    "def wonjeansu(start,end):\n",
    "    for i in range(start,end+1):\n",
    "        if i == sum_yaksu(i):\n",
    "            print(i)\n",
    "\n",
    "print(wonjeansu(1,10000))"
   ]
  },
  {
   "cell_type": "code",
   "execution_count": 5,
   "metadata": {},
   "outputs": [
    {
     "name": "stdout",
     "output_type": "stream",
     "text": [
      "25\n",
      "100\n"
     ]
    }
   ],
   "source": [
    "# 7-8\n",
    "x = lambda a : a **2\n",
    "print(x(5))\n",
    "print(x(10))"
   ]
  },
  {
   "cell_type": "code",
   "execution_count": 9,
   "metadata": {},
   "outputs": [
    {
     "name": "stdout",
     "output_type": "stream",
     "text": [
      "10\n"
     ]
    },
    {
     "ename": "NameError",
     "evalue": "name 'xx' is not defined",
     "output_type": "error",
     "traceback": [
      "\u001b[1;31m---------------------------------------------------------------------------\u001b[0m",
      "\u001b[1;31mNameError\u001b[0m                                 Traceback (most recent call last)",
      "\u001b[1;32m<ipython-input-9-cb8f3c8790f1>\u001b[0m in \u001b[0;36m<module>\u001b[1;34m\u001b[0m\n\u001b[0;32m      5\u001b[0m \u001b[1;33m\u001b[0m\u001b[0m\n\u001b[0;32m      6\u001b[0m \u001b[0mfunc\u001b[0m\u001b[1;33m(\u001b[0m\u001b[1;33m)\u001b[0m\u001b[1;33m\u001b[0m\u001b[1;33m\u001b[0m\u001b[0m\n\u001b[1;32m----> 7\u001b[1;33m \u001b[0mfunc\u001b[0m\u001b[1;33m(\u001b[0m\u001b[0mxx\u001b[0m\u001b[1;33m)\u001b[0m\u001b[1;33m\u001b[0m\u001b[1;33m\u001b[0m\u001b[0m\n\u001b[0m",
      "\u001b[1;31mNameError\u001b[0m: name 'xx' is not defined"
     ]
    }
   ],
   "source": [
    "# 7-10\n",
    "def func() :      # 지역변수 xx는 func()내에서만 유효\n",
    "    xx = 10\n",
    "    print(xx)\n",
    "    \n",
    "func()\n",
    "func(xx)"
   ]
  },
  {
   "cell_type": "code",
   "execution_count": 10,
   "metadata": {},
   "outputs": [
    {
     "name": "stdout",
     "output_type": "stream",
     "text": [
      "10\n",
      "140731397808816\n",
      "10\n",
      "140731397808816\n"
     ]
    }
   ],
   "source": [
    "# ex 7-11\n",
    "def func():\n",
    "    print(x)\n",
    "    print(id(x))\n",
    "    \n",
    "x = 10\n",
    "print(x)\n",
    "print(id(x))\n",
    "func()"
   ]
  },
  {
   "cell_type": "markdown",
   "metadata": {},
   "source": [
    "## File 입출력"
   ]
  },
  {
   "cell_type": "code",
   "execution_count": 11,
   "metadata": {},
   "outputs": [
    {
     "name": "stdout",
     "output_type": "stream",
     "text": [
      "파일 쓰기 완료!\n"
     ]
    }
   ],
   "source": [
    "# 7-14\n",
    "file = open('sample.txt','w', encoding='utf8')\n",
    "file.write('안녕하세요. 반갑습니다.')\n",
    "file.close()\n",
    "print('파일 쓰기 완료!')"
   ]
  },
  {
   "cell_type": "code",
   "execution_count": 12,
   "metadata": {},
   "outputs": [
    {
     "name": "stdout",
     "output_type": "stream",
     "text": [
      "파일 쓰기 완료!\n"
     ]
    }
   ],
   "source": [
    "file = open('sample.txt','a', encoding='utf8')\n",
    "file.write('안녕하세요. 반갑습니다.')\n",
    "file.close()\n",
    "print('파일 쓰기 완료!')"
   ]
  },
  {
   "cell_type": "code",
   "execution_count": 13,
   "metadata": {},
   "outputs": [],
   "source": [
    "# 7-15\n",
    "scores = ['김소영 82 80 93 97 93 88',\n",
    "         '정예린 86 100 93 86 90 77',\n",
    "         '이세영 91 88 99 79 92 68',\n",
    "         '정수정 86 100 93 89 92 93',\n",
    "         '박지수 80 100 95 89 90 84']\n",
    "data=''\n",
    "for item in scores :\n",
    "    data += item + '\\n'\n",
    "    \n",
    "file = open('scores.txt','w',encoding='utf8')\n",
    "file.write(data)\n",
    "file.close()"
   ]
  },
  {
   "cell_type": "code",
   "execution_count": 15,
   "metadata": {},
   "outputs": [
    {
     "name": "stdout",
     "output_type": "stream",
     "text": [
      "scores.txt 파일의 내용 : \n",
      "김소영 82 80 93 97 93 88\n",
      "정예린 86 100 93 86 90 77\n",
      "이세영 91 88 99 79 92 68\n",
      "정수정 86 100 93 89 92 93\n",
      "박지수 80 100 95 89 90 84\n",
      "['김소영 82 80 93 97 93 88\\n', '정예린 86 100 93 86 90 77\\n', '이세영 91 88 99 79 92 68\\n', '정수정 86 100 93 89 92 93\\n', '박지수 80 100 95 89 90 84\\n']\n"
     ]
    }
   ],
   "source": [
    "# 7-16\n",
    "file = open('scores.txt', 'r', encoding = 'utf8')\n",
    "lines = file.readlines()\n",
    "\n",
    "print('scores.txt 파일의 내용 : ')\n",
    "for line in lines :\n",
    "    print(line, end='')\n",
    "    \n",
    "file.close()\n",
    "\n",
    "print(lines)"
   ]
  },
  {
   "cell_type": "code",
   "execution_count": 16,
   "metadata": {},
   "outputs": [
    {
     "data": {
      "text/plain": [
       "False"
      ]
     },
     "execution_count": 16,
     "metadata": {},
     "output_type": "execute_result"
    }
   ],
   "source": [
    "capital = 'ABCDEFGHIJKLMNOPQRSTUVWXYZ'\n",
    "'a' in capital"
   ]
  },
  {
   "cell_type": "code",
   "execution_count": null,
   "metadata": {},
   "outputs": [],
   "source": []
  }
 ],
 "metadata": {
  "kernelspec": {
   "display_name": "Python 3",
   "language": "python",
   "name": "python3"
  },
  "language_info": {
   "codemirror_mode": {
    "name": "ipython",
    "version": 3
   },
   "file_extension": ".py",
   "mimetype": "text/x-python",
   "name": "python",
   "nbconvert_exporter": "python",
   "pygments_lexer": "ipython3",
   "version": "3.7.6"
  }
 },
 "nbformat": 4,
 "nbformat_minor": 4
}
