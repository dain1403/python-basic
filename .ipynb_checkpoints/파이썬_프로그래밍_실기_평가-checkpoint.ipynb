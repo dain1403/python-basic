{
 "cells": [
  {
   "cell_type": "markdown",
   "metadata": {},
   "source": [
    "# 파이썬_프로그래밍_실기_평가\n"
   ]
  },
  {
   "cell_type": "code",
   "execution_count": 17,
   "metadata": {},
   "outputs": [
    {
     "name": "stdout",
     "output_type": "stream",
     "text": [
      "   *       *\n",
      "  ***     ***\n",
      " *****   *****\n",
      "******* *******\n"
     ]
    }
   ],
   "source": [
    "# 1번\n",
    "for i in range(1, 8, 2):\n",
    "    k = (7-i)/2\n",
    "    print(\" \"*int(k),end='')\n",
    "    for j in range (i):\n",
    "        print(\"*\",end='')\n",
    "    print(\" \"*int(k)*2,end=' ')\n",
    "    for j in range (i):\n",
    "        print(\"*\",end='')\n",
    "    print()"
   ]
  },
  {
   "cell_type": "code",
   "execution_count": 101,
   "metadata": {},
   "outputs": [
    {
     "name": "stdout",
     "output_type": "stream",
     "text": [
      "정수n(단, c는 3이상)을 입력 : 5\n",
      "[['1', '2', '*', '*', '2'], ['*', '4', '4', '6', '*'], ['*', '3', '*', '*', '*'], ['2', '4', '4', '*', '*'], ['*', '2', '*', '3', '2']]\n"
     ]
    }
   ],
   "source": [
    "#2번\n",
    "import random\n",
    "\n",
    "random_value = ['*','.']\n",
    "r_list = []\n",
    "\n",
    "def create_mine(n):\n",
    "    #r_list = []\n",
    "    \n",
    "    for i in range(n):\n",
    "        line = []\n",
    "        for j in range(n):\n",
    "            line.append(random.choice(random_value))\n",
    "        r_list.append(line)\n",
    " \n",
    "    #print(r_list)\n",
    "    \n",
    "n = int(input(\"정수n(단, c는 3이상)을 입력 : \"))\n",
    "create_mine(n)\n",
    "\n",
    "for i in range(n):\n",
    "    for j in range(n):\n",
    "        if '.' in r_list[i][j]:\n",
    "            count = 0\n",
    "            for k in range(-1,2):\n",
    "                x = i+k;\n",
    "                for l in range(-1,2):\n",
    "                    y = j + l\n",
    "                    if x == -1 or y == -1 or x >= n or y >= n:\n",
    "                        continue\n",
    "                    elif '*' in r_list[x][y]:\n",
    "                        #print('ok')\n",
    "                        count += 1;\n",
    "                        #print(count)\n",
    "            r_list[i][j] = str(count);\n",
    "            \n",
    "print(r_list)    "
   ]
  },
  {
   "cell_type": "code",
   "execution_count": 64,
   "metadata": {},
   "outputs": [
    {
     "data": {
      "image/png": "[encoded data removed]",
      "text/plain": [
       "<Figure size 432x288 with 1 Axes>"
      ]
     },
     "metadata": {
      "needs_background": "light"
     },
     "output_type": "display_data"
    }
   ],
   "source": [
    "# 3번\n",
    "import matplotlib.pyplot as plt\n",
    "%matplotlib inline\n",
    "import numpy as np\n",
    "\n",
    "x = np.arange(-2*np.pi, 2*np.pi, 0.1)\n",
    "y = np.tanh(x)\n",
    "\n",
    "plt.plot(x, y,linewidth = 3)\n",
    "plt.show()"
   ]
  },
  {
   "cell_type": "code",
   "execution_count": 22,
   "metadata": {},
   "outputs": [
    {
     "name": "stdout",
     "output_type": "stream",
     "text": [
      "[['아이유'], ['조정석'], ['오마이걸'], ['볼빨간사춘기'], ['가호 (Gaho)'], ['엠씨더맥스 (M.C the MAX)'], ['Apink (에이핑크)'], ['조이 (JOY)'], ['장범준'], ['태연 (TAEYEON)'], ['방탄소년단'], ['지코 (ZICO)'], ['창모 (CHANGMO)'], ['아이유'], ['폴킴'], ['김필'], ['하현우 (국카스텐)'], ['방탄소년단'], ['전미도'], ['아이유'], ['규현 (KYUHYUN)'], ['어반자카파'], ['노을'], ['ITZY (있지)'], ['오마이걸'], ['Red Velvet (레드벨벳)'], ['진민호'], ['방탄소년단'], ['오반'], ['청하'], ['휘인 (Whee In)'], ['마크툽 (MAKTUB)'], ['폴킴'], ['백현 (BAEKHYUN)'], ['AKMU (악동뮤지션)'], ['방탄소년단'], ['신예영'], ['임영웅'], ['IZ*ONE (아이즈원)'], ['폴킴'], ['방탄소년단'], ['아이유'], ['마마무 (Mamamoo)'], ['권진아'], ['방탄소년단'], ['방탄소년단'], ['방탄소년단'], ['백예린'], ['영탁'], ['폴킴']]\n"
     ]
    }
   ],
   "source": [
    "#4번\n",
    "import requests\n",
    "from bs4 import BeautifulSoup \n",
    "from urllib.request import urlopen\n",
    "import pandas as pd\n",
    "headers = {'User-Agent': 'Mozilla/5.0 (X11; CrOS i686 2268.111.0) AppleWebKit/536.11 (KHTML, like Gecko) Chrome/20.0.1132.57'}\n",
    "\n",
    "url = \"https://www.melon.com/chart/month/index.htm?classCd=DM0000#params%5Bidx%5D=1&params%5BrankMonth%5D=202005&params%5BisFirstDate%5D=false&params%5BisLastDate%5D=true\"\n",
    "res = requests.get(url, headers=headers).text\n",
    "soup = BeautifulSoup(res, \"lxml\")\n",
    "\n",
    "song_name = soup.select(\"#lst50 > td > div > div > div > span > a \")\n",
    "arti_name = soup.select(\"#lst50 > td > div > div > div \")\n",
    "album_name = soup.select(\"#lst50 > td > div > div > div > a\")\n",
    "\n",
    "\n",
    "for i in range(len(arti_name)):\n",
    "    arti_name[i] = arti_name[i].select(\"div > a\")\n",
    "    for j in range(len(arti_name[i])):\n",
    "        arti_name[i][j] = arti_name[i][j].text\n",
    "        \n",
    "artist_name = [x for x in arti_name if x]\n",
    "artist = []\n",
    "album=[]\n",
    "\n",
    "for i in range(len(artist_name)):\n",
    "    for j in range(len(artist_name[i])):\n",
    "        if i % 2 == 0:\n",
    "            artist.append(artist_name[i])\n",
    "        else:    \n",
    "            album.append(artist_name[i])\n",
    "        \n",
    "for i in range(len(song_name)):\n",
    "    song_name[i] = song_name[i].text\n",
    "    \n",
    "for i in range(len(album_name)):\n",
    "    album_name[i] = album_name[i].text\n",
    "\n",
    "\n",
    "# uls = soup.find_all(class_ = 'ellipsis rank01')\n",
    "# uls\n",
    "    \n",
    "# lis = uls[0].find_all('a')\n",
    "# lis\n",
    "print(artist)\n",
    "\n"
   ]
  },
  {
   "cell_type": "code",
   "execution_count": null,
   "metadata": {},
   "outputs": [],
   "source": []
  }
 ],
 "metadata": {
  "kernelspec": {
   "display_name": "Python 3",
   "language": "python",
   "name": "python3"
  },
  "language_info": {
   "codemirror_mode": {
    "name": "ipython",
    "version": 3
   },
   "file_extension": ".py",
   "mimetype": "text/x-python",
   "name": "python",
   "nbconvert_exporter": "python",
   "pygments_lexer": "ipython3",
   "version": "3.7.6"
  }
 },
 "nbformat": 4,
 "nbformat_minor": 4
}
