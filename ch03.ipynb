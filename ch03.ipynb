{
 "cells": [
  {
   "cell_type": "markdown",
   "metadata": {},
   "source": [
    "# Chapter 03. 조건문"
   ]
  },
  {
   "cell_type": "code",
   "execution_count": 4,
   "metadata": {},
   "outputs": [
    {
     "name": "stdout",
     "output_type": "stream",
     "text": [
      "숫자를 입력하세요 : 5\n",
      "양수\n"
     ]
    }
   ],
   "source": [
    "# ex 3-1\n",
    "x = int(input('숫자를 입력하세요 : '))\n",
    "\n",
    "if x > 0:\n",
    "    print('양수')\n",
    "else:\n",
    "    print('0 또는 음수')"
   ]
  },
  {
   "cell_type": "code",
   "execution_count": 1,
   "metadata": {},
   "outputs": [
    {
     "name": "stdout",
     "output_type": "stream",
     "text": [
      "숫자를 입력하세요 : 90\n",
      "양수\n"
     ]
    }
   ],
   "source": [
    "# ex\n",
    "x = int(input('숫자를 입력하세요 : '))\n",
    "\n",
    "if x > 0:\n",
    "    print('양수')\n",
    "else:\n",
    "    if x < 0:\n",
    "        print('음수')\n",
    "    else:\n",
    "        print('0')"
   ]
  },
  {
   "cell_type": "code",
   "execution_count": 7,
   "metadata": {},
   "outputs": [
    {
     "name": "stdout",
     "output_type": "stream",
     "text": [
      "n입력 : 5\n",
      "     *\n",
      "    ***\n",
      "   *****\n",
      "  *******\n",
      " *********\n",
      "  *******\n",
      "   *****\n",
      "    ***\n",
      "     *\n"
     ]
    }
   ],
   "source": [
    "n = int(input('n입력 : '))\n",
    "for i in range (1, n+1) :\n",
    "    print(' '*(n-i),'*'*((i*2)-1))\n",
    "for i in range (n-1, 0, -1) :\n",
    "    print(' '*(n-i),'*'*((i*2)-1))"
   ]
  },
  {
   "cell_type": "code",
   "execution_count": 5,
   "metadata": {},
   "outputs": [
    {
     "name": "stdout",
     "output_type": "stream",
     "text": [
      "필기성적을 입력하세요 : 80\n",
      "실기성적을 입력하세요 : 90\n",
      "합격!\n"
     ]
    }
   ],
   "source": [
    "# ex 3-4\n",
    "score1 = int(input('필기성적을 입력하세요 : '))\n",
    "score2 = int(input('실기성적을 입력하세요 : '))\n",
    "\n",
    "if score1 >= 80 and score2 >= 80:\n",
    "    print('합격!')\n",
    "else:\n",
    "    print('불합격!')"
   ]
  },
  {
   "cell_type": "code",
   "execution_count": 8,
   "metadata": {},
   "outputs": [
    {
     "name": "stdout",
     "output_type": "stream",
     "text": [
      "이름을 입력하세요 : dk\n",
      "이름 : dk\n"
     ]
    }
   ],
   "source": [
    "# 3-6\n",
    "name = input('이름을 입력하세요 : ')\n",
    "\n",
    "if not name :\n",
    "    print('이름이 입력되지 않았다.')\n",
    "else:\n",
    "    print('이름 : %s'%name)"
   ]
  },
  {
   "cell_type": "code",
   "execution_count": 13,
   "metadata": {},
   "outputs": [
    {
     "name": "stdout",
     "output_type": "stream",
     "text": [
      "True\n"
     ]
    }
   ],
   "source": [
    "t=0;    #0, 0.0, None은 false, 그외는 True\n",
    "if t:\n",
    "    print(\"True\")  #0을제외한 나머지\n",
    "else :\n",
    "    print(\"False\")  #0일때"
   ]
  },
  {
   "cell_type": "code",
   "execution_count": 14,
   "metadata": {},
   "outputs": [
    {
     "name": "stdout",
     "output_type": "stream",
     "text": [
      "1\n"
     ]
    }
   ],
   "source": [
    "sum = 0\n",
    "sum += True\n",
    "print(sum)"
   ]
  },
  {
   "cell_type": "code",
   "execution_count": 16,
   "metadata": {},
   "outputs": [
    {
     "name": "stdout",
     "output_type": "stream",
     "text": [
      "나이를 입력하세요 : 3\n",
      "입장료 : 무료\n"
     ]
    }
   ],
   "source": [
    "# ex 3-8\n",
    "age = int(input('나이를 입력하세요 : '))\n",
    "pay = '3000원'\n",
    "\n",
    "if age >= 65 or age < 7:\n",
    "    pay = '무료'\n",
    "    \n",
    "print('입장료 : %s'%pay)"
   ]
  },
  {
   "cell_type": "code",
   "execution_count": 19,
   "metadata": {},
   "outputs": [
    {
     "name": "stdout",
     "output_type": "stream",
     "text": [
      "나이를 입력하세요 : 7\n",
      "입장료 : 1500\n"
     ]
    }
   ],
   "source": [
    "age = int(input('나이를 입력하세요 : '))\n",
    "\n",
    "if age >= 65 or age < 7:\n",
    "    pay = '무료'\n",
    "elif age < 18:\n",
    "    pay = 1500\n",
    "else:\n",
    "    pay = 3000\n",
    "    \n",
    "print('입장료 : %s'%pay)"
   ]
  },
  {
   "cell_type": "code",
   "execution_count": 20,
   "metadata": {},
   "outputs": [
    {
     "name": "stdout",
     "output_type": "stream",
     "text": [
      "점수를 입력하세요 : 83\n",
      "성적 : 83점\n",
      "등급 : B\n"
     ]
    }
   ],
   "source": [
    "# ex 3-10\n",
    "score = int(input('점수를 입력하세요 : '))\n",
    "\n",
    "if score >= 90:\n",
    "    grade = 'A'\n",
    "elif score >= 80:\n",
    "    grade = 'B'\n",
    "elif score >= 70:\n",
    "    grade = 'C'\n",
    "elif score >= 60:\n",
    "    grade = 'D'\n",
    "else :\n",
    "    grede = 'F'\n",
    "    \n",
    "print('성적 : %d점'%score)\n",
    "print('등급 : %s'%grade)"
   ]
  },
  {
   "cell_type": "code",
   "execution_count": 22,
   "metadata": {},
   "outputs": [],
   "source": [
    "# "
   ]
  },
  {
   "cell_type": "code",
   "execution_count": null,
   "metadata": {},
   "outputs": [],
   "source": []
  }
 ],
 "metadata": {
  "kernelspec": {
   "display_name": "Python 3",
   "language": "python",
   "name": "python3"
  },
  "language_info": {
   "codemirror_mode": {
    "name": "ipython",
    "version": 3
   },
   "file_extension": ".py",
   "mimetype": "text/x-python",
   "name": "python",
   "nbconvert_exporter": "python",
   "pygments_lexer": "ipython3",
   "version": "3.7.6"
  }
 },
 "nbformat": 4,
 "nbformat_minor": 4
}
