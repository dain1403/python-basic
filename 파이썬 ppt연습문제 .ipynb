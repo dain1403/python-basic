{
 "cells": [
  {
   "cell_type": "markdown",
   "metadata": {},
   "source": [
    "### 1.조건문"
   ]
  },
  {
   "cell_type": "code",
   "execution_count": 3,
   "metadata": {},
   "outputs": [
    {
     "name": "stdout",
     "output_type": "stream",
     "text": [
      "연도를 입력해주세요 : 2000\n",
      "윤년입니다.\n"
     ]
    }
   ],
   "source": [
    "#1번\n",
    "x = int(input('연도를 입력해주세요 : '))\n",
    "if x % 4 == 0 and (x % 100 != 0 or x % 400 == 0):\n",
    "    print('윤년입니다.')\n",
    "else :\n",
    "    print('윤년이 아닙니다.')"
   ]
  },
  {
   "cell_type": "code",
   "execution_count": 9,
   "metadata": {},
   "outputs": [
    {
     "name": "stdout",
     "output_type": "stream",
     "text": [
      "알람 시각의 시를 입력(24시기준) : 3\n",
      "알람 시각의 분을 입력 : 3\n",
      "2시 18분으로 알람 시각을 고치세요\n"
     ]
    }
   ],
   "source": [
    "# 2번\n",
    "h = int(input('알람 시각의 시를 입력(24시기준) : '))\n",
    "m = int(input('알람 시각의 분을 입력 : '))\n",
    "\n",
    "if m >= 45 :\n",
    "    m -= 45\n",
    "    print('%d시 %d분으로 알람 시각을 고치세요'%(h,m))\n",
    "else :\n",
    "    h -= 1\n",
    "    m -= 45\n",
    "    m += 60\n",
    "    print('%d시 %d분으로 알람 시각을 고치세요'%(h,m))"
   ]
  },
  {
   "cell_type": "code",
   "execution_count": 8,
   "metadata": {},
   "outputs": [
    {
     "name": "stdout",
     "output_type": "stream",
     "text": [
      "첫번째 정수 입력 : 5\n",
      "두번째 정수 입력 : 8\n",
      "세번째 정수 입력 : 7\n",
      "두번째로 큰 값 : 7\n"
     ]
    }
   ],
   "source": [
    "#3번\n",
    "a = int(input('첫번째 정수 입력 : '))\n",
    "b = int(input('두번째 정수 입력 : '))\n",
    "c = int(input('세번째 정수 입력 : '))\n",
    "d = []\n",
    "d.append(a)\n",
    "d.append(b)\n",
    "d.append(c)\n",
    "d = sorted(d)\n",
    "print('두번째로 큰 값 : %d'%d[1])"
   ]
  },
  {
   "cell_type": "code",
   "execution_count": 13,
   "metadata": {},
   "outputs": [
    {
     "name": "stdout",
     "output_type": "stream",
     "text": [
      "a : 200, b : 375 c : 425\n"
     ]
    }
   ],
   "source": [
    "#4번\n",
    "ch = 0\n",
    "for i in range(1,1000):\n",
    "    for j in range(1,1000):\n",
    "        c = 1000 - i - j\n",
    "        if c*c == i*i + j*j and i < j and j < c:\n",
    "            print('a : %d, b : %d c : %d'%(i,j,c))\n",
    "            break;"
   ]
  },
  {
   "cell_type": "markdown",
   "metadata": {},
   "source": [
    "### 2. 반복문"
   ]
  },
  {
   "cell_type": "code",
   "execution_count": 19,
   "metadata": {},
   "outputs": [
    {
     "name": "stdout",
     "output_type": "stream",
     "text": [
      "0 : 5150개\n",
      "1 : 1091개\n",
      "2 : 100개\n",
      "3 : 100개\n",
      "4 : 100개\n",
      "5 : 100개\n",
      "6 : 100개\n",
      "7 : 100개\n",
      "8 : 100개\n",
      "9 : 100개\n"
     ]
    }
   ],
   "source": [
    "#4번###########다시 하기\n",
    "list = [0,0,0,0,0,0,0,0,0,0]\n",
    "for i in range(1,1001):\n",
    "    if i > 9:\n",
    "        list[1] += 1\n",
    "        if i % 10 == 0:\n",
    "            list[0] += i/10\n",
    "        ex = i % 10\n",
    "        list[ex] += 1\n",
    "    else:\n",
    "        list[i%10] += 1\n",
    "\n",
    "for i in range(0,len(list)):\n",
    "    print('%d : %d개'%(i,list[i]))"
   ]
  },
  {
   "cell_type": "code",
   "execution_count": null,
   "metadata": {},
   "outputs": [],
   "source": []
  }
 ],
 "metadata": {
  "kernelspec": {
   "display_name": "Python 3",
   "language": "python",
   "name": "python3"
  },
  "language_info": {
   "codemirror_mode": {
    "name": "ipython",
    "version": 3
   },
   "file_extension": ".py",
   "mimetype": "text/x-python",
   "name": "python",
   "nbconvert_exporter": "python",
   "pygments_lexer": "ipython3",
   "version": "3.7.6"
  }
 },
 "nbformat": 4,
 "nbformat_minor": 4
}
