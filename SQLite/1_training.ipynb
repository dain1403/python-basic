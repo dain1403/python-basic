{
 "cells": [
  {
   "cell_type": "markdown",
   "metadata": {},
   "source": [
    "# SQLite3 훈련"
   ]
  },
  {
   "cell_type": "code",
   "execution_count": 1,
   "metadata": {},
   "outputs": [],
   "source": [
    "import sqlite3"
   ]
  },
  {
   "cell_type": "code",
   "execution_count": 2,
   "metadata": {},
   "outputs": [],
   "source": [
    "conn = sqlite3.connect('./test.db')"
   ]
  },
  {
   "cell_type": "code",
   "execution_count": 3,
   "metadata": {},
   "outputs": [],
   "source": [
    "cur = conn.cursor()\n",
    "cur.execute('SELECT * FROM eagles')\n",
    "rows = cur.fetchall()"
   ]
  },
  {
   "cell_type": "code",
   "execution_count": 4,
   "metadata": {},
   "outputs": [
    {
     "data": {
      "text/plain": [
       "[(1, 57, '정우람', '투수'),\n",
       " (2, 28, '장시환', '투수'),\n",
       " (3, 3, '노태형', '내야수'),\n",
       " (4, 13, '최재훈', '포수'),\n",
       " (5, 52, '김태균', '내이수'),\n",
       " (6, 43, '정은원', '내야수'),\n",
       " (7, 19, '이용규', '외야수'),\n",
       " (8, 44, '서폴드', '투수'),\n",
       " (9, 30, '호잉', '외야수'),\n",
       " (10, 27, '이해창', '포수')]"
      ]
     },
     "execution_count": 4,
     "metadata": {},
     "output_type": "execute_result"
    }
   ],
   "source": [
    "rows"
   ]
  },
  {
   "cell_type": "code",
   "execution_count": 5,
   "metadata": {},
   "outputs": [
    {
     "name": "stdout",
     "output_type": "stream",
     "text": [
      "(1, 57, '정우람', '투수')\n",
      "(2, 28, '장시환', '투수')\n",
      "(8, 44, '서폴드', '투수')\n"
     ]
    }
   ],
   "source": [
    "cur.execute(\"SELECT * FROM eagles WHERE position='투수'\")\n",
    "pitchers = cur.fetchall()\n",
    "for pitcher in pitchers:\n",
    "            print(pitcher)"
   ]
  },
  {
   "cell_type": "markdown",
   "metadata": {},
   "source": [
    "### 데이터 추가"
   ]
  },
  {
   "cell_type": "code",
   "execution_count": 6,
   "metadata": {},
   "outputs": [
    {
     "data": {
      "text/plain": [
       "<sqlite3.Cursor at 0x1ba92a172d0>"
      ]
     },
     "execution_count": 6,
     "metadata": {},
     "output_type": "execute_result"
    }
   ],
   "source": [
    "cur.execute(\"INSERT INTO eagles(back_no, name, position) VALUES(1,'하주석','내야수')\")"
   ]
  },
  {
   "cell_type": "code",
   "execution_count": 7,
   "metadata": {},
   "outputs": [
    {
     "name": "stdout",
     "output_type": "stream",
     "text": [
      "(3, 3, '노태형', '내야수')\n",
      "(6, 43, '정은원', '내야수')\n",
      "(11, 1, '하주석', '내야수')\n"
     ]
    }
   ],
   "source": [
    "cur.execute(\"SELECT * FROM eagles WHERE position='내야수'\")\n",
    "pitchers = cur.fetchall()\n",
    "for pitcher in pitchers:\n",
    "            print(pitcher)"
   ]
  },
  {
   "cell_type": "code",
   "execution_count": 8,
   "metadata": {},
   "outputs": [],
   "source": [
    "## DB에 반영 \n",
    "conn.commit()"
   ]
  },
  {
   "cell_type": "code",
   "execution_count": 9,
   "metadata": {},
   "outputs": [],
   "source": [
    "# 파리메터 : 튜플을 사용해서 전달\n",
    "back_no=25\n",
    "name = '최진행'\n",
    "position = '외야수'\n",
    "sql = \"INSERT INTO eagles(back_no, name, position) VALUES(?, ?, ?)\"\n",
    "cur.execute(sql, (back_no, name, position))\n",
    "conn.commit()"
   ]
  },
  {
   "cell_type": "code",
   "execution_count": 10,
   "metadata": {},
   "outputs": [],
   "source": [
    "# 튜플 리스트 사용 *************************************\n",
    "players = [(38, '안영명','투수'),(54, '서균', '투수')]\n",
    "for player in players:\n",
    "    cur.execute(sql, player)\n",
    "conn.commit()"
   ]
  },
  {
   "cell_type": "code",
   "execution_count": 11,
   "metadata": {},
   "outputs": [],
   "source": [
    "# excutmany 사용\n",
    "players = [(48,'벨','투수'),(53,'김민우','투수')]\n",
    "cur.executemany(sql, players)\n",
    "conn.commit()"
   ]
  },
  {
   "cell_type": "markdown",
   "metadata": {},
   "source": [
    "### 데이터 조회"
   ]
  },
  {
   "cell_type": "code",
   "execution_count": 39,
   "metadata": {},
   "outputs": [
    {
     "name": "stdout",
     "output_type": "stream",
     "text": [
      "(4, 13, '최재훈', '포수')\n",
      "(10, 27, '이해창', '포수')\n"
     ]
    }
   ],
   "source": [
    "# 순회 조회\n",
    "sql = \"SELECT * FROM eagles where position = '포수'\"\n",
    "cur.execute(sql)\n",
    "for result in cur:\n",
    "    print(result)"
   ]
  },
  {
   "cell_type": "code",
   "execution_count": 40,
   "metadata": {},
   "outputs": [
    {
     "name": "stdout",
     "output_type": "stream",
     "text": [
      "(4, 13, '최재훈', '포수')\n"
     ]
    }
   ],
   "source": [
    "# 한 건 조회 *************************************  #많이쓰임\n",
    "cur.execute(sql)\n",
    "result = cur.fetchone()  #fetchone()은 한번에 하나씩 가져옴\n",
    "print(result)"
   ]
  },
  {
   "cell_type": "code",
   "execution_count": 42,
   "metadata": {},
   "outputs": [
    {
     "name": "stdout",
     "output_type": "stream",
     "text": [
      "(10, 27, '이해창', '포수')\n"
     ]
    }
   ],
   "source": [
    "result = cur.fetchone()  \n",
    "print(result)"
   ]
  },
  {
   "cell_type": "code",
   "execution_count": 43,
   "metadata": {},
   "outputs": [
    {
     "data": {
      "text/plain": [
       "[(1, 57, '정우람', '투수'), (2, 28, '장시환', '투수'), (8, 44, '서폴드', '투수')]"
      ]
     },
     "execution_count": 43,
     "metadata": {},
     "output_type": "execute_result"
    }
   ],
   "source": [
    "# 갯수 지정 조회\n",
    "sql = \"SELECT * FROM eagles where position = '투수'\"\n",
    "cur.execute(sql)\n",
    "results = cur.fetchmany(3)  # 다건 조회\n",
    "results"
   ]
  },
  {
   "cell_type": "code",
   "execution_count": 48,
   "metadata": {},
   "outputs": [
    {
     "data": {
      "text/plain": [
       "[(3, 3, '노태형', '내야수'), (6, 43, '정은원', '내야수'), (13, 1, '하주석', '내야수')]"
      ]
     },
     "execution_count": 48,
     "metadata": {},
     "output_type": "execute_result"
    }
   ],
   "source": [
    "# 전부 조회 *************************************\n",
    "sql = \"SELECT * FROM eagles where position = '내야수'\"\n",
    "cur.execute(sql)\n",
    "results = cur.fetchall()  # 모두 조회\n",
    "results"
   ]
  },
  {
   "cell_type": "code",
   "execution_count": 12,
   "metadata": {},
   "outputs": [
    {
     "data": {
      "text/plain": [
       "[(57, '정우람'),\n",
       " (28, '장시환'),\n",
       " (52, '김태균'),\n",
       " (43, '정은원'),\n",
       " (44, '서폴드'),\n",
       " (30, '호잉'),\n",
       " (27, '이해창'),\n",
       " (25, '최진행'),\n",
       " (38, '안영명'),\n",
       " (54, '서균'),\n",
       " (48, '벨'),\n",
       " (53, '김민우')]"
      ]
     },
     "execution_count": 12,
     "metadata": {},
     "output_type": "execute_result"
    }
   ],
   "source": [
    "# 필요한 컬럼만 조회\n",
    "sql = \"select back_no, name from eagles where back_no > 20\"\n",
    "cur.execute(sql)\n",
    "results = cur.fetchall()\n",
    "results"
   ]
  },
  {
   "cell_type": "code",
   "execution_count": 15,
   "metadata": {},
   "outputs": [
    {
     "data": {
      "text/plain": [
       "[(2, 28, '장시환', '투수'),\n",
       " (9, 30, '호잉', '외야수'),\n",
       " (10, 27, '이해창', '포수'),\n",
       " (12, 25, '최진행', '외야수'),\n",
       " (13, 38, '안영명', '투수')]"
      ]
     },
     "execution_count": 15,
     "metadata": {},
     "output_type": "execute_result"
    }
   ],
   "source": [
    "# 백넘버가 30~39 까지인 선수\n",
    "sql = \"select * from eagles where back_no between 20 and 39\"\n",
    "cur.execute(sql)\n",
    "results = cur.fetchall()\n",
    "results"
   ]
  },
  {
   "cell_type": "code",
   "execution_count": 16,
   "metadata": {},
   "outputs": [
    {
     "data": {
      "text/plain": [
       "(1, 57, '정우람', '투수')"
      ]
     },
     "execution_count": 16,
     "metadata": {},
     "output_type": "execute_result"
    }
   ],
   "source": [
    "# 백넘보가 가장 큰 번호를 갖는 선수는?\n",
    "sql = \"select * from eagles order by back_no desc limit 1\"\n",
    "cur.execute(sql)\n",
    "result = cur.fetchone()\n",
    "result"
   ]
  },
  {
   "cell_type": "code",
   "execution_count": 18,
   "metadata": {},
   "outputs": [
    {
     "data": {
      "text/plain": [
       "[('내야수', 4), ('외야수', 3), ('투수', 7), ('포수', 2)]"
      ]
     },
     "execution_count": 18,
     "metadata": {},
     "output_type": "execute_result"
    }
   ],
   "source": [
    "# 포지션별 사람수\n",
    "sql = \"select position, count(*) from eagles group by position\"\n",
    "cur.execute(sql)\n",
    "result = cur.fetchall()\n",
    "result"
   ]
  },
  {
   "cell_type": "markdown",
   "metadata": {},
   "source": [
    "### 검색"
   ]
  },
  {
   "cell_type": "code",
   "execution_count": 20,
   "metadata": {},
   "outputs": [
    {
     "data": {
      "text/plain": [
       "(1, 57, '정우람', '투수')"
      ]
     },
     "execution_count": 20,
     "metadata": {},
     "output_type": "execute_result"
    }
   ],
   "source": [
    "# back_no가 57번인 선수는?\n",
    "back_no = 57\n",
    "sql = \"select * from eagles where back_no = ?\"\n",
    "cur.execute(sql, (back_no,))  #(back_no,)  ->튜플로 만들어서 줘야함\n",
    "result = cur.fetchone()\n",
    "result"
   ]
  },
  {
   "cell_type": "markdown",
   "metadata": {},
   "source": [
    "###  데이터 변경"
   ]
  },
  {
   "cell_type": "code",
   "execution_count": 22,
   "metadata": {},
   "outputs": [],
   "source": [
    "# id가 11인 하주석 선수의 포지션을 외야수로 변경\n",
    "id_ = 11\n",
    "position = '외야수'\n",
    "sql = \"UPDATE eagles SET position = ? WHERE id = ?\"\n",
    "cur.execute(sql, (position, id_))\n",
    "conn.commit()"
   ]
  },
  {
   "cell_type": "markdown",
   "metadata": {},
   "source": [
    "### 데이터 삭제"
   ]
  },
  {
   "cell_type": "code",
   "execution_count": 23,
   "metadata": {},
   "outputs": [],
   "source": [
    "sql = \"DELETE FROM eagles WHERE id = ?\"\n",
    "cur.execute(sql, (id_,))\n",
    "conn.commit()"
   ]
  },
  {
   "cell_type": "code",
   "execution_count": null,
   "metadata": {},
   "outputs": [],
   "source": []
  }
 ],
 "metadata": {
  "kernelspec": {
   "display_name": "Python 3",
   "language": "python",
   "name": "python3"
  },
  "language_info": {
   "codemirror_mode": {
    "name": "ipython",
    "version": 3
   },
   "file_extension": ".py",
   "mimetype": "text/x-python",
   "name": "python",
   "nbconvert_exporter": "python",
   "pygments_lexer": "ipython3",
   "version": "3.7.6"
  }
 },
 "nbformat": 4,
 "nbformat_minor": 4
}
