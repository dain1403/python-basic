{
 "cells": [
  {
   "cell_type": "markdown",
   "metadata": {},
   "source": [
    "# chapter 8. 모듈과 패키지"
   ]
  },
  {
   "cell_type": "code",
   "execution_count": 4,
   "metadata": {},
   "outputs": [
    {
     "name": "stdout",
     "output_type": "stream",
     "text": [
      "7 11 9\n",
      "120\n"
     ]
    }
   ],
   "source": [
    "# ex 8-4\n",
    "import math\n",
    "\n",
    "print(math.floor(7.7),math.ceil(10.1),round(8.6))\n",
    "print(math.factorial(5))"
   ]
  },
  {
   "cell_type": "code",
   "execution_count": 5,
   "metadata": {},
   "outputs": [
    {
     "name": "stdout",
     "output_type": "stream",
     "text": [
      "sin(pi/2) : 1.00\n",
      "cos(pi): -1.00\n",
      "tan(pi*2) -0.00\n"
     ]
    }
   ],
   "source": [
    "# ex 8-5\n",
    "import math as m\n",
    "\n",
    "print('sin(pi/2) : %.2f'%m.sin(m.pi/2))\n",
    "print('cos(pi): %.2f'%m.cos(m.pi))\n",
    "print('tan(pi*2) %.2f'%m.tan(m.pi*2))"
   ]
  },
  {
   "cell_type": "code",
   "execution_count": 11,
   "metadata": {},
   "outputs": [
    {
     "name": "stdout",
     "output_type": "stream",
     "text": [
      "16.0 7.0 2.0\n"
     ]
    }
   ],
   "source": [
    "import math as m\n",
    "print(m.pow(2,4), m.sqrt(49), m.log10(100))  #2의 4제곱,  루트49 , 밑이10인 log100"
   ]
  },
  {
   "cell_type": "code",
   "execution_count": 14,
   "metadata": {},
   "outputs": [
    {
     "name": "stdout",
     "output_type": "stream",
     "text": [
      "3.141592653589793\n"
     ]
    }
   ],
   "source": [
    "from math import pi\n",
    "print(pi)"
   ]
  },
  {
   "cell_type": "markdown",
   "metadata": {},
   "source": [
    "### 함수의 재귀적 호출 (Recursive call)"
   ]
  },
  {
   "cell_type": "code",
   "execution_count": 38,
   "metadata": {},
   "outputs": [
    {
     "data": {
      "text/plain": [
       "120"
      ]
     },
     "execution_count": 38,
     "metadata": {},
     "output_type": "execute_result"
    }
   ],
   "source": [
    "# 펙토리얼 facto(n) = n*facto(n-1)\n",
    "def facto(n):\n",
    "    if n == 0 :\n",
    "        return 1\n",
    "    return n * facto(n-1)\n",
    "\n",
    "facto(5)"
   ]
  },
  {
   "cell_type": "code",
   "execution_count": 9,
   "metadata": {},
   "outputs": [
    {
     "name": "stdout",
     "output_type": "stream",
     "text": [
      "1 1 2 3 5 8 13 21 34 55 89 144 233 377 610 987 1597 2584 4181 "
     ]
    }
   ],
   "source": [
    "# 피보나치 수열\n",
    "def fibonacci(n):\n",
    "    if n == 1 or n == 2:\n",
    "        return 1\n",
    "    return fibonacci(n-1) + fibonacci(n-2)\n",
    "\n",
    "for i in range(1,20):\n",
    "    print(fibonacci(i), end=' ')"
   ]
  },
  {
   "cell_type": "markdown",
   "metadata": {},
   "source": [
    "### Random 모듈"
   ]
  },
  {
   "cell_type": "code",
   "execution_count": 15,
   "metadata": {},
   "outputs": [
    {
     "name": "stdout",
     "output_type": "stream",
     "text": [
      "0.09386948874363532\n",
      "0.6951533077006107\n",
      "0.07425344547738466\n"
     ]
    }
   ],
   "source": [
    "# ex 8-6\n",
    "import random\n",
    "\n",
    "for i in range(3):\n",
    "    print(random.random())  #random()함수는 0.0과 1.0사이의 실수형 난수 발생"
   ]
  },
  {
   "cell_type": "code",
   "execution_count": 17,
   "metadata": {},
   "outputs": [
    {
     "name": "stdout",
     "output_type": "stream",
     "text": [
      "1\n",
      "3\n",
      "5\n",
      "5\n",
      "3\n"
     ]
    }
   ],
   "source": [
    "# ex 8-7\n",
    "import random as rd\n",
    "for i in range(5):\n",
    "    print(rd.randrange(1,11,2))  #1부터 2증가되는 수를 10이하의 수중에 random으로"
   ]
  },
  {
   "cell_type": "code",
   "execution_count": 18,
   "metadata": {},
   "outputs": [
    {
     "name": "stdout",
     "output_type": "stream",
     "text": [
      "2\n",
      "4\n",
      "1\n",
      "1\n",
      "2\n"
     ]
    }
   ],
   "source": [
    "# ex 8-8\n",
    "for i in range(5):\n",
    "    print(rd.randint(1,6))  #1에서 6까지 random으로 "
   ]
  },
  {
   "cell_type": "code",
   "execution_count": 19,
   "metadata": {},
   "outputs": [
    {
     "name": "stdout",
     "output_type": "stream",
     "text": [
      "가위\n",
      "바위\n",
      "보\n",
      "바위\n",
      "가위\n"
     ]
    }
   ],
   "source": [
    "# ex 8-9\n",
    "toss = ['가위','바위','보']\n",
    "\n",
    "for i in range(5):\n",
    "    print(rd.choice(toss))"
   ]
  },
  {
   "cell_type": "code",
   "execution_count": 20,
   "metadata": {},
   "outputs": [
    {
     "name": "stdout",
     "output_type": "stream",
     "text": [
      "['바나나', '사과', '오렌지']\n",
      "['오렌지', '바나나', '사과']\n",
      "['사과', '오렌지', '바나나']\n"
     ]
    }
   ],
   "source": [
    "# 8-10\n",
    "fruits = ['사과', '바나나', '오렌지']\n",
    "\n",
    "for i in range(3):\n",
    "    random.shuffle(fruits)  #순서를 임의로 바꿈\n",
    "    print(fruits)"
   ]
  },
  {
   "cell_type": "code",
   "execution_count": 22,
   "metadata": {},
   "outputs": [
    {
     "name": "stdout",
     "output_type": "stream",
     "text": [
      "------------------------------\n",
      "주사위 던지기 : 1번째\n",
      "나 : 5\n",
      "컴퓨터 : 1\n",
      "나의 승리\n",
      "계속하려면 y를 입력하세요!y\n",
      "------------------------------\n",
      "주사위 던지기 : 2번째\n",
      "나 : 4\n",
      "컴퓨터 : 2\n",
      "나의 승리\n",
      "계속하려면 y를 입력하세요!1\n"
     ]
    }
   ],
   "source": [
    "# 8-11\n",
    "again = 'y'\n",
    "count = 1\n",
    "\n",
    "while again == 'y':\n",
    "    print('-'*30)\n",
    "    print('주사위 던지기 : %d번째'%count)\n",
    "    me = random.randint(1,6)\n",
    "    computer = random.randint(1,6)\n",
    "    print('나 : %d'%me)\n",
    "    print('컴퓨터 : %d'%computer)\n",
    "    \n",
    "    if me > computer : \n",
    "        print('나의 승리')\n",
    "    elif me == computer :\n",
    "        print('무승부')\n",
    "    else:\n",
    "        print('컴퓨터의 승리')\n",
    "        \n",
    "    count += count\n",
    "    again = input('계속하려면 y를 입력하세요!')\n",
    "    "
   ]
  },
  {
   "cell_type": "markdown",
   "metadata": {},
   "source": [
    "### datetime 모듈"
   ]
  },
  {
   "cell_type": "code",
   "execution_count": 25,
   "metadata": {},
   "outputs": [
    {
     "name": "stdout",
     "output_type": "stream",
     "text": [
      "2020-06-03 10:10:11.185390\n",
      "년 : 2020\n",
      "월 : 6\n",
      "일 : 3\n",
      "시 : 10\n",
      "분 : 10\n",
      "초 : 11\n",
      "2020/06/03 10:10:11\n",
      "20-06-03 AM 10:10\n"
     ]
    }
   ],
   "source": [
    "from datetime import datetime\n",
    "\n",
    "today = datetime.now()\n",
    "\n",
    "print(today)\n",
    "print('년 : %s'%today.year)\n",
    "print('월 : %s'%today.month)\n",
    "print('일 : %s'%today.day)\n",
    "print('시 : %s'%today.hour)\n",
    "print('분 : %s'%today.minute)\n",
    "print('초 : %s'%today.second)\n",
    "\n",
    "print(today.strftime('%Y/%m/%d %H:%M:%S'))\n",
    "print(today.strftime('%y-%m-%d %p %I:%M'))  #p282 표8-2 참고"
   ]
  },
  {
   "cell_type": "markdown",
   "metadata": {},
   "source": [
    "### 모듈 생성하기"
   ]
  },
  {
   "cell_type": "code",
   "execution_count": 1,
   "metadata": {},
   "outputs": [
    {
     "name": "stdout",
     "output_type": "stream",
     "text": [
      "안지수님 안녕하세요.\n",
      "홍지영님 반갑습니다.\n",
      "황예림님 만나서 반가워요.\n"
     ]
    }
   ],
   "source": [
    "# ex 8-2\n",
    "import ch08greet as greet\n",
    "\n",
    "print(greet.hello1('안지수'))\n",
    "print(greet.hello2('홍지영'))\n",
    "print(greet.hello3('황예림'))"
   ]
  },
  {
   "cell_type": "code",
   "execution_count": 2,
   "metadata": {},
   "outputs": [
    {
     "name": "stdout",
     "output_type": "stream",
     "text": [
      "1, 1\n",
      "2, 1\n",
      "6, 2\n",
      "24, 3\n",
      "120, 5\n",
      "720, 8\n",
      "5040, 13\n",
      "40320, 21\n",
      "362880, 34\n",
      "3628800, 55\n"
     ]
    }
   ],
   "source": [
    "import ch08util as my_util\n",
    "\n",
    "for i in range(1,11):\n",
    "    print(my_util.facto(i), end=', ')\n",
    "    print(my_util.fibonacci(i))\n"
   ]
  },
  {
   "cell_type": "markdown",
   "metadata": {},
   "source": [
    "# Chapter 9. 객체지향 프로그래밍"
   ]
  },
  {
   "cell_type": "code",
   "execution_count": 43,
   "metadata": {},
   "outputs": [
    {
     "name": "stdout",
     "output_type": "stream",
     "text": [
      "300\n",
      "-100\n",
      "400\n",
      "200\n"
     ]
    }
   ],
   "source": [
    "# ex 9-1\n",
    "class Calculator:\n",
    "    def __init__(self, first, second) :\n",
    "        self.first = first\n",
    "        self.second = second\n",
    "        \n",
    "    def add(self) : \n",
    "        result = self.first + self.second \n",
    "        return result\n",
    "    \n",
    "    def sub(self):\n",
    "        result = self.first - self.second \n",
    "        return result\n",
    "        \n",
    "calc1 = Calculator(100,200)\n",
    "print(calc1.add())\n",
    "print(calc1.sub())\n",
    "\n",
    "calc2 = Calculator(300,100)\n",
    "print(calc2.add())\n",
    "print(calc2.sub())"
   ]
  },
  {
   "cell_type": "code",
   "execution_count": 45,
   "metadata": {},
   "outputs": [
    {
     "name": "stdout",
     "output_type": "stream",
     "text": [
      "300 100\n"
     ]
    }
   ],
   "source": [
    "print(calc2.first, calc2.second)"
   ]
  },
  {
   "cell_type": "code",
   "execution_count": 46,
   "metadata": {},
   "outputs": [
    {
     "data": {
      "text/plain": [
       "1100"
      ]
     },
     "execution_count": 46,
     "metadata": {},
     "output_type": "execute_result"
    }
   ],
   "source": [
    "calc2.first = 500\n",
    "calc2.second = 600\n",
    "calc2.add()"
   ]
  },
  {
   "cell_type": "markdown",
   "metadata": {},
   "source": [
    "### 비공개 속성"
   ]
  },
  {
   "cell_type": "code",
   "execution_count": 57,
   "metadata": {},
   "outputs": [
    {
     "name": "stdout",
     "output_type": "stream",
     "text": [
      "마리아 20 서울시 서초구 반포동 10000\n"
     ]
    }
   ],
   "source": [
    "class Person:   \n",
    "    def __init__(self, name, age, address, wallet):\n",
    "        self.name = name\n",
    "        self.age = age\n",
    "        self.address = address\n",
    "        self.__wallet = wallet    # 변수 앞에 __를 붙여서 비공개 속성으로 만듦\n",
    "       \n",
    "    def to_string(self):\n",
    "        print('%s %d %s %d'%(self.name, self.age, self.address, self.__wallet))\n",
    "        \n",
    "maria = Person('마리아', 20, '서울시 서초구 반포동', 10000)\n",
    "#maria.__wallet -= 10000    # 클래스 바깥에서 비공개 속성에 접근하면 에러가 발생함     \n",
    "\n",
    "maria.to_string()"
   ]
  },
  {
   "cell_type": "markdown",
   "metadata": {},
   "source": [
    "### 상속"
   ]
  },
  {
   "cell_type": "code",
   "execution_count": 53,
   "metadata": {},
   "outputs": [
    {
     "name": "stdout",
     "output_type": "stream",
     "text": [
      "안녕하세요.\n",
      "공부하기\n"
     ]
    }
   ],
   "source": [
    "class Person:\n",
    "    def greeting(self):\n",
    "        print('안녕하세요.')\n",
    " \n",
    "class Student(Person):            \n",
    "    def study(self):\n",
    "        print('공부하기')\n",
    " \n",
    "james = Student()\n",
    "james.greeting()    # 안녕하세요.: 기반 클래스 Person의 메서드 호출\n",
    "james.study()       # 공부하기: 파생 클래스 Student에 추가한 study 메서드"
   ]
  },
  {
   "cell_type": "code",
   "execution_count": 55,
   "metadata": {},
   "outputs": [
    {
     "data": {
      "text/plain": [
       "'Maria'"
      ]
     },
     "execution_count": 55,
     "metadata": {},
     "output_type": "execute_result"
    }
   ],
   "source": [
    "class Person:\n",
    "    def __init__(self, name):\n",
    "        self.name = name\n",
    "    \n",
    "    def greeting(self):\n",
    "        print('안녕하세요.')\n",
    " \n",
    "class Student(Person):            \n",
    "    def study(self):\n",
    "        print('공부하기')\n",
    " \n",
    "maria = Student(\"Maria\")\n",
    "maria.name"
   ]
  },
  {
   "cell_type": "markdown",
   "metadata": {},
   "source": [
    "### 다형성(Polymorphise) - Method Overrideing"
   ]
  },
  {
   "cell_type": "code",
   "execution_count": 4,
   "metadata": {},
   "outputs": [
    {
     "name": "stdout",
     "output_type": "stream",
     "text": [
      "안녕하세요. 파이썬 수업을 듣고 있는 학생입니다.\n"
     ]
    }
   ],
   "source": [
    "class Person:    #기반\n",
    "    def greeting(self):\n",
    "        print('안녕하세요.')\n",
    "        \n",
    "class Student2(Person):   # 파생\n",
    "    def study(self):\n",
    "        print('공부하기')\n",
    "    def greeting(self):\n",
    "        print('안녕하세요. 파이썬 수업을 듣고 있는 학생입니다.')\n",
    "        \n",
    "jason = Student2()\n",
    "jason.greeting()"
   ]
  },
  {
   "cell_type": "code",
   "execution_count": 6,
   "metadata": {},
   "outputs": [
    {
     "name": "stdout",
     "output_type": "stream",
     "text": [
      "안녕하세요.\n"
     ]
    }
   ],
   "source": [
    "class Student(Person):   \n",
    "    def study(self):\n",
    "        print('공부하기')\n",
    "maria = Student()\n",
    "maria.greeting()"
   ]
  },
  {
   "cell_type": "code",
   "execution_count": 11,
   "metadata": {},
   "outputs": [
    {
     "data": {
      "text/plain": [
       "23"
      ]
     },
     "execution_count": 11,
     "metadata": {},
     "output_type": "execute_result"
    }
   ],
   "source": [
    "class Person:\n",
    "    def __init__(self, name):\n",
    "        self.name = name\n",
    "    def greeting(self):\n",
    "        print('안녕하세요.')\n",
    " \n",
    "class Student(Person):     \n",
    "    def __init__(self, age):\n",
    "        self.age = age\n",
    "    def study(self):\n",
    "        print('공부하기')\n",
    "\n",
    "james = Student(23)\n",
    "james.age"
   ]
  },
  {
   "cell_type": "code",
   "execution_count": 12,
   "metadata": {},
   "outputs": [
    {
     "ename": "AttributeError",
     "evalue": "'Student' object has no attribute 'name'",
     "output_type": "error",
     "traceback": [
      "\u001b[1;31m---------------------------------------------------------------------------\u001b[0m",
      "\u001b[1;31mAttributeError\u001b[0m                            Traceback (most recent call last)",
      "\u001b[1;32m<ipython-input-12-9a868ea3ad0a>\u001b[0m in \u001b[0;36m<module>\u001b[1;34m\u001b[0m\n\u001b[1;32m----> 1\u001b[1;33m \u001b[0mjames\u001b[0m\u001b[1;33m.\u001b[0m\u001b[0mname\u001b[0m\u001b[1;33m\u001b[0m\u001b[1;33m\u001b[0m\u001b[0m\n\u001b[0m",
      "\u001b[1;31mAttributeError\u001b[0m: 'Student' object has no attribute 'name'"
     ]
    }
   ],
   "source": [
    "james.name  #에러"
   ]
  },
  {
   "cell_type": "code",
   "execution_count": 14,
   "metadata": {},
   "outputs": [
    {
     "name": "stdout",
     "output_type": "stream",
     "text": [
      "23\n",
      "James\n"
     ]
    }
   ],
   "source": [
    "# 위 문제를 해결\n",
    "class Person:\n",
    "    def __init__(self, name):\n",
    "        self.name = name\n",
    "    def greeting(self):\n",
    "        print('안녕하세요.')\n",
    " \n",
    "class Student(Person):     \n",
    "    def __init__(self,name, age):   ##\n",
    "        super().__init__(name)      ## super 이용해서 부모에 있는 함수까지 이용\n",
    "        self.age = age\n",
    "    def study(self):\n",
    "        print('공부하기')\n",
    "\n",
    "james = Student('James',23)\n",
    "print(james.age)\n",
    "print(james.name)"
   ]
  },
  {
   "cell_type": "markdown",
   "metadata": {},
   "source": [
    "## 객체지향 고급"
   ]
  },
  {
   "cell_type": "code",
   "execution_count": 19,
   "metadata": {},
   "outputs": [],
   "source": [
    "# Static method\n",
    "class Person:\n",
    "    def greeting(self):\n",
    "        print('안녕하세요')\n",
    "    @staticmethod\n",
    "    def hello():\n",
    "        print('Static Method의 hello()')"
   ]
  },
  {
   "cell_type": "code",
   "execution_count": 16,
   "metadata": {},
   "outputs": [
    {
     "name": "stdout",
     "output_type": "stream",
     "text": [
      "Static Method의 hello()\n"
     ]
    }
   ],
   "source": [
    "Person.hello()  #객체를 만들지 않고 바로 쓸수있도록 staticmethod를 이용하여 사용"
   ]
  },
  {
   "cell_type": "code",
   "execution_count": 17,
   "metadata": {},
   "outputs": [
    {
     "name": "stdout",
     "output_type": "stream",
     "text": [
      "안녕하세요\n"
     ]
    }
   ],
   "source": [
    "p = Person()\n",
    "p.greeting()  #객체 만들어서 사용해야함"
   ]
  },
  {
   "cell_type": "code",
   "execution_count": 20,
   "metadata": {},
   "outputs": [
    {
     "ename": "TypeError",
     "evalue": "Person() takes no arguments",
     "output_type": "error",
     "traceback": [
      "\u001b[1;31m---------------------------------------------------------------------------\u001b[0m",
      "\u001b[1;31mTypeError\u001b[0m                                 Traceback (most recent call last)",
      "\u001b[1;32m<ipython-input-20-ce74d7da46fe>\u001b[0m in \u001b[0;36m<module>\u001b[1;34m\u001b[0m\n\u001b[0;32m      1\u001b[0m \u001b[1;31m# 객체 출력\u001b[0m\u001b[1;33m\u001b[0m\u001b[1;33m\u001b[0m\u001b[1;33m\u001b[0m\u001b[0m\n\u001b[1;32m----> 2\u001b[1;33m \u001b[0mmaria\u001b[0m \u001b[1;33m=\u001b[0m \u001b[0mPerson\u001b[0m\u001b[1;33m(\u001b[0m\u001b[1;34m'Maria'\u001b[0m\u001b[1;33m)\u001b[0m\u001b[1;33m\u001b[0m\u001b[1;33m\u001b[0m\u001b[0m\n\u001b[0m\u001b[0;32m      3\u001b[0m \u001b[0mprint\u001b[0m\u001b[1;33m(\u001b[0m\u001b[0mmaria\u001b[0m\u001b[1;33m)\u001b[0m\u001b[1;33m\u001b[0m\u001b[1;33m\u001b[0m\u001b[0m\n",
      "\u001b[1;31mTypeError\u001b[0m: Person() takes no arguments"
     ]
    }
   ],
   "source": [
    "# 객체 출력\n",
    "maria = Person('Maria')\n",
    "print(maria)"
   ]
  },
  {
   "cell_type": "code",
   "execution_count": 23,
   "metadata": {},
   "outputs": [],
   "source": [
    "class Person:\n",
    "    def __init__(self,name):\n",
    "        self.name = name\n",
    "    def greeting(self):\n",
    "        print('안녕하세요')\n",
    "    def __str__(self):\n",
    "        return '반갑습니다.'+self.name +'입니다'"
   ]
  },
  {
   "cell_type": "code",
   "execution_count": 24,
   "metadata": {},
   "outputs": [
    {
     "name": "stdout",
     "output_type": "stream",
     "text": [
      "반갑습니다.Maria입니다\n"
     ]
    }
   ],
   "source": [
    "# 객체 출력\n",
    "maria = Person('Maria')\n",
    "print(maria)"
   ]
  },
  {
   "cell_type": "code",
   "execution_count": 25,
   "metadata": {},
   "outputs": [],
   "source": [
    "# 객체 비교\n",
    "class Student:\n",
    "    def __init__(self,name,age):\n",
    "        self.name = name\n",
    "        self.age = age\n",
    "    def __eq__(self,other):\n",
    "        return self.name == other.name and self.age == other.age"
   ]
  },
  {
   "cell_type": "code",
   "execution_count": 26,
   "metadata": {},
   "outputs": [],
   "source": [
    "a = Student('홍길동',25)\n",
    "b = Student('Maria',25)\n",
    "c = Student('Maria',23)\n",
    "d = Student('홍길동',25)"
   ]
  },
  {
   "cell_type": "code",
   "execution_count": 33,
   "metadata": {},
   "outputs": [
    {
     "data": {
      "text/plain": [
       "False"
      ]
     },
     "execution_count": 33,
     "metadata": {},
     "output_type": "execute_result"
    }
   ],
   "source": [
    "a == b"
   ]
  },
  {
   "cell_type": "code",
   "execution_count": 28,
   "metadata": {},
   "outputs": [
    {
     "data": {
      "text/plain": [
       "False"
      ]
     },
     "execution_count": 28,
     "metadata": {},
     "output_type": "execute_result"
    }
   ],
   "source": [
    "b == c"
   ]
  },
  {
   "cell_type": "code",
   "execution_count": 29,
   "metadata": {},
   "outputs": [
    {
     "data": {
      "text/plain": [
       "True"
      ]
     },
     "execution_count": 29,
     "metadata": {},
     "output_type": "execute_result"
    }
   ],
   "source": [
    "a == d"
   ]
  },
  {
   "cell_type": "code",
   "execution_count": null,
   "metadata": {},
   "outputs": [],
   "source": []
  }
 ],
 "metadata": {
  "kernelspec": {
   "display_name": "Python 3",
   "language": "python",
   "name": "python3"
  },
  "language_info": {
   "codemirror_mode": {
    "name": "ipython",
    "version": 3
   },
   "file_extension": ".py",
   "mimetype": "text/x-python",
   "name": "python",
   "nbconvert_exporter": "python",
   "pygments_lexer": "ipython3",
   "version": "3.7.6"
  }
 },
 "nbformat": 4,
 "nbformat_minor": 4
}
