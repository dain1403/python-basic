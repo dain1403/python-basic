{
 "cells": [
  {
   "cell_type": "markdown",
   "metadata": {},
   "source": [
    "# Chapter 4. 반복문"
   ]
  },
  {
   "cell_type": "code",
   "execution_count": 1,
   "metadata": {},
   "outputs": [
    {
     "name": "stdout",
     "output_type": "stream",
     "text": [
      "안녕하세요 0\n",
      "안녕하세요 1\n",
      "안녕하세요 2\n",
      "안녕하세요 3\n",
      "안녕하세요 4\n"
     ]
    }
   ],
   "source": [
    "# ex 4-1\n",
    "for x in range(5):\n",
    "    print('안녕하세요',x)"
   ]
  },
  {
   "cell_type": "code",
   "execution_count": 2,
   "metadata": {},
   "outputs": [
    {
     "name": "stdout",
     "output_type": "stream",
     "text": [
      "안녕하세요\n",
      "안녕하세요\n",
      "안녕하세요\n",
      "안녕하세요\n",
      "안녕하세요\n"
     ]
    }
   ],
   "source": [
    "# ex 4-2\n",
    "x = 0\n",
    "while x < 5:\n",
    "    print('안녕하세요')\n",
    "    x += 1"
   ]
  },
  {
   "cell_type": "code",
   "execution_count": 3,
   "metadata": {},
   "outputs": [
    {
     "name": "stdout",
     "output_type": "stream",
     "text": [
      "i의 값 1, 합계 : 1\n",
      "i의 값 2, 합계 : 3\n",
      "i의 값 3, 합계 : 6\n",
      "i의 값 4, 합계 : 10\n",
      "i의 값 5, 합계 : 15\n",
      "i의 값 6, 합계 : 21\n",
      "i의 값 7, 합계 : 28\n",
      "i의 값 8, 합계 : 36\n",
      "i의 값 9, 합계 : 45\n",
      "i의 값 10, 합계 : 55\n"
     ]
    }
   ],
   "source": [
    "# ex 4-3\n",
    "sum = 0\n",
    "for i in range(1,11):\n",
    "    sum += i\n",
    "    print('i의 값 %d, 합계 : %d'%(i,sum))"
   ]
  },
  {
   "cell_type": "code",
   "execution_count": 4,
   "metadata": {},
   "outputs": [
    {
     "name": "stdout",
     "output_type": "stream",
     "text": [
      "1 2 3 4 5 6 7 8 9 \n",
      "1 2 3 4 5 6 7 8 9 10 \n",
      "1 3 5 7 9 \n",
      "20 18 16 14 12 10 8 6 4 2 "
     ]
    }
   ],
   "source": [
    "# ex 4-4\n",
    "for i in range(1,10):\n",
    "    print(i,end=' ')\n",
    "print()\n",
    "\n",
    "for i in range(1,11):\n",
    "    print(i,end=' ')\n",
    "print()\n",
    "\n",
    "for i in range(1,10,2):\n",
    "    print(i,end=' ')\n",
    "print()\n",
    "\n",
    "for i in range(20,0,-2):\n",
    "    print(i, end=' ')"
   ]
  },
  {
   "cell_type": "code",
   "execution_count": 9,
   "metadata": {},
   "outputs": [
    {
     "name": "stdout",
     "output_type": "stream",
     "text": [
      "3 6 9 12 15 18 21 24 27 30 33 36 39 42 45 48 51 54 57 60 63 66 69 72 75 78 81 84 87 90 93 96 99 \n",
      " --------------------------------------------------\n",
      "1~100에서 3의 배수의 합계 : 1683\n"
     ]
    }
   ],
   "source": [
    "# ex 4-5\n",
    "sum = 0\n",
    "for i in range(1,101):\n",
    "    if i % 3 == 0:\n",
    "        print('%d'%i,end=' ')\n",
    "        sum += i\n",
    "        \n",
    "print('\\n','-'*50)\n",
    "print('1~100에서 3의 배수의 합계 : %d'%sum)"
   ]
  },
  {
   "cell_type": "code",
   "execution_count": 10,
   "metadata": {},
   "outputs": [
    {
     "name": "stdout",
     "output_type": "stream",
     "text": [
      "영어 문장을 입력하세요 : I see!\n",
      "I\n",
      " \n",
      "s\n",
      "e\n",
      "e\n",
      "!\n"
     ]
    }
   ],
   "source": [
    "# ex 4-6\n",
    "word = input('영어 문장을 입력하세요 : ')\n",
    "\n",
    "for x in word:\n",
    "    print(x)"
   ]
  },
  {
   "cell_type": "code",
   "execution_count": 12,
   "metadata": {},
   "outputs": [
    {
     "name": "stdout",
     "output_type": "stream",
     "text": [
      "------------------------------\n",
      "   섭씨   화씨\n",
      "------------------------------\n",
      "     -20  -13.0\n",
      "     -15   -1.8\n",
      "     -10    9.5\n",
      "      -5   20.8\n",
      "       0   32.0\n",
      "       5   43.2\n",
      "      10   54.5\n",
      "      15   65.8\n",
      "      20   77.0\n",
      "      25   88.2\n",
      "      30   99.5\n",
      "------------------------------\n"
     ]
    }
   ],
   "source": [
    "# ex 4-7\n",
    "print ('-'*30)\n",
    "print('   섭씨   화씨')\n",
    "print('-'*30)\n",
    "\n",
    "for c in range(-20,31,5):\n",
    "    f = c*9.0/4.0 + 32.0\n",
    "    print('%8d %6.1f'%(c,f))\n",
    "    \n",
    "print('-'*30)"
   ]
  },
  {
   "cell_type": "code",
   "execution_count": 13,
   "metadata": {},
   "outputs": [
    {
     "name": "stdout",
     "output_type": "stream",
     "text": [
      "시작 수를 입력하세요 : 100\n",
      "끝 수를 입력하세요 : 200\n",
      "--------------------------------------------------\n",
      "100에서 200까지 5의 배수가 아닌 수의 합계 : 12000\n"
     ]
    }
   ],
   "source": [
    "# Q 4-1\n",
    "n1 = int(input('시작 수를 입력하세요 : '))\n",
    "n2 = int(input('끝 수를 입력하세요 : '))\n",
    "\n",
    "sum = 0 \n",
    "for i in range(n1,n2+1 ):\n",
    "    if i%5 != 0:\n",
    "        sum += i\n",
    "print('-'*50)\n",
    "print('%d에서 %d까지 5의 배수가 아닌 수의 합계 : %d'%(n1,n2,sum))"
   ]
  },
  {
   "cell_type": "code",
   "execution_count": 14,
   "metadata": {},
   "outputs": [
    {
     "name": "stdout",
     "output_type": "stream",
     "text": [
      "하이픈(-)을 뺀 11자리의 휴대폰 번호를 입력하세요 : 01033334444\n",
      "010-3333-4444\n"
     ]
    }
   ],
   "source": [
    "# 4-3\n",
    "phone = input('하이픈(-)을 뺀 11자리의 휴대폰 번호를 입력하세요 : ')\n",
    "\n",
    "number =''\n",
    "for i in range(0,len(phone)):\n",
    "    if(i == 2):\n",
    "        number = number + (phone[2]+'-')\n",
    "    elif(i == 6):\n",
    "        number = number + (phone[6]+'-')\n",
    "    else:\n",
    "        number = number + phone[i]\n",
    "    \n",
    "print(number)\n",
    "        "
   ]
  },
  {
   "cell_type": "code",
   "execution_count": 18,
   "metadata": {},
   "outputs": [
    {
     "name": "stdout",
     "output_type": "stream",
     "text": [
      "--------------------------------------------------\n",
      "센티미터(cm) 인치(inch) 피트(ft) 야드(yd)\n",
      "--------------------------------------------------\n",
      "      10        3.9        0.3        0.1\n",
      "      20        7.9        0.7        0.2\n",
      "      30       11.8        1.0        0.3\n",
      "      40       15.7        1.3        0.4\n",
      "      50       19.7        1.6        0.5\n",
      "      60       23.6        2.0        0.7\n",
      "      70       27.6        2.3        0.8\n",
      "      80       31.5        2.6        0.9\n",
      "      90       35.4        3.0        1.0\n",
      "     100       39.4        3.3        1.1\n",
      "     110       43.3        3.6        1.2\n",
      "     120       47.2        3.9        1.3\n",
      "     130       51.2        4.3        1.4\n",
      "     140       55.1        4.6        1.5\n",
      "     150       59.1        4.9        1.6\n",
      "     160       63.0        5.2        1.7\n",
      "     170       66.9        5.6        1.9\n",
      "     180       70.9        5.9        2.0\n",
      "     190       74.8        6.2        2.1\n",
      "     200       78.7        6.6        2.2\n",
      "--------------------------------------------------\n"
     ]
    }
   ],
   "source": [
    "# Q 4-4\n",
    "print('-'*50)\n",
    "print('센티미터(cm) 인치(inch) 피트(ft) 야드(yd)')\n",
    "print('-'*50)\n",
    "\n",
    "for cm in range (10,201,10):\n",
    "    inch = cm * 0.393701\n",
    "    ft = cm * 0.032808\n",
    "    yd = cm * 0.010936\n",
    "    print('%8d %10.1f %10.1f %10.1f'%(cm,inch,ft,yd))\n",
    "\n",
    "print('-'*50)"
   ]
  },
  {
   "cell_type": "code",
   "execution_count": 20,
   "metadata": {},
   "outputs": [
    {
     "name": "stdout",
     "output_type": "stream",
     "text": [
      "----------------------------------------\n",
      "킬로그램(kg) 파운드(lb) 온스(oz)\n",
      "----------------------------------------\n",
      "      10       22.0      352.7\n",
      "      15       33.1      529.1\n",
      "      20       44.1      705.5\n",
      "      25       55.1      881.8\n",
      "      30       66.1     1058.2\n",
      "      35       77.2     1234.6\n",
      "      40       88.2     1411.0\n",
      "      45       99.2     1587.3\n",
      "      50      110.2     1763.7\n",
      "      55      121.3     1940.1\n",
      "      60      132.3     2116.4\n",
      "      65      143.3     2292.8\n",
      "      70      154.3     2469.2\n",
      "      75      165.3     2645.5\n",
      "      80      176.4     2821.9\n",
      "      85      187.4     2998.3\n",
      "      90      198.4     3174.7\n",
      "      95      209.4     3351.0\n",
      "     100      220.5     3527.4\n",
      "----------------------------------------\n"
     ]
    }
   ],
   "source": [
    "# Q 4-5\n",
    "print('-'*40)\n",
    "print('킬로그램(kg) 파운드(lb) 온스(oz)')\n",
    "print('-'*40)\n",
    "for kg in range(10,101,5):\n",
    "        lb = kg*2.204623\n",
    "        oz = kg*35.273962\n",
    "        print('%8d %10.1f %10.1f'%(kg,lb,oz))\n",
    "        \n",
    "print('-'*40)"
   ]
  },
  {
   "cell_type": "code",
   "execution_count": 22,
   "metadata": {},
   "outputs": [
    {
     "name": "stdout",
     "output_type": "stream",
     "text": [
      "숫자를 입력하세요 : 3049894\n",
      "입력된 숫자 중 홀수의 개수 : 3개\n"
     ]
    }
   ],
   "source": [
    "# Q 4-6\n",
    "number = input('숫자를 입력하세요 : ')\n",
    "total = 0\n",
    "\n",
    "for a in number:\n",
    "    a = int(a)\n",
    "    if(a % 2 == 1):\n",
    "        total += 1\n",
    "\n",
    "print('입력된 숫자 중 홀수의 개수 : %d개'%total)"
   ]
  },
  {
   "cell_type": "code",
   "execution_count": 23,
   "metadata": {},
   "outputs": [
    {
     "name": "stdout",
     "output_type": "stream",
     "text": [
      "--------------------------------------------------\n",
      "2 * 1 = 2\n",
      "2 * 2 = 4\n",
      "2 * 3 = 6\n",
      "2 * 4 = 8\n",
      "2 * 5 = 10\n",
      "2 * 6 = 12\n",
      "2 * 7 = 14\n",
      "2 * 8 = 16\n",
      "2 * 9 = 18\n",
      "--------------------------------------------------\n",
      "3 * 1 = 3\n",
      "3 * 2 = 6\n",
      "3 * 3 = 9\n",
      "3 * 4 = 12\n",
      "3 * 5 = 15\n",
      "3 * 6 = 18\n",
      "3 * 7 = 21\n",
      "3 * 8 = 24\n",
      "3 * 9 = 27\n",
      "--------------------------------------------------\n",
      "4 * 1 = 4\n",
      "4 * 2 = 8\n",
      "4 * 3 = 12\n",
      "4 * 4 = 16\n",
      "4 * 5 = 20\n",
      "4 * 6 = 24\n",
      "4 * 7 = 28\n",
      "4 * 8 = 32\n",
      "4 * 9 = 36\n",
      "--------------------------------------------------\n",
      "5 * 1 = 5\n",
      "5 * 2 = 10\n",
      "5 * 3 = 15\n",
      "5 * 4 = 20\n",
      "5 * 5 = 25\n",
      "5 * 6 = 30\n",
      "5 * 7 = 35\n",
      "5 * 8 = 40\n",
      "5 * 9 = 45\n",
      "--------------------------------------------------\n",
      "6 * 1 = 6\n",
      "6 * 2 = 12\n",
      "6 * 3 = 18\n",
      "6 * 4 = 24\n",
      "6 * 5 = 30\n",
      "6 * 6 = 36\n",
      "6 * 7 = 42\n",
      "6 * 8 = 48\n",
      "6 * 9 = 54\n",
      "--------------------------------------------------\n",
      "7 * 1 = 7\n",
      "7 * 2 = 14\n",
      "7 * 3 = 21\n",
      "7 * 4 = 28\n",
      "7 * 5 = 35\n",
      "7 * 6 = 42\n",
      "7 * 7 = 49\n",
      "7 * 8 = 56\n",
      "7 * 9 = 63\n",
      "--------------------------------------------------\n",
      "8 * 1 = 8\n",
      "8 * 2 = 16\n",
      "8 * 3 = 24\n",
      "8 * 4 = 32\n",
      "8 * 5 = 40\n",
      "8 * 6 = 48\n",
      "8 * 7 = 56\n",
      "8 * 8 = 64\n",
      "8 * 9 = 72\n",
      "--------------------------------------------------\n",
      "9 * 1 = 9\n",
      "9 * 2 = 18\n",
      "9 * 3 = 27\n",
      "9 * 4 = 36\n",
      "9 * 5 = 45\n",
      "9 * 6 = 54\n",
      "9 * 7 = 63\n",
      "9 * 8 = 72\n",
      "9 * 9 = 81\n",
      "--------------------------------------------------\n"
     ]
    }
   ],
   "source": [
    "# ex 4-9\n",
    "print('-'*50)\n",
    "\n",
    "for a in range(2,10):\n",
    "    for b in range(1,10):\n",
    "        c = a*b\n",
    "        print('%d * %d = %d'%(a,b,c))\n",
    "    print('-'*50)\n",
    "\n"
   ]
  },
  {
   "cell_type": "code",
   "execution_count": 30,
   "metadata": {},
   "outputs": [
    {
     "name": "stdout",
     "output_type": "stream",
     "text": [
      "*\n",
      "**\n",
      "***\n",
      "****\n",
      "*****\n",
      "******\n",
      "*******\n",
      "********\n",
      "*********\n",
      "**********\n"
     ]
    }
   ],
   "source": [
    "# Q 4-7\n",
    "for i in range(1,11):\n",
    "    for j in range(1,i+1):   # i까지가 아니라 i+1까지!!!\n",
    "        print('*',end='')\n",
    "    print()"
   ]
  },
  {
   "cell_type": "code",
   "execution_count": 36,
   "metadata": {
    "scrolled": true
   },
   "outputs": [
    {
     "name": "stdout",
     "output_type": "stream",
     "text": [
      "         *\n",
      "        **\n",
      "       ***\n",
      "      ****\n",
      "     *****\n",
      "    ******\n",
      "   *******\n",
      "  ********\n",
      " *********\n",
      "**********\n"
     ]
    }
   ],
   "source": [
    "# 4-8\n",
    "for i in range(1,11):\n",
    "    for j in range(1,11-i):\n",
    "        print(' ',end='')\n",
    "    for k in range(1,i+1):\n",
    "        print('*',end='')\n",
    "    print()"
   ]
  },
  {
   "cell_type": "code",
   "execution_count": 43,
   "metadata": {},
   "outputs": [
    {
     "name": "stdout",
     "output_type": "stream",
     "text": [
      "46 989\n"
     ]
    }
   ],
   "source": [
    "# 합이 1000에 가장 가까운 경우는 1에서부터 얼마까지 더한 경우인가?\n",
    "sum = 0;\n",
    "count = 1;\n",
    "while sum < 1000:\n",
    "    sum += count\n",
    "    count += 1\n",
    "print(count,sum-count)    "
   ]
  },
  {
   "cell_type": "code",
   "execution_count": 50,
   "metadata": {},
   "outputs": [
    {
     "name": "stdout",
     "output_type": "stream",
     "text": [
      "i =  1 : 0 \n",
      "i =  2 : 0 1 \n",
      "i =  3 : 0 1 2 \n",
      "i =  4 : 0 1 2 3 \n",
      "i =  5 : 0 1 2 3 4 \n"
     ]
    }
   ],
   "source": [
    "#중첩에서 break\n",
    "for i in range(1,6):\n",
    "    print('i = ',i,':',end=' ')\n",
    "    for k in range(5):\n",
    "        if k == i :\n",
    "            break;  #자신의 for문만 빠져나옴 ->나와서 print()한후 for i in range(1,6)줄로..\n",
    "        print(k, end=' ')\n",
    "    print()                  "
   ]
  },
  {
   "cell_type": "code",
   "execution_count": null,
   "metadata": {},
   "outputs": [],
   "source": []
  }
 ],
 "metadata": {
  "kernelspec": {
   "display_name": "Python 3",
   "language": "python",
   "name": "python3"
  },
  "language_info": {
   "codemirror_mode": {
    "name": "ipython",
    "version": 3
   },
   "file_extension": ".py",
   "mimetype": "text/x-python",
   "name": "python",
   "nbconvert_exporter": "python",
   "pygments_lexer": "ipython3",
   "version": "3.7.6"
  }
 },
 "nbformat": 4,
 "nbformat_minor": 4
}
