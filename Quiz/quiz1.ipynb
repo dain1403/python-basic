{
 "cells": [
  {
   "cell_type": "markdown",
   "metadata": {},
   "source": [
    "### 문제 : 문자의 입력길이가 n일때, n이하의 수에 대해서 모든 순열의 경우의 수를 나열하시오  ex)문자열이 'abcd'의 경우, 나타날 수 있는 경우의수는a,b,c,d,ab,ac,ad,ba,bc,bd, ..., dbca"
   ]
  },
  {
   "cell_type": "code",
   "execution_count": 2,
   "metadata": {},
   "outputs": [
    {
     "ename": "IndentationError",
     "evalue": "expected an indented block (<ipython-input-2-338ba1f9f3b6>, line 6)",
     "output_type": "error",
     "traceback": [
      "\u001b[1;36m  File \u001b[1;32m\"<ipython-input-2-338ba1f9f3b6>\"\u001b[1;36m, line \u001b[1;32m6\u001b[0m\n\u001b[1;33m    arr = input('문자열 입력 : ')\u001b[0m\n\u001b[1;37m                            ^\u001b[0m\n\u001b[1;31mIndentationError\u001b[0m\u001b[1;31m:\u001b[0m expected an indented block\n"
     ]
    }
   ],
   "source": [
    "def strPermut(arr):\n",
    "    for i in range(len(arr)):\n",
    "         \n",
    "    \n",
    "    \n",
    "arr = input('문자열 입력 : ')\n",
    "print(list(arr))\n",
    "    "
   ]
  },
  {
   "cell_type": "code",
   "execution_count": 11,
   "metadata": {},
   "outputs": [
    {
     "name": "stdout",
     "output_type": "stream",
     "text": [
      "['a', 'ab', 'abc', 'abcd', 'abcde', 'abce', 'abced', 'abd', 'abdc', 'abdce', 'abde', 'abdec', 'abe', 'abec', 'abecd', 'abed', 'abedc', 'ac', 'acb', 'acbd', 'acbde', 'acbe', 'acbed', 'acd', 'acdb', 'acdbe', 'acde', 'acdeb', 'ace', 'aceb', 'acebd', 'aced', 'acedb', 'ad', 'adb', 'adbc', 'adbce', 'adbe', 'adbec', 'adc', 'adcb', 'adcbe', 'adce', 'adceb', 'ade', 'adeb', 'adebc', 'adec', 'adecb', 'ae', 'aeb', 'aebc', 'aebcd', 'aebd', 'aebdc', 'aec', 'aecb', 'aecbd', 'aecd', 'aecdb', 'aed', 'aedb', 'aedbc', 'aedc', 'aedcb', 'b', 'ba', 'bac', 'bacd', 'bacde', 'bace', 'baced', 'bad', 'badc', 'badce', 'bade', 'badec', 'bae', 'baec', 'baecd', 'baed', 'baedc', 'bc', 'bca', 'bcad', 'bcade', 'bcae', 'bcaed', 'bcd', 'bcda', 'bcdae', 'bcde', 'bcdea', 'bce', 'bcea', 'bcead', 'bced', 'bceda', 'bd', 'bda', 'bdac', 'bdace', 'bdae', 'bdaec', 'bdc', 'bdca', 'bdcae', 'bdce', 'bdcea', 'bde', 'bdea', 'bdeac', 'bdec', 'bdeca', 'be', 'bea', 'beac', 'beacd', 'bead', 'beadc', 'bec', 'beca', 'becad', 'becd', 'becda', 'bed', 'beda', 'bedac', 'bedc', 'bedca', 'c', 'ca', 'cab', 'cabd', 'cabde', 'cabe', 'cabed', 'cad', 'cadb', 'cadbe', 'cade', 'cadeb', 'cae', 'caeb', 'caebd', 'caed', 'caedb', 'cb', 'cba', 'cbad', 'cbade', 'cbae', 'cbaed', 'cbd', 'cbda', 'cbdae', 'cbde', 'cbdea', 'cbe', 'cbea', 'cbead', 'cbed', 'cbeda', 'cd', 'cda', 'cdab', 'cdabe', 'cdae', 'cdaeb', 'cdb', 'cdba', 'cdbae', 'cdbe', 'cdbea', 'cde', 'cdea', 'cdeab', 'cdeb', 'cdeba', 'ce', 'cea', 'ceab', 'ceabd', 'cead', 'ceadb', 'ceb', 'ceba', 'cebad', 'cebd', 'cebda', 'ced', 'ceda', 'cedab', 'cedb', 'cedba', 'd', 'da', 'dab', 'dabc', 'dabce', 'dabe', 'dabec', 'dac', 'dacb', 'dacbe', 'dace', 'daceb', 'dae', 'daeb', 'daebc', 'daec', 'daecb', 'db', 'dba', 'dbac', 'dbace', 'dbae', 'dbaec', 'dbc', 'dbca', 'dbcae', 'dbce', 'dbcea', 'dbe', 'dbea', 'dbeac', 'dbec', 'dbeca', 'dc', 'dca', 'dcab', 'dcabe', 'dcae', 'dcaeb', 'dcb', 'dcba', 'dcbae', 'dcbe', 'dcbea', 'dce', 'dcea', 'dceab', 'dceb', 'dceba', 'de', 'dea', 'deab', 'deabc', 'deac', 'deacb', 'deb', 'deba', 'debac', 'debc', 'debca', 'dec', 'deca', 'decab', 'decb', 'decba', 'e', 'ea', 'eab', 'eabc', 'eabcd', 'eabd', 'eabdc', 'eac', 'eacb', 'eacbd', 'eacd', 'eacdb', 'ead', 'eadb', 'eadbc', 'eadc', 'eadcb', 'eb', 'eba', 'ebac', 'ebacd', 'ebad', 'ebadc', 'ebc', 'ebca', 'ebcad', 'ebcd', 'ebcda', 'ebd', 'ebda', 'ebdac', 'ebdc', 'ebdca', 'ec', 'eca', 'ecab', 'ecabd', 'ecad', 'ecadb', 'ecb', 'ecba', 'ecbad', 'ecbd', 'ecbda', 'ecd', 'ecda', 'ecdab', 'ecdb', 'ecdba', 'ed', 'eda', 'edab', 'edabc', 'edac', 'edacb', 'edb', 'edba', 'edbac', 'edbc', 'edbca', 'edc', 'edca', 'edcab', 'edcb', 'edcba']\n"
     ]
    }
   ],
   "source": [
    "def combinations(s):\n",
    "    #mapper work\n",
    "    if len(s) < 2:\n",
    "        return s\n",
    "    res = []\n",
    "    #reduce work\n",
    "    for i, c in enumerate(s):\n",
    "        res.append(c)\n",
    "        #print(i, c, res)\n",
    "        for j in combinations(s[ :i] + s[i+1:]):\n",
    "            res.append(c+j)\n",
    "            #print(j, res)\n",
    "            #print(i, c, j, res)\n",
    "    return res\n",
    "\n",
    "if __name__ == \"__main__\":\n",
    "    result = combinations(\"abcde\")\n",
    "    print(result)"
   ]
  },
  {
   "cell_type": "code",
   "execution_count": null,
   "metadata": {},
   "outputs": [],
   "source": []
  },
  {
   "cell_type": "code",
   "execution_count": null,
   "metadata": {},
   "outputs": [],
   "source": []
  },
  {
   "cell_type": "code",
   "execution_count": 4,
   "metadata": {},
   "outputs": [
    {
     "ename": "IndentationError",
     "evalue": "expected an indented block (<ipython-input-4-5548e52bbbe1>, line 6)",
     "output_type": "error",
     "traceback": [
      "\u001b[1;36m  File \u001b[1;32m\"<ipython-input-4-5548e52bbbe1>\"\u001b[1;36m, line \u001b[1;32m6\u001b[0m\n\u001b[1;33m    html = doc.read().decode()\u001b[0m\n\u001b[1;37m       ^\u001b[0m\n\u001b[1;31mIndentationError\u001b[0m\u001b[1;31m:\u001b[0m expected an indented block\n"
     ]
    }
   ],
   "source": [
    "from urllib import request as url\n",
    "import re\n",
    "from collections import Counter\n",
    "def wordcount(url_input):\n",
    "    with url.urlopen(url_input) as doc:\n",
    "    html = doc.read().decode()\n",
    "    words = re.findall(r\"\\w+\", html)\n",
    "\n",
    "    frequency = Counter(word).most_common()\n",
    "\n",
    "    return frequency"
   ]
  },
  {
   "cell_type": "code",
   "execution_count": 8,
   "metadata": {},
   "outputs": [
    {
     "ename": "SyntaxError",
     "evalue": "EOL while scanning string literal (<ipython-input-8-908d24bda7d7>, line 2)",
     "output_type": "error",
     "traceback": [
      "\u001b[1;36m  File \u001b[1;32m\"<ipython-input-8-908d24bda7d7>\"\u001b[1;36m, line \u001b[1;32m2\u001b[0m\n\u001b[1;33m    result = wordcount(\"https://www.daum.net\\\")\u001b[0m\n\u001b[1;37m                                               ^\u001b[0m\n\u001b[1;31mSyntaxError\u001b[0m\u001b[1;31m:\u001b[0m EOL while scanning string literal\n"
     ]
    }
   ],
   "source": [
    "if __name__ == '__main__':\n",
    "   result = wordcount(\"https://www.daum.net\\\")\n",
    "   print(result)"
   ]
  },
  {
   "cell_type": "code",
   "execution_count": 10,
   "metadata": {},
   "outputs": [],
   "source": [
    "from urllib import request as url\n",
    "import re\n",
    "from collections import Counter\n",
    "def wordcount1(url_input):\n",
    "    with url.urlopen(url_input) as doc:\n",
    "        html = doc.read().decode()\n",
    "        words = re.findall(r\"\\w\",html)\n",
    "        #중복단어 제거\n",
    "        #words = set(words)\n",
    "        \n",
    "    frequency = Counter(words).most_common()\n",
    "    #키워드 트랜드\n",
    "    sorted(frequency, key = lambda frequency: frequency[1])\n",
    "    \n",
    "    return frequency"
   ]
  },
  {
   "cell_type": "code",
   "execution_count": 11,
   "metadata": {},
   "outputs": [
    {
     "name": "stdout",
     "output_type": "stream",
     "text": [
      "[('t', 13442), ('a', 13221), ('i', 10858), ('e', 9858), ('o', 9208), ('n', 8642), ('s', 7812), ('p', 6977), ('r', 6758), ('l', 6596), ('d', 6294), ('c', 5649), ('_', 5244), ('m', 4227), ('g', 4038), ('h', 3938), ('x', 3446), ('0', 3165), ('u', 2999), ('1', 2769), ('b', 2753), ('f', 2259), ('k', 1993), ('2', 1842), ('y', 1703), ('w', 1690), ('v', 1437), ('3', 1043), ('6', 992), ('4', 949), ('8', 890), ('9', 865), ('5', 853), ('7', 646), ('B', 274), ('C', 264), ('스', 254), ('이', 247), ('z', 226), ('E', 146), ('N', 126), ('A', 120), ('S', 117), ('비', 115), ('서', 113), ('영', 108), ('T', 103), ('기', 102), ('j', 98), ('D', 90), ('카', 86), ('G', 80), ('보', 78), ('탭', 71), ('오', 69), ('어', 68), ('지', 68), ('재', 68), ('소', 67), ('트', 66), ('의', 65), ('클', 62), ('릭', 59), ('q', 55), ('토', 55), ('리', 55), ('타', 55), ('뉴', 51), ('상', 50), ('레', 50), ('도', 50), ('로', 49), ('포', 48), ('전', 48), ('미', 45), ('역', 45), ('더', 44), ('하', 43), ('터', 43), ('일', 42), ('P', 40), ('다', 39), ('고', 38), ('게', 37), ('틀', 37), ('Y', 35), ('음', 35), ('I', 35), ('아', 35), ('동', 34), ('M', 32), ('정', 32), ('가', 31), ('인', 31), ('단', 31), ('사', 31), ('날', 31), ('씨', 31), ('늘', 30), ('시', 30), ('운', 30), ('O', 29), ('F', 28), ('는', 28), ('그', 25), ('한', 25), ('장', 24), ('W', 24), ('검', 23), ('데', 23), ('색', 22), ('L', 22), ('라', 22), ('텍', 22), ('제', 21), ('버', 20), ('에', 20), ('주', 19), ('체', 18), ('썸', 18), ('네', 18), ('H', 17), ('V', 17), ('대', 17), ('은', 16), ('튼', 16), ('구', 16), ('해', 16), ('푸', 16), ('R', 15), ('바', 15), ('치', 15), ('원', 15), ('수', 14), ('성', 14), ('박', 14), ('개', 14), ('테', 14), ('X', 13), ('요', 13), ('자', 13), ('드', 13), ('K', 13), ('우', 13), ('들', 13), ('나', 12), ('경', 12), ('국', 12), ('크', 12), ('내', 11), ('니', 11), ('화', 11), ('회', 11), ('J', 11), ('츠', 10), ('유', 10), ('Z', 10), ('식', 10), ('세', 10), ('U', 9), ('디', 9), ('메', 9), ('림', 9), ('창', 9), ('부', 9), ('현', 9), ('문', 9), ('름', 9), ('여', 9), ('베', 9), ('안', 8), ('입', 8), ('예', 8), ('발', 8), ('진', 8), ('과', 8), ('천', 8), ('페', 8), ('민', 8), ('산', 8), ('온', 8), ('계', 8), ('김', 8), ('방', 8), ('직', 8), ('려', 8), ('신', 8), ('실', 7), ('핑', 7), ('웹', 7), ('통', 7), ('위', 7), ('연', 7), ('임', 7), ('추', 7), ('금', 7), ('북', 7), ('모', 7), ('만', 7), ('관', 6), ('를', 6), ('티', 6), ('쇼', 6), ('접', 6), ('광', 6), ('생', 6), ('차', 6), ('결', 6), ('항', 6), ('브', 6), ('공', 6), ('패', 6), ('울', 6), ('많', 6), ('후', 6), ('면', 6), ('용', 6), ('각', 6), ('명', 6), ('피', 6), ('열', 6), ('돋', 5), ('움', 5), ('굴', 5), ('블', 5), ('행', 5), ('합', 5), ('속', 5), ('불', 5), ('코', 5), ('마', 5), ('증', 5), ('같', 5), ('션', 5), ('선', 5), ('흐', 5), ('조', 5), ('청', 5), ('으', 5), ('훈', 5), ('목', 5), ('최', 5), ('심', 4), ('있', 4), ('근', 4), ('거', 4), ('채', 4), ('격', 4), ('배', 4), ('을', 4), ('권', 4), ('툰', 4), ('런', 4), ('커', 4), ('닫', 4), ('때', 4), ('당', 4), ('러', 4), ('즈', 4), ('감', 4), ('맛', 4), ('투', 4), ('년', 4), ('야', 4), ('무', 4), ('폭', 4), ('호', 4), ('출', 4), ('월', 4), ('혼', 4), ('템', 4), ('등', 4), ('록', 4), ('책', 4), ('즐', 3), ('설', 3), ('력', 3), ('활', 3), ('석', 3), ('파', 3), ('셜', 3), ('너', 3), ('작', 3), ('뮤', 3), ('엔', 3), ('노', 3), ('강', 3), ('남', 3), ('먼', 3), ('택', 3), ('취', 3), ('빼', 3), ('함', 3), ('반', 3), ('객', 3), ('형', 3), ('초', 3), ('법', 3), ('촉', 3), ('건', 3), ('첫', 3), ('표', 3), ('편', 3), ('솔', 3), ('알', 3), ('립', 3), ('Q', 3), ('태', 3), ('플', 3), ('집', 3), ('람', 3), ('업', 3), ('념', 3), ('걸', 3), ('르', 3), ('싸', 3), ('누', 3), ('밤', 3), ('낚', 3), ('처', 3), ('침', 3), ('약', 3), ('콘', 2), ('볼', 2), ('맑', 2), ('딕', 2), ('간', 2), ('슈', 2), ('멀', 2), ('익', 2), ('키', 2), ('두', 2), ('혜', 2), ('곳', 2), ('별', 2), ('프', 2), ('팩', 2), ('백', 2), ('엑', 2), ('뷰', 2), ('철', 2), ('링', 2), ('충', 2), ('분', 2), ('손', 2), ('님', 2), ('흥', 2), ('혁', 2), ('독', 2), ('달', 2), ('말', 2), ('까', 2), ('른', 2), ('혹', 2), ('징', 2), ('협', 2), ('루', 2), ('료', 2), ('외', 2), ('교', 2), ('저', 2), ('홍', 2), ('언', 2), ('종', 2), ('짜', 2), ('홈', 2), ('킹', 2), ('와', 2), ('했', 2), ('극', 2), ('없', 2), ('딩', 2), ('판', 2), ('되', 2), ('싶', 2), ('워', 2), ('얼', 2), ('것', 2), ('뿜', 2), ('헤', 2), ('희', 2), ('본', 2), ('물', 2), ('송', 2), ('즘', 2), ('맞', 2), ('군', 2), ('헬', 2), ('풍', 2), ('절', 2), ('괜', 2), ('찮', 2), ('멍', 2), ('딧', 2), ('美', 2), ('컷', 2), ('붙', 2), ('빠', 2), ('준', 2), ('딸', 2), ('빈', 2), ('엄', 2), ('쏙', 2), ('닮', 2), ('염', 2), ('덮', 2), ('잠', 2), ('文', 2), ('령', 2), ('친', 2), ('묵', 2), ('족', 2), ('갤', 2), ('휴', 2), ('센', 2), ('텐', 1), ('겁', 1), ('탑', 1), ('글', 1), ('뷔', 1), ('참', 1), ('쁜', 1), ('복', 1), ('황', 1), ('맥', 1), ('쟁', 1), ('케', 1), ('융', 1), ('멜', 1), ('론', 1), ('젝', 1), ('학', 1), ('번', 1), ('길', 1), ('찾', 1), ('롤', 1), ('갬', 1), ('펼', 1), ('됨', 1), ('술', 1), ('앗', 1), ('몰', 1), ('좋', 1), ('득', 1), ('란', 1), ('받', 1), ('붕', 1), ('류', 1), ('폼', 1), ('된', 1), ('탈', 1), ('츰', 1), ('춤', 1), ('찰', 1), ('허', 1), ('힘', 1), ('겨', 1), ('난', 1), ('못', 1), ('냈', 1), ('중', 1), ('평', 1), ('텝', 1), ('꼬', 1), ('委', 1), ('中', 1), ('콩', 1), ('련', 1), ('韓', 1), ('올', 1), ('률', 1), ('망', 1), ('락', 1), ('양', 1), ('범', 1), ('께', 1), ('할', 1), ('삐', 1), ('끊', 1), ('北', 1), ('뢰', 1), ('랭', 1), ('환', 1), ('율', 1), ('던', 1), ('엽', 1), ('럼', 1), ('봐', 1), ('적', 1), ('춘', 1), ('뇌', 1), ('혈', 1), ('돈', 1), ('규', 1), ('악', 1), ('떠', 1), ('쉬', 1), ('져', 1), ('걀', 1), ('껍', 1), ('질', 1), ('렇', 1), ('갑', 1), ('점', 1), ('겼', 1), ('긍', 1), ('엠', 1), ('퍼', 1), ('슬', 1), ('돌', 1), ('섭', 1), ('찔', 1), ('팬', 1), ('새', 1), ('척', 1), ('필', 1), ('골', 1), ('럭', 1), ('훔', 1), ('쳐', 1), ('앉', 1), ('축', 1), ('뜻', 1), ('쿠', 1), ('머', 1), ('갖', 1), ('샤', 1), ('넬', 1), ('컬', 1), ('렉', 1), ('엘', 1), ('끝', 1), ('왕', 1), ('혀', 1), ('촌', 1), ('럽', 1), ('않', 1), ('놀', 1), ('좌', 1), ('특', 1), ('닥', 1), ('찌', 1), ('턴', 1), ('큼', 1), ('렌', 1), ('깅', 1), ('샷', 1), ('뚱', 1), ('급', 1), ('튜', 1), ('량', 1), ('담', 1), ('총', 1), ('히', 1), ('믿', 1), ('밀', 1), ('랜', 1), ('획', 1), ('매', 1), ('및', 1)]\n"
     ]
    }
   ],
   "source": [
    "if __name__ == '__main__':\n",
    "    result = wordcount1('https://www.daum.net/')\n",
    "    print(result)"
   ]
  },
  {
   "cell_type": "code",
   "execution_count": null,
   "metadata": {},
   "outputs": [],
   "source": []
  }
 ],
 "metadata": {
  "kernelspec": {
   "display_name": "Python 3",
   "language": "python",
   "name": "python3"
  },
  "language_info": {
   "codemirror_mode": {
    "name": "ipython",
    "version": 3
   },
   "file_extension": ".py",
   "mimetype": "text/x-python",
   "name": "python",
   "nbconvert_exporter": "python",
   "pygments_lexer": "ipython3",
   "version": "3.7.6"
  }
 },
 "nbformat": 4,
 "nbformat_minor": 4
}
