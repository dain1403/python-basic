{
 "cells": [
  {
   "cell_type": "markdown",
   "metadata": {},
   "source": [
    "### 문제 : 문자의 입력길이가 n일때, n이하의 수에 대해서 모든 순열의 경우의 수를 나열하시오  ex)문자열이 'abcd'의 경우, 나타날 수 있는 경우의수는a,b,c,d,ab,ac,ad,ba,bc,bd, ..., dbca"
   ]
  },
  {
   "cell_type": "code",
   "execution_count": 2,
   "metadata": {},
   "outputs": [
    {
     "ename": "IndentationError",
     "evalue": "expected an indented block (<ipython-input-2-338ba1f9f3b6>, line 6)",
     "output_type": "error",
     "traceback": [
      "\u001b[1;36m  File \u001b[1;32m\"<ipython-input-2-338ba1f9f3b6>\"\u001b[1;36m, line \u001b[1;32m6\u001b[0m\n\u001b[1;33m    arr = input('문자열 입력 : ')\u001b[0m\n\u001b[1;37m                            ^\u001b[0m\n\u001b[1;31mIndentationError\u001b[0m\u001b[1;31m:\u001b[0m expected an indented block\n"
     ]
    }
   ],
   "source": [
    "def strPermut(arr):\n",
    "    for i in range(len(arr)):\n",
    "         \n",
    "    \n",
    "    \n",
    "arr = input('문자열 입력 : ')\n",
    "print(list(arr))\n",
    "    "
   ]
  },
  {
   "cell_type": "code",
   "execution_count": 11,
   "metadata": {},
   "outputs": [
    {
     "name": "stdout",
     "output_type": "stream",
     "text": [
      "['a', 'ab', 'abc', 'abcd', 'abcde', 'abce', 'abced', 'abd', 'abdc', 'abdce', 'abde', 'abdec', 'abe', 'abec', 'abecd', 'abed', 'abedc', 'ac', 'acb', 'acbd', 'acbde', 'acbe', 'acbed', 'acd', 'acdb', 'acdbe', 'acde', 'acdeb', 'ace', 'aceb', 'acebd', 'aced', 'acedb', 'ad', 'adb', 'adbc', 'adbce', 'adbe', 'adbec', 'adc', 'adcb', 'adcbe', 'adce', 'adceb', 'ade', 'adeb', 'adebc', 'adec', 'adecb', 'ae', 'aeb', 'aebc', 'aebcd', 'aebd', 'aebdc', 'aec', 'aecb', 'aecbd', 'aecd', 'aecdb', 'aed', 'aedb', 'aedbc', 'aedc', 'aedcb', 'b', 'ba', 'bac', 'bacd', 'bacde', 'bace', 'baced', 'bad', 'badc', 'badce', 'bade', 'badec', 'bae', 'baec', 'baecd', 'baed', 'baedc', 'bc', 'bca', 'bcad', 'bcade', 'bcae', 'bcaed', 'bcd', 'bcda', 'bcdae', 'bcde', 'bcdea', 'bce', 'bcea', 'bcead', 'bced', 'bceda', 'bd', 'bda', 'bdac', 'bdace', 'bdae', 'bdaec', 'bdc', 'bdca', 'bdcae', 'bdce', 'bdcea', 'bde', 'bdea', 'bdeac', 'bdec', 'bdeca', 'be', 'bea', 'beac', 'beacd', 'bead', 'beadc', 'bec', 'beca', 'becad', 'becd', 'becda', 'bed', 'beda', 'bedac', 'bedc', 'bedca', 'c', 'ca', 'cab', 'cabd', 'cabde', 'cabe', 'cabed', 'cad', 'cadb', 'cadbe', 'cade', 'cadeb', 'cae', 'caeb', 'caebd', 'caed', 'caedb', 'cb', 'cba', 'cbad', 'cbade', 'cbae', 'cbaed', 'cbd', 'cbda', 'cbdae', 'cbde', 'cbdea', 'cbe', 'cbea', 'cbead', 'cbed', 'cbeda', 'cd', 'cda', 'cdab', 'cdabe', 'cdae', 'cdaeb', 'cdb', 'cdba', 'cdbae', 'cdbe', 'cdbea', 'cde', 'cdea', 'cdeab', 'cdeb', 'cdeba', 'ce', 'cea', 'ceab', 'ceabd', 'cead', 'ceadb', 'ceb', 'ceba', 'cebad', 'cebd', 'cebda', 'ced', 'ceda', 'cedab', 'cedb', 'cedba', 'd', 'da', 'dab', 'dabc', 'dabce', 'dabe', 'dabec', 'dac', 'dacb', 'dacbe', 'dace', 'daceb', 'dae', 'daeb', 'daebc', 'daec', 'daecb', 'db', 'dba', 'dbac', 'dbace', 'dbae', 'dbaec', 'dbc', 'dbca', 'dbcae', 'dbce', 'dbcea', 'dbe', 'dbea', 'dbeac', 'dbec', 'dbeca', 'dc', 'dca', 'dcab', 'dcabe', 'dcae', 'dcaeb', 'dcb', 'dcba', 'dcbae', 'dcbe', 'dcbea', 'dce', 'dcea', 'dceab', 'dceb', 'dceba', 'de', 'dea', 'deab', 'deabc', 'deac', 'deacb', 'deb', 'deba', 'debac', 'debc', 'debca', 'dec', 'deca', 'decab', 'decb', 'decba', 'e', 'ea', 'eab', 'eabc', 'eabcd', 'eabd', 'eabdc', 'eac', 'eacb', 'eacbd', 'eacd', 'eacdb', 'ead', 'eadb', 'eadbc', 'eadc', 'eadcb', 'eb', 'eba', 'ebac', 'ebacd', 'ebad', 'ebadc', 'ebc', 'ebca', 'ebcad', 'ebcd', 'ebcda', 'ebd', 'ebda', 'ebdac', 'ebdc', 'ebdca', 'ec', 'eca', 'ecab', 'ecabd', 'ecad', 'ecadb', 'ecb', 'ecba', 'ecbad', 'ecbd', 'ecbda', 'ecd', 'ecda', 'ecdab', 'ecdb', 'ecdba', 'ed', 'eda', 'edab', 'edabc', 'edac', 'edacb', 'edb', 'edba', 'edbac', 'edbc', 'edbca', 'edc', 'edca', 'edcab', 'edcb', 'edcba']\n"
     ]
    }
   ],
   "source": [
    "def combinations(s):\n",
    "    #mapper work\n",
    "    if len(s) < 2:\n",
    "        return s\n",
    "    res = []\n",
    "    #reduce work\n",
    "    for i, c in enumerate(s):\n",
    "        res.append(c)\n",
    "        #print(i, c, res)\n",
    "        for j in combinations(s[ :i] + s[i+1:]):\n",
    "            res.append(c+j)\n",
    "            #print(j, res)\n",
    "            #print(i, c, j, res)\n",
    "    return res\n",
    "\n",
    "if __name__ == \"__main__\":\n",
    "    result = combinations(\"abcde\")\n",
    "    print(result)"
   ]
  },
  {
   "cell_type": "code",
   "execution_count": null,
   "metadata": {},
   "outputs": [],
   "source": []
  }
 ],
 "metadata": {
  "kernelspec": {
   "display_name": "Python 3",
   "language": "python",
   "name": "python3"
  },
  "language_info": {
   "codemirror_mode": {
    "name": "ipython",
    "version": 3
   },
   "file_extension": ".py",
   "mimetype": "text/x-python",
   "name": "python",
   "nbconvert_exporter": "python",
   "pygments_lexer": "ipython3",
   "version": "3.7.6"
  }
 },
 "nbformat": 4,
 "nbformat_minor": 4
}
