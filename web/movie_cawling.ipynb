{
 "cells": [
  {
   "cell_type": "markdown",
   "metadata": {},
   "source": [
    "# Naver 영화 네티즌 평점 수집 - 미드웨이, 2020"
   ]
  },
  {
   "cell_type": "code",
   "execution_count": 17,
   "metadata": {},
   "outputs": [],
   "source": [
    "from bs4 import BeautifulSoup\n",
    "from urllib.request import urlopen"
   ]
  },
  {
   "cell_type": "code",
   "execution_count": 18,
   "metadata": {},
   "outputs": [],
   "source": [
    "url_base = 'https://movie.naver.com'\n",
    "url_sub = '/movie/bi/mi/point.nhn?code=186615'\n",
    "url = url_base + url_sub\n",
    "\n",
    "html = urlopen(url)\n",
    "soup = BeautifulSoup(html, 'html.parser')\n"
   ]
  },
  {
   "cell_type": "markdown",
   "metadata": {},
   "source": [
    "### iframe의 src 주소값을 얻어야 함"
   ]
  },
  {
   "cell_type": "code",
   "execution_count": 19,
   "metadata": {},
   "outputs": [
    {
     "data": {
      "text/plain": [
       "'/movie/bi/mi/pointWriteFormList.nhn?code=186615&type=after&isActualPointWriteExecute=false&isMileageSubscriptionAlready=false&isMileageSubscriptionReject=false'"
      ]
     },
     "execution_count": 19,
     "metadata": {},
     "output_type": "execute_result"
    }
   ],
   "source": [
    "ifr_url = soup.find('iframe')['src']\n",
    "ifr_url"
   ]
  },
  {
   "cell_type": "markdown",
   "metadata": {},
   "source": [
    "### Review 건수 구하기"
   ]
  },
  {
   "cell_type": "code",
   "execution_count": 20,
   "metadata": {},
   "outputs": [],
   "source": [
    "url = url_base + ifr_url\n",
    "html = urlopen(url)\n",
    "soup = BeautifulSoup(html, 'html.parser')"
   ]
  },
  {
   "cell_type": "code",
   "execution_count": 21,
   "metadata": {},
   "outputs": [
    {
     "data": {
      "text/plain": [
       "<strong class=\"total\">관람객 평점 <em>4,813</em>건<button class=\"btn_review\" id=\"open-form-btn\">내 평점 등록</button></strong>"
      ]
     },
     "execution_count": 21,
     "metadata": {},
     "output_type": "execute_result"
    }
   ],
   "source": [
    "count = soup.find('strong','total')\n",
    "count"
   ]
  },
  {
   "cell_type": "code",
   "execution_count": 22,
   "metadata": {},
   "outputs": [
    {
     "data": {
      "text/plain": [
       "'4,813'"
      ]
     },
     "execution_count": 22,
     "metadata": {},
     "output_type": "execute_result"
    }
   ],
   "source": [
    "count = count.find('em').string    #get_text() 대신에 string\n",
    "count"
   ]
  },
  {
   "cell_type": "code",
   "execution_count": 23,
   "metadata": {},
   "outputs": [
    {
     "data": {
      "text/plain": [
       "4813"
      ]
     },
     "execution_count": 23,
     "metadata": {},
     "output_type": "execute_result"
    }
   ],
   "source": [
    "count = int(count.replace(',',''))\n",
    "count"
   ]
  },
  {
   "cell_type": "code",
   "execution_count": 24,
   "metadata": {},
   "outputs": [
    {
     "data": {
      "text/plain": [
       "482"
      ]
     },
     "execution_count": 24,
     "metadata": {},
     "output_type": "execute_result"
    }
   ],
   "source": [
    "import math\n",
    "loup_count = math.ceil(count/10)\n",
    "loup_count"
   ]
  },
  {
   "cell_type": "markdown",
   "metadata": {},
   "source": [
    "### 첫번째 페이지에서 리뷰, 평점, 날짜 구해보기"
   ]
  },
  {
   "cell_type": "markdown",
   "metadata": {},
   "source": [
    "##### - 한개의 리뷰에서 평점, 리뷰, 날짜 구하기"
   ]
  },
  {
   "cell_type": "code",
   "execution_count": 41,
   "metadata": {},
   "outputs": [
    {
     "data": {
      "text/plain": [
       "<div class=\"score_result\">\n",
       "<ul>\n",
       "<li>\n",
       "<div class=\"star_score\">\n",
       "<span class=\"st_off\"><span class=\"st_on\" style=\"width:90.0%\"></span></span><em>9</em>\n",
       "</div>\n",
       "<div class=\"score_reple\">\n",
       "<p>\n",
       "<!-- 스포일러 컨텐츠로 처리되는지 여부 -->\n",
       "<span id=\"_filtered_ment_0\">\n",
       "\t\t\t\t\t\t\t\t\t\t\t\t\t\t\n",
       "\t\t\t\t\t\t\t\t\t\t\t\t\t\t\t\n",
       "\t\t\t\t\t\t\t\t\t\t\t\t\t\t\t\n",
       "\t\t\t\t\t\t\t\t\t\t\t\t\t\t\t\t미드웨이가 재밌으면 추천 백두산이 재밌으면 비추 \n",
       "\t\t\t\t\t\t\t\t\t\t\t\t\t\t\t\n",
       "\t\t\t\t\t\t\t\t\t\t\t\t\t\t\n",
       "\t\t\t\t\t\t\t\t\t\t\t\t\t\t\n",
       "\t\t\t\t\t\t\t\t\t\t\t\t\t</span>\n",
       "</p>\n",
       "<dl>\n",
       "<dt>\n",
       "<em>\n",
       "<a href=\"#\" onclick=\"javascript:showPointListByNid(16564107, 'after');parent.clickcr(this, 'ara.uid', '', '', event); return false;\" target=\"_top\">\n",
       "<span>낄낄쿨레(sunj****)</span>\n",
       "</a>\n",
       "</em>\n",
       "<em>2019.12.31 09:48</em>\n",
       "</dt>\n",
       "<dd>\n",
       "<a class=\"go_report2\" href=\"#\" onclick=\"parent.clickcr(this, 'ara.report', '', '', event); common.report('false','sunj****', 'uneVk6jDePDROLTTl8Q807G9l8jYzZDt+IOFCKJAWH4=', '미드웨이가 재밌으면 추천 백두산이 재밌으면 비추 ', '16564107', 'point_after', false);return false;\"><em>신고</em></a>\n",
       "</dd>\n",
       "</dl>\n",
       "</div>\n",
       "<div class=\"btn_area\">\n",
       "<a class=\"_sympathyButton\" href=\"#\" onclick=\"parent.clickcr(this, 'ara.sym', '', '', event);\">\n",
       "<span class=\"ico_up\"></span>\n",
       "<span class=\"blind\">공감</span>\n",
       "<strong class=\"sympathy_16564107\">3372</strong>\n",
       "</a>\n",
       "<a class=\"_notSympathyButton\" href=\"#\" onclick=\"parent.clickcr(this, 'ara.opp', '', '', event);\">\n",
       "<span class=\"ico_down\"></span>\n",
       "<span class=\"blind\">비공감</span>\n",
       "<strong class=\"notSympathy_16564107\">341</strong>\n",
       "</a>\n",
       "</div>\n",
       "</li>\n",
       "<li>\n",
       "<div class=\"star_score\">\n",
       "<span class=\"st_off\"><span class=\"st_on\" style=\"width:100.0%\"></span></span><em>10</em>\n",
       "</div>\n",
       "<div class=\"score_reple\">\n",
       "<p>\n",
       "<!-- 스포일러 컨텐츠로 처리되는지 여부 -->\n",
       "<span id=\"_filtered_ment_1\">\n",
       "\t\t\t\t\t\t\t\t\t\t\t\t\t\t\n",
       "\t\t\t\t\t\t\t\t\t\t\t\t\t\t\t\n",
       "\t\t\t\t\t\t\t\t\t\t\t\t\t\t\t\n",
       "\t\t\t\t\t\t\t\t\t\t\t\t\t\t\t\t저 해전이 있었기에 우리나라 광복도 가능 했음 \n",
       "\t\t\t\t\t\t\t\t\t\t\t\t\t\t\t\n",
       "\t\t\t\t\t\t\t\t\t\t\t\t\t\t\n",
       "\t\t\t\t\t\t\t\t\t\t\t\t\t\t\n",
       "\t\t\t\t\t\t\t\t\t\t\t\t\t</span>\n",
       "</p>\n",
       "<dl>\n",
       "<dt>\n",
       "<em>\n",
       "<a href=\"#\" onclick=\"javascript:showPointListByNid(16564204, 'after');parent.clickcr(this, 'ara.uid', '', '', event); return false;\" target=\"_top\">\n",
       "<span>코주부육포(ffsa****)</span>\n",
       "</a>\n",
       "</em>\n",
       "<em>2019.12.31 10:41</em>\n",
       "</dt>\n",
       "<dd>\n",
       "<a class=\"go_report2\" href=\"#\" onclick=\"parent.clickcr(this, 'ara.report', '', '', event); common.report('false','ffsa****', 'CBASyJoYrY+Ep05zauWXyhqbtkC++9RIedu+lpTL+D4=', '저 해전이 있었기에 우리나라 광복도 가능 했음 ', '16564204', 'point_after', false);return false;\"><em>신고</em></a>\n",
       "</dd>\n",
       "</dl>\n",
       "</div>\n",
       "<div class=\"btn_area\">\n",
       "<a class=\"_sympathyButton\" href=\"#\" onclick=\"parent.clickcr(this, 'ara.sym', '', '', event);\">\n",
       "<span class=\"ico_up\"></span>\n",
       "<span class=\"blind\">공감</span>\n",
       "<strong class=\"sympathy_16564204\">2122</strong>\n",
       "</a>\n",
       "<a class=\"_notSympathyButton\" href=\"#\" onclick=\"parent.clickcr(this, 'ara.opp', '', '', event);\">\n",
       "<span class=\"ico_down\"></span>\n",
       "<span class=\"blind\">비공감</span>\n",
       "<strong class=\"notSympathy_16564204\">126</strong>\n",
       "</a>\n",
       "</div>\n",
       "</li>\n",
       "<li>\n",
       "<div class=\"star_score\">\n",
       "<span class=\"st_off\"><span class=\"st_on\" style=\"width:100.0%\"></span></span><em>10</em>\n",
       "</div>\n",
       "<div class=\"score_reple\">\n",
       "<p>\n",
       "<!-- 스포일러 컨텐츠로 처리되는지 여부 -->\n",
       "<span id=\"_filtered_ment_2\">\n",
       "\t\t\t\t\t\t\t\t\t\t\t\t\t\t\n",
       "\t\t\t\t\t\t\t\t\t\t\t\t\t\t\t\n",
       "\t\t\t\t\t\t\t\t\t\t\t\t\t\t\t\n",
       "\t\t\t\t\t\t\t\t\t\t\t\t\t\t\t\t백두산 상영관 대폭줄이고 미드웨이 상영관 대폭늘려라 \n",
       "\t\t\t\t\t\t\t\t\t\t\t\t\t\t\t\n",
       "\t\t\t\t\t\t\t\t\t\t\t\t\t\t\n",
       "\t\t\t\t\t\t\t\t\t\t\t\t\t\t\n",
       "\t\t\t\t\t\t\t\t\t\t\t\t\t</span>\n",
       "</p>\n",
       "<dl>\n",
       "<dt>\n",
       "<em>\n",
       "<a href=\"#\" onclick=\"javascript:showPointListByNid(16564091, 'after');parent.clickcr(this, 'ara.uid', '', '', event); return false;\" target=\"_top\">\n",
       "<span>대만(wind****)</span>\n",
       "</a>\n",
       "</em>\n",
       "<em>2019.12.31 09:38</em>\n",
       "</dt>\n",
       "<dd>\n",
       "<a class=\"go_report2\" href=\"#\" onclick=\"parent.clickcr(this, 'ara.report', '', '', event); common.report('false','wind****', 'doR2xmYsjm5BKie/xnvSicpgLucCKB3wCSekFWx1uxo=', '백두산 상영관 대폭줄이고 미드웨이 상영관 대폭늘려라 ', '16564091', 'point_after', false);return false;\"><em>신고</em></a>\n",
       "</dd>\n",
       "</dl>\n",
       "</div>\n",
       "<div class=\"btn_area\">\n",
       "<a class=\"_sympathyButton\" href=\"#\" onclick=\"parent.clickcr(this, 'ara.sym', '', '', event);\">\n",
       "<span class=\"ico_up\"></span>\n",
       "<span class=\"blind\">공감</span>\n",
       "<strong class=\"sympathy_16564091\">1984</strong>\n",
       "</a>\n",
       "<a class=\"_notSympathyButton\" href=\"#\" onclick=\"parent.clickcr(this, 'ara.opp', '', '', event);\">\n",
       "<span class=\"ico_down\"></span>\n",
       "<span class=\"blind\">비공감</span>\n",
       "<strong class=\"notSympathy_16564091\">147</strong>\n",
       "</a>\n",
       "</div>\n",
       "</li>\n",
       "<li>\n",
       "<div class=\"star_score\">\n",
       "<span class=\"st_off\"><span class=\"st_on\" style=\"width:100.0%\"></span></span><em>10</em>\n",
       "</div>\n",
       "<div class=\"score_reple\">\n",
       "<p>\n",
       "<!-- 스포일러 컨텐츠로 처리되는지 여부 -->\n",
       "<span id=\"_filtered_ment_3\">\n",
       "\t\t\t\t\t\t\t\t\t\t\t\t\t\t\n",
       "\t\t\t\t\t\t\t\t\t\t\t\t\t\t\t\n",
       "\t\t\t\t\t\t\t\t\t\t\t\t\t\t\t\n",
       "\t\t\t\t\t\t\t\t\t\t\t\t\t\t\t\t방금 개봉했는데 1점 준애는 뭐냐 ㅋㅋ 일본놈이냐? 이제 광고돌고 있을 시간이다. \n",
       "\t\t\t\t\t\t\t\t\t\t\t\t\t\t\t\n",
       "\t\t\t\t\t\t\t\t\t\t\t\t\t\t\n",
       "\t\t\t\t\t\t\t\t\t\t\t\t\t\t\n",
       "\t\t\t\t\t\t\t\t\t\t\t\t\t</span>\n",
       "</p>\n",
       "<dl>\n",
       "<dt>\n",
       "<em>\n",
       "<a href=\"#\" onclick=\"javascript:showPointListByNid(16564034, 'after');parent.clickcr(this, 'ara.uid', '', '', event); return false;\" target=\"_top\">\n",
       "<span>smshin(ssm4****)</span>\n",
       "</a>\n",
       "</em>\n",
       "<em>2019.12.31 09:14</em>\n",
       "</dt>\n",
       "<dd>\n",
       "<a class=\"go_report2\" href=\"#\" onclick=\"parent.clickcr(this, 'ara.report', '', '', event); common.report('false','ssm4****', 'WNCABH3xlNKNihoY264ZPxMevsrwjz119hOmHhQ+Bq8=', '방금 개봉했는데 1점 준애는 뭐냐 ㅋㅋ 일본놈이냐? 이제 광고돌고 있을 시간이다. ', '16564034', 'point_after', false);return false;\"><em>신고</em></a>\n",
       "</dd>\n",
       "</dl>\n",
       "</div>\n",
       "<div class=\"btn_area\">\n",
       "<a class=\"_sympathyButton\" href=\"#\" onclick=\"parent.clickcr(this, 'ara.sym', '', '', event);\">\n",
       "<span class=\"ico_up\"></span>\n",
       "<span class=\"blind\">공감</span>\n",
       "<strong class=\"sympathy_16564034\">1289</strong>\n",
       "</a>\n",
       "<a class=\"_notSympathyButton\" href=\"#\" onclick=\"parent.clickcr(this, 'ara.opp', '', '', event);\">\n",
       "<span class=\"ico_down\"></span>\n",
       "<span class=\"blind\">비공감</span>\n",
       "<strong class=\"notSympathy_16564034\">108</strong>\n",
       "</a>\n",
       "</div>\n",
       "</li>\n",
       "<li>\n",
       "<div class=\"star_score\">\n",
       "<span class=\"st_off\"><span class=\"st_on\" style=\"width:100.0%\"></span></span><em>10</em>\n",
       "</div>\n",
       "<div class=\"score_reple\">\n",
       "<p>\n",
       "<span class=\"ico_viewer\">관람객</span>\n",
       "<!-- 스포일러 컨텐츠로 처리되는지 여부 -->\n",
       "<span id=\"_filtered_ment_4\">\n",
       "\t\t\t\t\t\t\t\t\t\t\t\t\t\t\n",
       "\t\t\t\t\t\t\t\t\t\t\t\t\t\t\t\n",
       "\t\t\t\t\t\t\t\t\t\t\t\t\t\t\t\n",
       "\t\t\t\t\t\t\t\t\t\t\t\t\t\t\t\t교과서에는 미드웨이 해전에서 미국이 승리했다고 한 줄로 서술되어 있지만 단순히 한 줄로 설명할 수 없는 파란만장했던 전쟁. \n",
       "\t\t\t\t\t\t\t\t\t\t\t\t\t\t\t\n",
       "\t\t\t\t\t\t\t\t\t\t\t\t\t\t\n",
       "\t\t\t\t\t\t\t\t\t\t\t\t\t\t\n",
       "\t\t\t\t\t\t\t\t\t\t\t\t\t</span>\n",
       "</p>\n",
       "<dl>\n",
       "<dt>\n",
       "<em>\n",
       "<a href=\"#\" onclick=\"javascript:showPointListByNid(16566092, 'after');parent.clickcr(this, 'ara.uid', '', '', event); return false;\" target=\"_top\">\n",
       "<span>꼬깔콘의마술사(topm****)</span>\n",
       "</a>\n",
       "</em>\n",
       "<em>2019.12.31 19:58</em>\n",
       "</dt>\n",
       "<dd>\n",
       "<a class=\"go_report2\" href=\"#\" onclick=\"parent.clickcr(this, 'ara.report', '', '', event); common.report('false','topm****', 'XUJYqMF04A57WgBEwuTWjPWBl2VNumqREChZvO0doBo=', '교과서에는 미드웨이 해전에서 미국이 승리했다고 한 줄로 서술되어 있지만 단순히 한 줄로 설명할 수 없는 파란만장했던 전쟁. ', '16566092', 'point_after', false);return false;\"><em>신고</em></a>\n",
       "</dd>\n",
       "</dl>\n",
       "</div>\n",
       "<div class=\"btn_area\">\n",
       "<a class=\"_sympathyButton\" href=\"#\" onclick=\"parent.clickcr(this, 'ara.sym', '', '', event);\">\n",
       "<span class=\"ico_up\"></span>\n",
       "<span class=\"blind\">공감</span>\n",
       "<strong class=\"sympathy_16566092\">1046</strong>\n",
       "</a>\n",
       "<a class=\"_notSympathyButton\" href=\"#\" onclick=\"parent.clickcr(this, 'ara.opp', '', '', event);\">\n",
       "<span class=\"ico_down\"></span>\n",
       "<span class=\"blind\">비공감</span>\n",
       "<strong class=\"notSympathy_16566092\">34</strong>\n",
       "</a>\n",
       "</div>\n",
       "</li>\n",
       "<li>\n",
       "<div class=\"star_score\">\n",
       "<span class=\"st_off\"><span class=\"st_on\" style=\"width:100.0%\"></span></span><em>10</em>\n",
       "</div>\n",
       "<div class=\"score_reple\">\n",
       "<p>\n",
       "<!-- 스포일러 컨텐츠로 처리되는지 여부 -->\n",
       "<span id=\"_filtered_ment_5\">\n",
       "\t\t\t\t\t\t\t\t\t\t\t\t\t\t\n",
       "\t\t\t\t\t\t\t\t\t\t\t\t\t\t\t\n",
       "\t\t\t\t\t\t\t\t\t\t\t\t\t\t\t\n",
       "\t\t\t\t\t\t\t\t\t\t\t\t\t\t\t\t스케일 겁나커서 보는내내 입벌리고 봣네욬ㅋㅋ재밋습니다 \n",
       "\t\t\t\t\t\t\t\t\t\t\t\t\t\t\t\n",
       "\t\t\t\t\t\t\t\t\t\t\t\t\t\t\n",
       "\t\t\t\t\t\t\t\t\t\t\t\t\t\t\n",
       "\t\t\t\t\t\t\t\t\t\t\t\t\t</span>\n",
       "</p>\n",
       "<dl>\n",
       "<dt>\n",
       "<em>\n",
       "<a href=\"#\" onclick=\"javascript:showPointListByNid(16564067, 'after');parent.clickcr(this, 'ara.uid', '', '', event); return false;\" target=\"_top\">\n",
       "<span>john(john****)</span>\n",
       "</a>\n",
       "</em>\n",
       "<em>2019.12.31 09:29</em>\n",
       "</dt>\n",
       "<dd>\n",
       "<a class=\"go_report2\" href=\"#\" onclick=\"parent.clickcr(this, 'ara.report', '', '', event); common.report('false','john****', 'KooMy2HI7QMjswz+i8hNxrdWIAu+oopW3bN48SaUcOk=', '스케일 겁나커서 보는내내 입벌리고 봣네욬ㅋㅋ재밋습니다 ', '16564067', 'point_after', false);return false;\"><em>신고</em></a>\n",
       "</dd>\n",
       "</dl>\n",
       "</div>\n",
       "<div class=\"btn_area\">\n",
       "<a class=\"_sympathyButton\" href=\"#\" onclick=\"parent.clickcr(this, 'ara.sym', '', '', event);\">\n",
       "<span class=\"ico_up\"></span>\n",
       "<span class=\"blind\">공감</span>\n",
       "<strong class=\"sympathy_16564067\">1036</strong>\n",
       "</a>\n",
       "<a class=\"_notSympathyButton\" href=\"#\" onclick=\"parent.clickcr(this, 'ara.opp', '', '', event);\">\n",
       "<span class=\"ico_down\"></span>\n",
       "<span class=\"blind\">비공감</span>\n",
       "<strong class=\"notSympathy_16564067\">53</strong>\n",
       "</a>\n",
       "</div>\n",
       "</li>\n",
       "<li>\n",
       "<div class=\"star_score\">\n",
       "<span class=\"st_off\"><span class=\"st_on\" style=\"width:100.0%\"></span></span><em>10</em>\n",
       "</div>\n",
       "<div class=\"score_reple\">\n",
       "<p>\n",
       "<!-- 스포일러 컨텐츠로 처리되는지 여부 -->\n",
       "<span id=\"_filtered_ment_6\">\n",
       "\t\t\t\t\t\t\t\t\t\t\t\t\t\t\n",
       "\t\t\t\t\t\t\t\t\t\t\t\t\t\t\t\n",
       "\t\t\t\t\t\t\t\t\t\t\t\t\t\t\t\n",
       "\t\t\t\t\t\t\t\t\t\t\t\t\t\t\t\t안보면후회함 백두산보다낫다 \n",
       "\t\t\t\t\t\t\t\t\t\t\t\t\t\t\t\n",
       "\t\t\t\t\t\t\t\t\t\t\t\t\t\t\n",
       "\t\t\t\t\t\t\t\t\t\t\t\t\t\t\n",
       "\t\t\t\t\t\t\t\t\t\t\t\t\t</span>\n",
       "</p>\n",
       "<dl>\n",
       "<dt>\n",
       "<em>\n",
       "<a href=\"#\" onclick=\"javascript:showPointListByNid(16564119, 'after');parent.clickcr(this, 'ara.uid', '', '', event); return false;\" target=\"_top\">\n",
       "<span>YUTO(xogu****)</span>\n",
       "</a>\n",
       "</em>\n",
       "<em>2019.12.31 09:52</em>\n",
       "</dt>\n",
       "<dd>\n",
       "<a class=\"go_report2\" href=\"#\" onclick=\"parent.clickcr(this, 'ara.report', '', '', event); common.report('false','xogu****', 'W6xR8LU4J95u9ks4gAZNVDtZM4R2KqKApBKrish55DI=', '안보면후회함 백두산보다낫다 ', '16564119', 'point_after', false);return false;\"><em>신고</em></a>\n",
       "</dd>\n",
       "</dl>\n",
       "</div>\n",
       "<div class=\"btn_area\">\n",
       "<a class=\"_sympathyButton\" href=\"#\" onclick=\"parent.clickcr(this, 'ara.sym', '', '', event);\">\n",
       "<span class=\"ico_up\"></span>\n",
       "<span class=\"blind\">공감</span>\n",
       "<strong class=\"sympathy_16564119\">823</strong>\n",
       "</a>\n",
       "<a class=\"_notSympathyButton\" href=\"#\" onclick=\"parent.clickcr(this, 'ara.opp', '', '', event);\">\n",
       "<span class=\"ico_down\"></span>\n",
       "<span class=\"blind\">비공감</span>\n",
       "<strong class=\"notSympathy_16564119\">64</strong>\n",
       "</a>\n",
       "</div>\n",
       "</li>\n",
       "<li>\n",
       "<div class=\"star_score\">\n",
       "<span class=\"st_off\"><span class=\"st_on\" style=\"width:100.0%\"></span></span><em>10</em>\n",
       "</div>\n",
       "<div class=\"score_reple\">\n",
       "<p>\n",
       "<!-- 스포일러 컨텐츠로 처리되는지 여부 -->\n",
       "<span id=\"_filtered_ment_7\">\n",
       "\t\t\t\t\t\t\t\t\t\t\t\t\t\t\n",
       "\t\t\t\t\t\t\t\t\t\t\t\t\t\t\t\n",
       "\t\t\t\t\t\t\t\t\t\t\t\t\t\t\t\n",
       "\t\t\t\t\t\t\t\t\t\t\t\t\t\t\t\t재밌으면 추천 재미없으면 비추천 눌러주십쇼 형님들 \n",
       "\t\t\t\t\t\t\t\t\t\t\t\t\t\t\t\n",
       "\t\t\t\t\t\t\t\t\t\t\t\t\t\t\n",
       "\t\t\t\t\t\t\t\t\t\t\t\t\t\t\n",
       "\t\t\t\t\t\t\t\t\t\t\t\t\t</span>\n",
       "</p>\n",
       "<dl>\n",
       "<dt>\n",
       "<em>\n",
       "<a href=\"#\" onclick=\"javascript:showPointListByNid(16564017, 'after');parent.clickcr(this, 'ara.uid', '', '', event); return false;\" target=\"_top\">\n",
       "<span>Abc123(fowe****)</span>\n",
       "</a>\n",
       "</em>\n",
       "<em>2019.12.31 09:01</em>\n",
       "</dt>\n",
       "<dd>\n",
       "<a class=\"go_report2\" href=\"#\" onclick=\"parent.clickcr(this, 'ara.report', '', '', event); common.report('false','fowe****', 'UJRnqRdB4bmpNZJEvTHzpYc1r9u8TPKhlYwaoj1CX54=', '재밌으면 추천 재미없으면 비추천 눌러주십쇼 형님들 ', '16564017', 'point_after', false);return false;\"><em>신고</em></a>\n",
       "</dd>\n",
       "</dl>\n",
       "</div>\n",
       "<div class=\"btn_area\">\n",
       "<a class=\"_sympathyButton\" href=\"#\" onclick=\"parent.clickcr(this, 'ara.sym', '', '', event);\">\n",
       "<span class=\"ico_up\"></span>\n",
       "<span class=\"blind\">공감</span>\n",
       "<strong class=\"sympathy_16564017\">722</strong>\n",
       "</a>\n",
       "<a class=\"_notSympathyButton\" href=\"#\" onclick=\"parent.clickcr(this, 'ara.opp', '', '', event);\">\n",
       "<span class=\"ico_down\"></span>\n",
       "<span class=\"blind\">비공감</span>\n",
       "<strong class=\"notSympathy_16564017\">69</strong>\n",
       "</a>\n",
       "</div>\n",
       "</li>\n",
       "<li>\n",
       "<div class=\"star_score\">\n",
       "<span class=\"st_off\"><span class=\"st_on\" style=\"width:100.0%\"></span></span><em>10</em>\n",
       "</div>\n",
       "<div class=\"score_reple\">\n",
       "<p>\n",
       "<!-- 스포일러 컨텐츠로 처리되는지 여부 -->\n",
       "<span id=\"_filtered_ment_8\">\n",
       "\t\t\t\t\t\t\t\t\t\t\t\t\t\t\n",
       "\t\t\t\t\t\t\t\t\t\t\t\t\t\t\t\n",
       "\t\t\t\t\t\t\t\t\t\t\t\t\t\t\t\n",
       "\t\t\t\t\t\t\t\t\t\t\t\t\t\t\t\t일본의 최대 실수는 미국을 건드린거다 그 대가로 원폭 처맞고 멸망함ㅋㅋㅋ지금 하는 짓거리보면 아직 더 맞아야 될듯 \n",
       "\t\t\t\t\t\t\t\t\t\t\t\t\t\t\t\n",
       "\t\t\t\t\t\t\t\t\t\t\t\t\t\t\n",
       "\t\t\t\t\t\t\t\t\t\t\t\t\t\t\n",
       "\t\t\t\t\t\t\t\t\t\t\t\t\t</span>\n",
       "</p>\n",
       "<dl>\n",
       "<dt>\n",
       "<em>\n",
       "<a href=\"#\" onclick=\"javascript:showPointListByNid(16565390, 'after');parent.clickcr(this, 'ara.uid', '', '', event); return false;\" target=\"_top\">\n",
       "<span>푸른하늘(kazw****)</span>\n",
       "</a>\n",
       "</em>\n",
       "<em>2019.12.31 16:37</em>\n",
       "</dt>\n",
       "<dd>\n",
       "<a class=\"go_report2\" href=\"#\" onclick=\"parent.clickcr(this, 'ara.report', '', '', event); common.report('false','kazw****', 'L86plmTs2mKxQCSovMpcfiDddS+vz44mT/kPmpd0b+U=', '일본의 최대 실수는 미국을 건드린거다 그 대가로 원폭 처맞고 멸망함ㅋㅋㅋ지금 하는 짓거리보면 아직 더 맞아야 될듯 ', '16565390', 'point_after', false);return false;\"><em>신고</em></a>\n",
       "</dd>\n",
       "</dl>\n",
       "</div>\n",
       "<div class=\"btn_area\">\n",
       "<a class=\"_sympathyButton\" href=\"#\" onclick=\"parent.clickcr(this, 'ara.sym', '', '', event);\">\n",
       "<span class=\"ico_up\"></span>\n",
       "<span class=\"blind\">공감</span>\n",
       "<strong class=\"sympathy_16565390\">680</strong>\n",
       "</a>\n",
       "<a class=\"_notSympathyButton\" href=\"#\" onclick=\"parent.clickcr(this, 'ara.opp', '', '', event);\">\n",
       "<span class=\"ico_down\"></span>\n",
       "<span class=\"blind\">비공감</span>\n",
       "<strong class=\"notSympathy_16565390\">50</strong>\n",
       "</a>\n",
       "</div>\n",
       "</li>\n",
       "<li class=\"last\">\n",
       "<div class=\"star_score\">\n",
       "<span class=\"st_off\"><span class=\"st_on\" style=\"width:80.0%\"></span></span><em>8</em>\n",
       "</div>\n",
       "<div class=\"score_reple\">\n",
       "<p>\n",
       "<!-- 스포일러 컨텐츠로 처리되는지 여부 -->\n",
       "<span id=\"_filtered_ment_9\">\n",
       "<span class=\"_unfold_ment\" id=\"_unfold_ment9\">\n",
       "<a data-src=\"아니 에머리히 감독이 스토리에 고증을 철저히 지키다니 안믿긴다..(진짜 실제인물에 장면 하나하나가 거의 다 사실인건 솔직히 놀랍네요)(영화에 대한 팩트들)1.제작비는 500억이 아니라 1100억이고 2.소니가 진짜로 20년전에 미드웨이 영화화 반대했고3.평론가 평가가 안좋다?..진주만 보다 20점 높은 44점입니다.(전쟁 영화로써 좋은 점수입니다)4.고증이 안좋다?..스토리 고증은 정말 철저하고 전투기 등등의 디테일은 비슷하지만 완전 정확하진 않음5.중국이 나온다?:나옵니다..하지만 역사적 사실이고 일본은 당시에 미군을 도와준 중국을 보복했죠.(영화는 소니의 반대로 뒤늦게 20년만에 독립영화로 만들어졌는데 1100억의 제작비로 이정도로 강렬한 운명의 5분 미드웨이 해전을 보여준건 놀랍네요) \" href=\"javascript:void(0);\" onclick=\"unfoldPointMent(this);\">\n",
       "\t\t\t\t\t\t\t\t\t\t\t\t\t\t\t\t\t\t아니 에머리히 감독이 스토리에 고증을 철저히 지키다니 안믿긴다..(진짜 실제인물에 장면 하나하나가 거의 다 사실인건 솔직히 놀랍네요)(영화에 대한 팩트들)1.제작비는 500억이 아니라 1100억이고 2.소니가 진짜로...\n",
       "\t\t\t\t\t\t\t\t\t\t\t\t\t\t\t\t\t</a>\n",
       "</span>\n",
       "</span>\n",
       "</p>\n",
       "<dl>\n",
       "<dt>\n",
       "<em>\n",
       "<a href=\"#\" onclick=\"javascript:showPointListByNid(16564157, 'after');parent.clickcr(this, 'ara.uid', '', '', event); return false;\" target=\"_top\">\n",
       "<span>이조이(joyl****)</span>\n",
       "</a>\n",
       "</em>\n",
       "<em>2019.12.31 10:14</em>\n",
       "</dt>\n",
       "<dd>\n",
       "<a class=\"go_report2\" href=\"#\" onclick=\"parent.clickcr(this, 'ara.report', '', '', event); common.report('false','joyl****', '+ylSD1ByhXxqP99NVANs9Q2V1VKaEnHUJzxosgysjZE=', '아니 에머리히 감독이 스토리에 고증을 철저히 지키다니 안믿긴다..(진짜 실제인물에 장면 하나하나가 거의 다 사실인건 솔직히 놀랍네요)(영화에 대한 팩트들)1.제작비는 500억이 아니라 1100억이고 2.소니가 진짜로 20년전에 미드웨이 영화화 반대했고3.평론가 평가가 안좋다?..진주만 보다 20점 높은 44점입니다.(전쟁 영화로써 좋은 점수입니다)4.고증이 안좋다?..스토리 고증은 정말 철저하고 전투기 등등의 디테일은 비슷하지만 완전 정확하진 않음5.중국이 나온다?:나옵니다..하지만 역사적 사실이고 일본은 당시에 미군을 도와준 중국을 보복했죠.(영화는 소니의 반대로 뒤늦게 20년만에 독립영화로 만들어졌는데 1100억의 제작비로 이정도로 강렬한 운명의 5분 미드웨이 해전을 보여준건 놀랍네요) ', '16564157', 'point_after', false);return false;\"><em>신고</em></a>\n",
       "</dd>\n",
       "</dl>\n",
       "</div>\n",
       "<div class=\"btn_area\">\n",
       "<a class=\"_sympathyButton\" href=\"#\" onclick=\"parent.clickcr(this, 'ara.sym', '', '', event);\">\n",
       "<span class=\"ico_up\"></span>\n",
       "<span class=\"blind\">공감</span>\n",
       "<strong class=\"sympathy_16564157\">655</strong>\n",
       "</a>\n",
       "<a class=\"_notSympathyButton\" href=\"#\" onclick=\"parent.clickcr(this, 'ara.opp', '', '', event);\">\n",
       "<span class=\"ico_down\"></span>\n",
       "<span class=\"blind\">비공감</span>\n",
       "<strong class=\"notSympathy_16564157\">28</strong>\n",
       "</a>\n",
       "</div>\n",
       "</li>\n",
       "</ul>\n",
       "</div>"
      ]
     },
     "execution_count": 41,
     "metadata": {},
     "output_type": "execute_result"
    }
   ],
   "source": [
    "result = soup.find(class_ = 'score_result')\n",
    "result"
   ]
  },
  {
   "cell_type": "code",
   "execution_count": 42,
   "metadata": {},
   "outputs": [
    {
     "data": {
      "text/plain": [
       "<li>\n",
       "<div class=\"star_score\">\n",
       "<span class=\"st_off\"><span class=\"st_on\" style=\"width:90.0%\"></span></span><em>9</em>\n",
       "</div>\n",
       "<div class=\"score_reple\">\n",
       "<p>\n",
       "<!-- 스포일러 컨텐츠로 처리되는지 여부 -->\n",
       "<span id=\"_filtered_ment_0\">\n",
       "\t\t\t\t\t\t\t\t\t\t\t\t\t\t\n",
       "\t\t\t\t\t\t\t\t\t\t\t\t\t\t\t\n",
       "\t\t\t\t\t\t\t\t\t\t\t\t\t\t\t\n",
       "\t\t\t\t\t\t\t\t\t\t\t\t\t\t\t\t미드웨이가 재밌으면 추천 백두산이 재밌으면 비추 \n",
       "\t\t\t\t\t\t\t\t\t\t\t\t\t\t\t\n",
       "\t\t\t\t\t\t\t\t\t\t\t\t\t\t\n",
       "\t\t\t\t\t\t\t\t\t\t\t\t\t\t\n",
       "\t\t\t\t\t\t\t\t\t\t\t\t\t</span>\n",
       "</p>\n",
       "<dl>\n",
       "<dt>\n",
       "<em>\n",
       "<a href=\"#\" onclick=\"javascript:showPointListByNid(16564107, 'after');parent.clickcr(this, 'ara.uid', '', '', event); return false;\" target=\"_top\">\n",
       "<span>낄낄쿨레(sunj****)</span>\n",
       "</a>\n",
       "</em>\n",
       "<em>2019.12.31 09:48</em>\n",
       "</dt>\n",
       "<dd>\n",
       "<a class=\"go_report2\" href=\"#\" onclick=\"parent.clickcr(this, 'ara.report', '', '', event); common.report('false','sunj****', 'uneVk6jDePDROLTTl8Q807G9l8jYzZDt+IOFCKJAWH4=', '미드웨이가 재밌으면 추천 백두산이 재밌으면 비추 ', '16564107', 'point_after', false);return false;\"><em>신고</em></a>\n",
       "</dd>\n",
       "</dl>\n",
       "</div>\n",
       "<div class=\"btn_area\">\n",
       "<a class=\"_sympathyButton\" href=\"#\" onclick=\"parent.clickcr(this, 'ara.sym', '', '', event);\">\n",
       "<span class=\"ico_up\"></span>\n",
       "<span class=\"blind\">공감</span>\n",
       "<strong class=\"sympathy_16564107\">3372</strong>\n",
       "</a>\n",
       "<a class=\"_notSympathyButton\" href=\"#\" onclick=\"parent.clickcr(this, 'ara.opp', '', '', event);\">\n",
       "<span class=\"ico_down\"></span>\n",
       "<span class=\"blind\">비공감</span>\n",
       "<strong class=\"notSympathy_16564107\">341</strong>\n",
       "</a>\n",
       "</div>\n",
       "</li>"
      ]
     },
     "execution_count": 42,
     "metadata": {},
     "output_type": "execute_result"
    }
   ],
   "source": [
    "lis = result.find_all('li')\n",
    "li = lis[0]\n",
    "li"
   ]
  },
  {
   "cell_type": "code",
   "execution_count": 43,
   "metadata": {},
   "outputs": [
    {
     "data": {
      "text/plain": [
       "'9'"
      ]
     },
     "execution_count": 43,
     "metadata": {},
     "output_type": "execute_result"
    }
   ],
   "source": [
    "score = li.find(class_ = 'star_score').find('em').get_text()\n",
    "score"
   ]
  },
  {
   "cell_type": "code",
   "execution_count": 44,
   "metadata": {},
   "outputs": [],
   "source": [
    "score = int(score)"
   ]
  },
  {
   "cell_type": "code",
   "execution_count": 45,
   "metadata": {},
   "outputs": [
    {
     "data": {
      "text/plain": [
       "<div class=\"score_reple\">\n",
       "<p>\n",
       "<!-- 스포일러 컨텐츠로 처리되는지 여부 -->\n",
       "<span id=\"_filtered_ment_0\">\n",
       "\t\t\t\t\t\t\t\t\t\t\t\t\t\t\n",
       "\t\t\t\t\t\t\t\t\t\t\t\t\t\t\t\n",
       "\t\t\t\t\t\t\t\t\t\t\t\t\t\t\t\n",
       "\t\t\t\t\t\t\t\t\t\t\t\t\t\t\t\t미드웨이가 재밌으면 추천 백두산이 재밌으면 비추 \n",
       "\t\t\t\t\t\t\t\t\t\t\t\t\t\t\t\n",
       "\t\t\t\t\t\t\t\t\t\t\t\t\t\t\n",
       "\t\t\t\t\t\t\t\t\t\t\t\t\t\t\n",
       "\t\t\t\t\t\t\t\t\t\t\t\t\t</span>\n",
       "</p>\n",
       "<dl>\n",
       "<dt>\n",
       "<em>\n",
       "<a href=\"#\" onclick=\"javascript:showPointListByNid(16564107, 'after');parent.clickcr(this, 'ara.uid', '', '', event); return false;\" target=\"_top\">\n",
       "<span>낄낄쿨레(sunj****)</span>\n",
       "</a>\n",
       "</em>\n",
       "<em>2019.12.31 09:48</em>\n",
       "</dt>\n",
       "<dd>\n",
       "<a class=\"go_report2\" href=\"#\" onclick=\"parent.clickcr(this, 'ara.report', '', '', event); common.report('false','sunj****', 'uneVk6jDePDROLTTl8Q807G9l8jYzZDt+IOFCKJAWH4=', '미드웨이가 재밌으면 추천 백두산이 재밌으면 비추 ', '16564107', 'point_after', false);return false;\"><em>신고</em></a>\n",
       "</dd>\n",
       "</dl>\n",
       "</div>"
      ]
     },
     "execution_count": 45,
     "metadata": {},
     "output_type": "execute_result"
    }
   ],
   "source": [
    "li.find(class_ = 'score_reple')"
   ]
  },
  {
   "cell_type": "code",
   "execution_count": 46,
   "metadata": {},
   "outputs": [
    {
     "data": {
      "text/plain": [
       "'\\r\\n\\t\\t\\t\\t\\t\\t\\t\\t\\t\\t\\t\\t\\t\\t\\r\\n\\t\\t\\t\\t\\t\\t\\t\\t\\t\\t\\t\\t\\t\\t\\t\\r\\n\\t\\t\\t\\t\\t\\t\\t\\t\\t\\t\\t\\t\\t\\t\\t\\r\\n\\t\\t\\t\\t\\t\\t\\t\\t\\t\\t\\t\\t\\t\\t\\t\\t미드웨이가 재밌으면 추천 백두산이 재밌으면 비추 \\r\\n\\t\\t\\t\\t\\t\\t\\t\\t\\t\\t\\t\\t\\t\\t\\t\\r\\n\\t\\t\\t\\t\\t\\t\\t\\t\\t\\t\\t\\t\\t\\t\\r\\n\\t\\t\\t\\t\\t\\t\\t\\t\\t\\t\\t\\t\\t\\t\\r\\n\\t\\t\\t\\t\\t\\t\\t\\t\\t\\t\\t\\t\\t'"
      ]
     },
     "execution_count": 46,
     "metadata": {},
     "output_type": "execute_result"
    }
   ],
   "source": [
    "review = li.find(class_ = 'score_reple').find('p').find('span').get_text()\n",
    "review"
   ]
  },
  {
   "cell_type": "code",
   "execution_count": 47,
   "metadata": {},
   "outputs": [
    {
     "data": {
      "text/plain": [
       "'미드웨이가 재밌으면 추천 백두산이 재밌으면 비추 '"
      ]
     },
     "execution_count": 47,
     "metadata": {},
     "output_type": "execute_result"
    }
   ],
   "source": [
    "review = review.strip('\\t\\r\\n')\n",
    "review"
   ]
  },
  {
   "cell_type": "code",
   "execution_count": 48,
   "metadata": {},
   "outputs": [
    {
     "data": {
      "text/plain": [
       "[<em>\n",
       " <a href=\"#\" onclick=\"javascript:showPointListByNid(16564107, 'after');parent.clickcr(this, 'ara.uid', '', '', event); return false;\" target=\"_top\">\n",
       " <span>낄낄쿨레(sunj****)</span>\n",
       " </a>\n",
       " </em>,\n",
       " <em>2019.12.31 09:48</em>,\n",
       " <em>신고</em>]"
      ]
     },
     "execution_count": 48,
     "metadata": {},
     "output_type": "execute_result"
    }
   ],
   "source": [
    "li.find(class_ = 'score_reple').find_all('em')"
   ]
  },
  {
   "cell_type": "code",
   "execution_count": 49,
   "metadata": {},
   "outputs": [
    {
     "data": {
      "text/plain": [
       "'2019.12.31 09:48'"
      ]
     },
     "execution_count": 49,
     "metadata": {},
     "output_type": "execute_result"
    }
   ],
   "source": [
    "date = li.find(class_ = 'score_reple').find_all('em')[1].get_text()\n",
    "date"
   ]
  },
  {
   "cell_type": "markdown",
   "metadata": {},
   "source": [
    "###  - 10개의 데이터에서 데이터 가져오기"
   ]
  },
  {
   "cell_type": "code",
   "execution_count": 50,
   "metadata": {},
   "outputs": [],
   "source": [
    "import pandas as pd"
   ]
  },
  {
   "cell_type": "code",
   "execution_count": 51,
   "metadata": {},
   "outputs": [],
   "source": [
    "point = []\n",
    "review = []\n",
    "date = []"
   ]
  },
  {
   "cell_type": "code",
   "execution_count": 52,
   "metadata": {},
   "outputs": [
    {
     "data": {
      "text/html": [
       "<div>\n",
       "<style scoped>\n",
       "    .dataframe tbody tr th:only-of-type {\n",
       "        vertical-align: middle;\n",
       "    }\n",
       "\n",
       "    .dataframe tbody tr th {\n",
       "        vertical-align: top;\n",
       "    }\n",
       "\n",
       "    .dataframe thead th {\n",
       "        text-align: right;\n",
       "    }\n",
       "</style>\n",
       "<table border=\"1\" class=\"dataframe\">\n",
       "  <thead>\n",
       "    <tr style=\"text-align: right;\">\n",
       "      <th></th>\n",
       "      <th>point</th>\n",
       "      <th>review</th>\n",
       "      <th>date</th>\n",
       "    </tr>\n",
       "  </thead>\n",
       "  <tbody>\n",
       "    <tr>\n",
       "      <th>0</th>\n",
       "      <td>9</td>\n",
       "      <td>미드웨이가 재밌으면 추천 백두산이 재밌으면 비추</td>\n",
       "      <td>2019.12.31 09:48</td>\n",
       "    </tr>\n",
       "    <tr>\n",
       "      <th>1</th>\n",
       "      <td>10</td>\n",
       "      <td>저 해전이 있었기에 우리나라 광복도 가능 했음</td>\n",
       "      <td>2019.12.31 10:41</td>\n",
       "    </tr>\n",
       "    <tr>\n",
       "      <th>2</th>\n",
       "      <td>10</td>\n",
       "      <td>백두산 상영관 대폭줄이고 미드웨이 상영관 대폭늘려라</td>\n",
       "      <td>2019.12.31 09:38</td>\n",
       "    </tr>\n",
       "    <tr>\n",
       "      <th>3</th>\n",
       "      <td>10</td>\n",
       "      <td>방금 개봉했는데 1점 준애는 뭐냐 ㅋㅋ 일본놈이냐? 이제 광고돌고 있을 시간이다.</td>\n",
       "      <td>2019.12.31 09:14</td>\n",
       "    </tr>\n",
       "    <tr>\n",
       "      <th>4</th>\n",
       "      <td>10</td>\n",
       "      <td>관람객</td>\n",
       "      <td>2019.12.31 19:58</td>\n",
       "    </tr>\n",
       "    <tr>\n",
       "      <th>5</th>\n",
       "      <td>10</td>\n",
       "      <td>스케일 겁나커서 보는내내 입벌리고 봣네욬ㅋㅋ재밋습니다</td>\n",
       "      <td>2019.12.31 09:29</td>\n",
       "    </tr>\n",
       "    <tr>\n",
       "      <th>6</th>\n",
       "      <td>10</td>\n",
       "      <td>안보면후회함 백두산보다낫다</td>\n",
       "      <td>2019.12.31 09:52</td>\n",
       "    </tr>\n",
       "    <tr>\n",
       "      <th>7</th>\n",
       "      <td>10</td>\n",
       "      <td>재밌으면 추천 재미없으면 비추천 눌러주십쇼 형님들</td>\n",
       "      <td>2019.12.31 09:01</td>\n",
       "    </tr>\n",
       "    <tr>\n",
       "      <th>8</th>\n",
       "      <td>10</td>\n",
       "      <td>일본의 최대 실수는 미국을 건드린거다 그 대가로 원폭 처맞고 멸망함ㅋㅋㅋ지금 하는 ...</td>\n",
       "      <td>2019.12.31 16:37</td>\n",
       "    </tr>\n",
       "    <tr>\n",
       "      <th>9</th>\n",
       "      <td>8</td>\n",
       "      <td>아니 에머리히 감독이 스토리에 고증을 철저히 지키다니 안믿긴다..(진짜 실제인물에 ...</td>\n",
       "      <td>2019.12.31 10:14</td>\n",
       "    </tr>\n",
       "  </tbody>\n",
       "</table>\n",
       "</div>"
      ],
      "text/plain": [
       "  point                                             review              date\n",
       "0     9                        미드웨이가 재밌으면 추천 백두산이 재밌으면 비추   2019.12.31 09:48\n",
       "1    10                         저 해전이 있었기에 우리나라 광복도 가능 했음   2019.12.31 10:41\n",
       "2    10                      백두산 상영관 대폭줄이고 미드웨이 상영관 대폭늘려라   2019.12.31 09:38\n",
       "3    10     방금 개봉했는데 1점 준애는 뭐냐 ㅋㅋ 일본놈이냐? 이제 광고돌고 있을 시간이다.   2019.12.31 09:14\n",
       "4    10                                                관람객  2019.12.31 19:58\n",
       "5    10                     스케일 겁나커서 보는내내 입벌리고 봣네욬ㅋㅋ재밋습니다   2019.12.31 09:29\n",
       "6    10                                    안보면후회함 백두산보다낫다   2019.12.31 09:52\n",
       "7    10                       재밌으면 추천 재미없으면 비추천 눌러주십쇼 형님들   2019.12.31 09:01\n",
       "8    10  일본의 최대 실수는 미국을 건드린거다 그 대가로 원폭 처맞고 멸망함ㅋㅋㅋ지금 하는 ...  2019.12.31 16:37\n",
       "9     8  아니 에머리히 감독이 스토리에 고증을 철저히 지키다니 안믿긴다..(진짜 실제인물에 ...  2019.12.31 10:14"
      ]
     },
     "execution_count": 52,
     "metadata": {},
     "output_type": "execute_result"
    }
   ],
   "source": [
    "for i in range(0,10):\n",
    "    point.append(lis[i].find(class_ = 'star_score').find('em').get_text())\n",
    "    review.append(lis[i].find(class_ = 'score_reple').find('p').find('span').get_text().strip('\\t\\r\\n'))\n",
    "    date.append(lis[i].find(class_ = 'score_reple').find_all('em')[1].get_text())\n",
    "    \n",
    "df = pd.DataFrame({'point':point, 'review':review, 'date':date})\n",
    "df"
   ]
  },
  {
   "cell_type": "code",
   "execution_count": 53,
   "metadata": {},
   "outputs": [
    {
     "data": {
      "text/plain": [
       "'아니 에머리히 감독이 스토리에 고증을 철저히 지키다니 안믿긴다..(진짜 실제인물에 장면 하나하나가 거의 다 사실인건 솔직히 놀랍네요)(영화에 대한 팩트들)1.제작비는 500억이 아니라 1100억이고 2.소니가 진짜로...'"
      ]
     },
     "execution_count": 53,
     "metadata": {},
     "output_type": "execute_result"
    }
   ],
   "source": [
    "li9 = lis[9]\n",
    "li9.find(class_ = 'score_reple').find('a').string.strip('\\t\\r\\n')"
   ]
  },
  {
   "cell_type": "code",
   "execution_count": 54,
   "metadata": {},
   "outputs": [
    {
     "data": {
      "text/plain": [
       "'미드웨이가 재밌으면 추천 백두산이 재밌으면 비추 '"
      ]
     },
     "execution_count": 54,
     "metadata": {},
     "output_type": "execute_result"
    }
   ],
   "source": [
    "li.find(class_ = 'score_reple').find('p').find('span').string.strip('\\t\\r\\n')"
   ]
  },
  {
   "cell_type": "code",
   "execution_count": 55,
   "metadata": {},
   "outputs": [
    {
     "data": {
      "text/plain": [
       "2"
      ]
     },
     "execution_count": 55,
     "metadata": {},
     "output_type": "execute_result"
    }
   ],
   "source": [
    "len(li.find(class_ = 'score_reple').find_all('span'))"
   ]
  },
  {
   "cell_type": "code",
   "execution_count": 56,
   "metadata": {},
   "outputs": [
    {
     "data": {
      "text/plain": [
       "3"
      ]
     },
     "execution_count": 56,
     "metadata": {},
     "output_type": "execute_result"
    }
   ],
   "source": [
    "len(li9.find(class_ = 'score_reple').find_all('span'))"
   ]
  },
  {
   "cell_type": "code",
   "execution_count": 57,
   "metadata": {},
   "outputs": [
    {
     "data": {
      "text/html": [
       "<div>\n",
       "<style scoped>\n",
       "    .dataframe tbody tr th:only-of-type {\n",
       "        vertical-align: middle;\n",
       "    }\n",
       "\n",
       "    .dataframe tbody tr th {\n",
       "        vertical-align: top;\n",
       "    }\n",
       "\n",
       "    .dataframe thead th {\n",
       "        text-align: right;\n",
       "    }\n",
       "</style>\n",
       "<table border=\"1\" class=\"dataframe\">\n",
       "  <thead>\n",
       "    <tr style=\"text-align: right;\">\n",
       "      <th></th>\n",
       "      <th>평점</th>\n",
       "      <th>date</th>\n",
       "      <th>감상평</th>\n",
       "    </tr>\n",
       "  </thead>\n",
       "  <tbody>\n",
       "    <tr>\n",
       "      <th>0</th>\n",
       "      <td>9</td>\n",
       "      <td>2019.12.31 09:48</td>\n",
       "      <td>미드웨이가 재밌으면 추천 백두산이 재밌으면 비추</td>\n",
       "    </tr>\n",
       "    <tr>\n",
       "      <th>1</th>\n",
       "      <td>10</td>\n",
       "      <td>2019.12.31 10:41</td>\n",
       "      <td>저 해전이 있었기에 우리나라 광복도 가능 했음</td>\n",
       "    </tr>\n",
       "    <tr>\n",
       "      <th>2</th>\n",
       "      <td>10</td>\n",
       "      <td>2019.12.31 09:38</td>\n",
       "      <td>백두산 상영관 대폭줄이고 미드웨이 상영관 대폭늘려라</td>\n",
       "    </tr>\n",
       "    <tr>\n",
       "      <th>3</th>\n",
       "      <td>10</td>\n",
       "      <td>2019.12.31 09:14</td>\n",
       "      <td>방금 개봉했는데 1점 준애는 뭐냐 ㅋㅋ 일본놈이냐? 이제 광고돌고 있을 시간이다.</td>\n",
       "    </tr>\n",
       "    <tr>\n",
       "      <th>4</th>\n",
       "      <td>10</td>\n",
       "      <td>2019.12.31 19:58</td>\n",
       "      <td>관람객</td>\n",
       "    </tr>\n",
       "    <tr>\n",
       "      <th>5</th>\n",
       "      <td>10</td>\n",
       "      <td>2019.12.31 09:29</td>\n",
       "      <td>스케일 겁나커서 보는내내 입벌리고 봣네욬ㅋㅋ재밋습니다</td>\n",
       "    </tr>\n",
       "    <tr>\n",
       "      <th>6</th>\n",
       "      <td>10</td>\n",
       "      <td>2019.12.31 09:52</td>\n",
       "      <td>안보면후회함 백두산보다낫다</td>\n",
       "    </tr>\n",
       "    <tr>\n",
       "      <th>7</th>\n",
       "      <td>10</td>\n",
       "      <td>2019.12.31 09:01</td>\n",
       "      <td>재밌으면 추천 재미없으면 비추천 눌러주십쇼 형님들</td>\n",
       "    </tr>\n",
       "    <tr>\n",
       "      <th>8</th>\n",
       "      <td>10</td>\n",
       "      <td>2019.12.31 16:37</td>\n",
       "      <td>일본의 최대 실수는 미국을 건드린거다 그 대가로 원폭 처맞고 멸망함ㅋㅋㅋ지금 하는 ...</td>\n",
       "    </tr>\n",
       "    <tr>\n",
       "      <th>9</th>\n",
       "      <td>8</td>\n",
       "      <td>2019.12.31 10:14</td>\n",
       "      <td>아니 에머리히 감독이 스토리에 고증을 철저히 지키다니 안믿긴다..(진짜 실제인물에 ...</td>\n",
       "    </tr>\n",
       "  </tbody>\n",
       "</table>\n",
       "</div>"
      ],
      "text/plain": [
       "   평점              date                                                감상평\n",
       "0   9  2019.12.31 09:48                        미드웨이가 재밌으면 추천 백두산이 재밌으면 비추 \n",
       "1  10  2019.12.31 10:41                         저 해전이 있었기에 우리나라 광복도 가능 했음 \n",
       "2  10  2019.12.31 09:38                      백두산 상영관 대폭줄이고 미드웨이 상영관 대폭늘려라 \n",
       "3  10  2019.12.31 09:14     방금 개봉했는데 1점 준애는 뭐냐 ㅋㅋ 일본놈이냐? 이제 광고돌고 있을 시간이다. \n",
       "4  10  2019.12.31 19:58                                                관람객\n",
       "5  10  2019.12.31 09:29                     스케일 겁나커서 보는내내 입벌리고 봣네욬ㅋㅋ재밋습니다 \n",
       "6  10  2019.12.31 09:52                                    안보면후회함 백두산보다낫다 \n",
       "7  10  2019.12.31 09:01                       재밌으면 추천 재미없으면 비추천 눌러주십쇼 형님들 \n",
       "8  10  2019.12.31 16:37  일본의 최대 실수는 미국을 건드린거다 그 대가로 원폭 처맞고 멸망함ㅋㅋㅋ지금 하는 ...\n",
       "9   8  2019.12.31 10:14  아니 에머리히 감독이 스토리에 고증을 철저히 지키다니 안믿긴다..(진짜 실제인물에 ..."
      ]
     },
     "execution_count": 57,
     "metadata": {},
     "output_type": "execute_result"
    }
   ],
   "source": [
    "point = []\n",
    "review = []\n",
    "date = []\n",
    "\n",
    "for i in range(0,10):\n",
    "    point.append(lis[i].find(class_ = 'star_score').find('em').get_text())\n",
    "    \n",
    "    count_span = len(li.find(class_ = 'score_reple').find_all('span'))\n",
    "    count_icon = len(li.find_all(class_ ='ico_viewer'))\n",
    "    if count_span == 2:\n",
    "        review.append(lis[i].find(class_ = 'score_reple').find('p').find('span').get_text().strip('\\t\\r\\n'))\n",
    "    elif count_icon == 1:\n",
    "        review.append(lis[i].find(class_ = 'score_reple').find('p').find_all('span')[1].string.strip('\\t\\r\\n'))\n",
    "    else :\n",
    "        review.append(lis[i].find(class_ = 'score_reple').find('a').get_text().strip('\\t\\r\\n'))\n",
    "    date.append(lis[i].find(class_ = 'score_reple').find_all('em')[1].get_text())\n",
    "    \n",
    "df = pd.DataFrame({'평점':point, 'date':date, '감상평':review})\n",
    "df"
   ]
  },
  {
   "cell_type": "code",
   "execution_count": 58,
   "metadata": {},
   "outputs": [
    {
     "name": "stdout",
     "output_type": "stream",
     "text": [
      "9\n",
      "10\n",
      "10\n",
      "10\n",
      "10\n",
      "10\n",
      "10\n",
      "10\n",
      "10\n",
      "8\n"
     ]
    },
    {
     "data": {
      "text/html": [
       "<div>\n",
       "<style scoped>\n",
       "    .dataframe tbody tr th:only-of-type {\n",
       "        vertical-align: middle;\n",
       "    }\n",
       "\n",
       "    .dataframe tbody tr th {\n",
       "        vertical-align: top;\n",
       "    }\n",
       "\n",
       "    .dataframe thead th {\n",
       "        text-align: right;\n",
       "    }\n",
       "</style>\n",
       "<table border=\"1\" class=\"dataframe\">\n",
       "  <thead>\n",
       "    <tr style=\"text-align: right;\">\n",
       "      <th></th>\n",
       "      <th>평점</th>\n",
       "      <th>date</th>\n",
       "      <th>감상평</th>\n",
       "    </tr>\n",
       "  </thead>\n",
       "  <tbody>\n",
       "    <tr>\n",
       "      <th>0</th>\n",
       "      <td>9</td>\n",
       "      <td>2019.12.31 09:48</td>\n",
       "      <td>미드웨이가 재밌으면 추천 백두산이 재밌으면 비추</td>\n",
       "    </tr>\n",
       "    <tr>\n",
       "      <th>1</th>\n",
       "      <td>10</td>\n",
       "      <td>2019.12.31 10:41</td>\n",
       "      <td>저 해전이 있었기에 우리나라 광복도 가능 했음</td>\n",
       "    </tr>\n",
       "    <tr>\n",
       "      <th>2</th>\n",
       "      <td>10</td>\n",
       "      <td>2019.12.31 09:38</td>\n",
       "      <td>백두산 상영관 대폭줄이고 미드웨이 상영관 대폭늘려라</td>\n",
       "    </tr>\n",
       "    <tr>\n",
       "      <th>3</th>\n",
       "      <td>10</td>\n",
       "      <td>2019.12.31 09:14</td>\n",
       "      <td>방금 개봉했는데 1점 준애는 뭐냐 ㅋㅋ 일본놈이냐? 이제 광고돌고 있을 시간이다.</td>\n",
       "    </tr>\n",
       "    <tr>\n",
       "      <th>4</th>\n",
       "      <td>10</td>\n",
       "      <td>2019.12.31 19:58</td>\n",
       "      <td>교과서에는 미드웨이 해전에서 미국이 승리했다고 한 줄로 서술되어 있지만 단순히 한 ...</td>\n",
       "    </tr>\n",
       "    <tr>\n",
       "      <th>5</th>\n",
       "      <td>10</td>\n",
       "      <td>2019.12.31 09:29</td>\n",
       "      <td>스케일 겁나커서 보는내내 입벌리고 봣네욬ㅋㅋ재밋습니다</td>\n",
       "    </tr>\n",
       "    <tr>\n",
       "      <th>6</th>\n",
       "      <td>10</td>\n",
       "      <td>2019.12.31 09:52</td>\n",
       "      <td>안보면후회함 백두산보다낫다</td>\n",
       "    </tr>\n",
       "    <tr>\n",
       "      <th>7</th>\n",
       "      <td>10</td>\n",
       "      <td>2019.12.31 09:01</td>\n",
       "      <td>재밌으면 추천 재미없으면 비추천 눌러주십쇼 형님들</td>\n",
       "    </tr>\n",
       "    <tr>\n",
       "      <th>8</th>\n",
       "      <td>10</td>\n",
       "      <td>2019.12.31 16:37</td>\n",
       "      <td>일본의 최대 실수는 미국을 건드린거다 그 대가로 원폭 처맞고 멸망함ㅋㅋㅋ지금 하는 ...</td>\n",
       "    </tr>\n",
       "    <tr>\n",
       "      <th>9</th>\n",
       "      <td>8</td>\n",
       "      <td>2019.12.31 10:14</td>\n",
       "      <td>아니 에머리히 감독이 스토리에 고증을 철저히 지키다니 안믿긴다..(진짜 실제인물에 ...</td>\n",
       "    </tr>\n",
       "  </tbody>\n",
       "</table>\n",
       "</div>"
      ],
      "text/plain": [
       "   평점              date                                                감상평\n",
       "0   9  2019.12.31 09:48                         미드웨이가 재밌으면 추천 백두산이 재밌으면 비추\n",
       "1  10  2019.12.31 10:41                          저 해전이 있었기에 우리나라 광복도 가능 했음\n",
       "2  10  2019.12.31 09:38                       백두산 상영관 대폭줄이고 미드웨이 상영관 대폭늘려라\n",
       "3  10  2019.12.31 09:14      방금 개봉했는데 1점 준애는 뭐냐 ㅋㅋ 일본놈이냐? 이제 광고돌고 있을 시간이다.\n",
       "4  10  2019.12.31 19:58  교과서에는 미드웨이 해전에서 미국이 승리했다고 한 줄로 서술되어 있지만 단순히 한 ...\n",
       "5  10  2019.12.31 09:29                      스케일 겁나커서 보는내내 입벌리고 봣네욬ㅋㅋ재밋습니다\n",
       "6  10  2019.12.31 09:52                                     안보면후회함 백두산보다낫다\n",
       "7  10  2019.12.31 09:01                        재밌으면 추천 재미없으면 비추천 눌러주십쇼 형님들\n",
       "8  10  2019.12.31 16:37  일본의 최대 실수는 미국을 건드린거다 그 대가로 원폭 처맞고 멸망함ㅋㅋㅋ지금 하는 ...\n",
       "9   8  2019.12.31 10:14  아니 에머리히 감독이 스토리에 고증을 철저히 지키다니 안믿긴다..(진짜 실제인물에 ..."
      ]
     },
     "execution_count": 58,
     "metadata": {},
     "output_type": "execute_result"
    }
   ],
   "source": [
    "point = []\n",
    "review = []\n",
    "date = []\n",
    "for li in lis:\n",
    "    score = li.find(class_='star_score').find('em').get_text()\n",
    "    score = int(score)\n",
    "    print(score)\n",
    "    point.append(score)\n",
    "    count_span = len(li.find(class_='score_reple').find_all('span'))\n",
    "    count_icon = len(li.find_all(class_='ico_viewer'))\n",
    "    if count_span == 2:\n",
    "        r = li.find(class_='score_reple').find('p').find('span').string.strip(' \\t\\r\\n')\n",
    "    elif count_icon == 1:\n",
    "        r = li.find(class_='score_reple').find('p').find_all('span')[1].string.strip(' \\t\\r\\n')\n",
    "    else:\n",
    "        r = li.find(class_='score_reple').find('a').string.strip(' \\t\\r\\n')\n",
    "    review.append(r)\n",
    "    date.append(li.find(class_='score_reple').find_all('em')[1].get_text())\n",
    "    \n",
    "df = pd.DataFrame({'평점':point, 'date':date, '감상평':review})\n",
    "df"
   ]
  },
  {
   "cell_type": "markdown",
   "metadata": {},
   "source": [
    "### 읽을 페이지 수 계산"
   ]
  },
  {
   "cell_type": "code",
   "execution_count": 66,
   "metadata": {},
   "outputs": [
    {
     "data": {
      "text/plain": [
       "<strong class=\"total\">관람객 평점 <em>4,813</em>건<button class=\"btn_review\" id=\"open-form-btn\">내 평점 등록</button></strong>"
      ]
     },
     "execution_count": 66,
     "metadata": {},
     "output_type": "execute_result"
    }
   ],
   "source": [
    "count = soup.find('strong','total')\n",
    "count"
   ]
  },
  {
   "cell_type": "code",
   "execution_count": 67,
   "metadata": {},
   "outputs": [
    {
     "data": {
      "text/plain": [
       "'4,813'"
      ]
     },
     "execution_count": 67,
     "metadata": {},
     "output_type": "execute_result"
    }
   ],
   "source": [
    "count = count.find('em').string\n",
    "count"
   ]
  },
  {
   "cell_type": "code",
   "execution_count": 68,
   "metadata": {},
   "outputs": [
    {
     "data": {
      "text/plain": [
       "4813"
      ]
     },
     "execution_count": 68,
     "metadata": {},
     "output_type": "execute_result"
    }
   ],
   "source": [
    "count = int(count.replace(',',''))\n",
    "count"
   ]
  },
  {
   "cell_type": "code",
   "execution_count": 70,
   "metadata": {},
   "outputs": [
    {
     "data": {
      "text/plain": [
       "482"
      ]
     },
     "execution_count": 70,
     "metadata": {},
     "output_type": "execute_result"
    }
   ],
   "source": [
    "total_page = math.ceil(count/10)\n",
    "total_page "
   ]
  },
  {
   "cell_type": "code",
   "execution_count": 76,
   "metadata": {},
   "outputs": [
    {
     "name": "stdout",
     "output_type": "stream",
     "text": [
      "1 9\n",
      "10\n",
      "10\n",
      "10\n",
      "10\n",
      "10\n",
      "10\n",
      "10\n",
      "10\n",
      "8\n",
      "2 10\n",
      "10\n",
      "10\n",
      "10\n",
      "10\n",
      "10\n",
      "8\n",
      "10\n",
      "10\n",
      "10\n",
      "3 8\n",
      "10\n",
      "10\n",
      "10\n",
      "9\n",
      "10\n",
      "10\n",
      "10\n",
      "9\n",
      "10\n",
      "4 10\n",
      "10\n",
      "10\n",
      "10\n",
      "10\n",
      "10\n",
      "10\n",
      "10\n",
      "10\n",
      "10\n",
      "5 10\n",
      "10\n",
      "10\n",
      "10\n",
      "10\n"
     ]
    },
    {
     "ename": "AttributeError",
     "evalue": "'NoneType' object has no attribute 'strip'",
     "output_type": "error",
     "traceback": [
      "\u001b[1;31m---------------------------------------------------------------------------\u001b[0m",
      "\u001b[1;31mAttributeError\u001b[0m                            Traceback (most recent call last)",
      "\u001b[1;32m<ipython-input-76-0c4d90ea880b>\u001b[0m in \u001b[0;36m<module>\u001b[1;34m\u001b[0m\n\u001b[0;32m     19\u001b[0m             \u001b[0mr\u001b[0m \u001b[1;33m=\u001b[0m \u001b[0mli\u001b[0m\u001b[1;33m.\u001b[0m\u001b[0mfind\u001b[0m\u001b[1;33m(\u001b[0m\u001b[0mclass_\u001b[0m\u001b[1;33m=\u001b[0m\u001b[1;34m'score_reple'\u001b[0m\u001b[1;33m)\u001b[0m\u001b[1;33m.\u001b[0m\u001b[0mfind\u001b[0m\u001b[1;33m(\u001b[0m\u001b[1;34m'p'\u001b[0m\u001b[1;33m)\u001b[0m\u001b[1;33m.\u001b[0m\u001b[0mfind\u001b[0m\u001b[1;33m(\u001b[0m\u001b[1;34m'span'\u001b[0m\u001b[1;33m)\u001b[0m\u001b[1;33m.\u001b[0m\u001b[0mstring\u001b[0m\u001b[1;33m.\u001b[0m\u001b[0mstrip\u001b[0m\u001b[1;33m(\u001b[0m\u001b[1;34m' \\t\\r\\n'\u001b[0m\u001b[1;33m)\u001b[0m\u001b[1;33m\u001b[0m\u001b[1;33m\u001b[0m\u001b[0m\n\u001b[0;32m     20\u001b[0m         \u001b[1;32melif\u001b[0m \u001b[0mcount_icon\u001b[0m \u001b[1;33m==\u001b[0m \u001b[1;36m1\u001b[0m\u001b[1;33m:\u001b[0m\u001b[1;33m\u001b[0m\u001b[1;33m\u001b[0m\u001b[0m\n\u001b[1;32m---> 21\u001b[1;33m             \u001b[0mr\u001b[0m \u001b[1;33m=\u001b[0m \u001b[0mli\u001b[0m\u001b[1;33m.\u001b[0m\u001b[0mfind\u001b[0m\u001b[1;33m(\u001b[0m\u001b[0mclass_\u001b[0m\u001b[1;33m=\u001b[0m\u001b[1;34m'score_reple'\u001b[0m\u001b[1;33m)\u001b[0m\u001b[1;33m.\u001b[0m\u001b[0mfind\u001b[0m\u001b[1;33m(\u001b[0m\u001b[1;34m'p'\u001b[0m\u001b[1;33m)\u001b[0m\u001b[1;33m.\u001b[0m\u001b[0mfind_all\u001b[0m\u001b[1;33m(\u001b[0m\u001b[1;34m'span'\u001b[0m\u001b[1;33m)\u001b[0m\u001b[1;33m[\u001b[0m\u001b[1;36m1\u001b[0m\u001b[1;33m]\u001b[0m\u001b[1;33m.\u001b[0m\u001b[0mstring\u001b[0m\u001b[1;33m.\u001b[0m\u001b[0mstrip\u001b[0m\u001b[1;33m(\u001b[0m\u001b[1;34m' \\t\\r\\n'\u001b[0m\u001b[1;33m)\u001b[0m\u001b[1;33m\u001b[0m\u001b[1;33m\u001b[0m\u001b[0m\n\u001b[0m\u001b[0;32m     22\u001b[0m         \u001b[1;32melse\u001b[0m\u001b[1;33m:\u001b[0m\u001b[1;33m\u001b[0m\u001b[1;33m\u001b[0m\u001b[0m\n\u001b[0;32m     23\u001b[0m             \u001b[0mr\u001b[0m \u001b[1;33m=\u001b[0m \u001b[0mli\u001b[0m\u001b[1;33m.\u001b[0m\u001b[0mfind\u001b[0m\u001b[1;33m(\u001b[0m\u001b[0mclass_\u001b[0m\u001b[1;33m=\u001b[0m\u001b[1;34m'score_reple'\u001b[0m\u001b[1;33m)\u001b[0m\u001b[1;33m.\u001b[0m\u001b[0mfind\u001b[0m\u001b[1;33m(\u001b[0m\u001b[1;34m'a'\u001b[0m\u001b[1;33m)\u001b[0m\u001b[1;33m.\u001b[0m\u001b[0mstring\u001b[0m\u001b[1;33m.\u001b[0m\u001b[0mstrip\u001b[0m\u001b[1;33m(\u001b[0m\u001b[1;34m' \\t\\r\\n'\u001b[0m\u001b[1;33m)\u001b[0m\u001b[1;33m\u001b[0m\u001b[1;33m\u001b[0m\u001b[0m\n",
      "\u001b[1;31mAttributeError\u001b[0m: 'NoneType' object has no attribute 'strip'"
     ]
    }
   ],
   "source": [
    "point = []\n",
    "review = []\n",
    "date = []\n",
    "for page in range(1, total_page+1):\n",
    "    print(page, end=' ')\n",
    "    url = url_base + ifr_url + '&page='+str(page)\n",
    "    html = urlopen(url)\n",
    "    soup = BeautifulSoup(html, 'html.parser')\n",
    "    result = soup.find(class_ = 'score_result')\n",
    "    lis = result.find_all('li')\n",
    "    for li in lis:\n",
    "        score = li.find(class_='star_score').find('em').get_text()\n",
    "        score = int(score)\n",
    "        print(score)\n",
    "        point.append(score)\n",
    "        count_span = len(li.find(class_='score_reple').find_all('span'))\n",
    "        count_icon = len(li.find_all(class_='ico_viewer'))\n",
    "        if count_span == 2:\n",
    "            r = li.find(class_='score_reple').find('p').find('span').string.strip(' \\t\\r\\n')\n",
    "        elif count_icon == 1:\n",
    "            r = li.find(class_='score_reple').find('p').find_all('span')[1].string.strip(' \\t\\r\\n')\n",
    "        else:\n",
    "            r = li.find(class_='score_reple').find('a').string.strip(' \\t\\r\\n')\n",
    "        review.append(r)\n",
    "        date.append(li.find(class_='score_reple').find_all('em')[1].get_text())\n",
    "    "
   ]
  },
  {
   "cell_type": "code",
   "execution_count": 85,
   "metadata": {},
   "outputs": [
    {
     "name": "stdout",
     "output_type": "stream",
     "text": [
      "1 2 3 4 5 6 7 8 9 10 11 12 13 14 15 16 17 18 19 20 21 22 23 24 25 26 27 28 29 30 31 32 33 34 35 36 37 38 39 40 41 42 43 44 45 46 47 48 49 50 51 52 53 54 55 56 57 58 59 60 61 62 63 64 65 66 67 68 69 70 71 72 73 74 75 76 77 78 79 80 81 82 83 84 85 86 87 88 89 90 91 92 93 94 95 96 97 98 99 100 101 102 103 104 105 106 107 108 109 110 111 112 113 114 115 116 117 118 119 120 121 122 123 124 125 126 127 128 129 130 131 132 133 134 135 136 137 138 139 140 141 142 143 144 145 146 147 148 149 150 151 152 153 154 155 156 157 158 159 160 161 162 163 164 165 166 167 168 169 170 171 172 173 174 175 176 177 178 179 180 181 182 183 184 185 186 187 188 189 190 191 192 193 194 195 196 197 198 199 200 201 202 203 204 205 206 207 208 209 210 211 212 213 214 215 216 217 218 219 220 221 222 223 224 225 226 227 228 229 230 231 232 233 234 235 236 237 238 239 240 241 242 243 244 245 246 247 248 249 250 251 252 253 254 255 256 257 258 259 260 261 262 263 264 265 266 267 268 269 270 271 272 273 274 275 276 277 278 279 280 281 282 283 284 285 286 287 288 289 290 291 292 293 294 295 296 297 298 299 300 301 302 303 304 305 306 307 308 309 310 311 312 313 314 315 316 317 318 319 320 321 322 323 324 325 326 327 328 329 330 331 332 333 334 335 336 337 338 339 340 341 342 343 344 345 346 347 348 349 350 351 352 353 354 355 356 357 358 359 360 361 362 363 364 365 366 367 368 369 370 371 372 373 374 375 376 377 378 379 380 381 382 383 384 385 386 387 388 389 390 391 392 393 394 395 396 397 398 399 400 401 402 403 404 405 406 407 408 409 410 411 412 413 414 415 416 417 418 419 420 421 422 423 424 425 426 427 428 429 430 431 432 433 434 435 436 437 438 439 440 441 442 443 444 445 446 447 448 449 450 451 452 453 454 455 456 457 458 459 460 461 462 463 464 465 466 467 468 469 470 471 472 473 474 475 476 477 478 479 480 481 482 "
     ]
    }
   ],
   "source": [
    "point = []\n",
    "review = []\n",
    "date = []\n",
    "for page in range(1, total_page+1):\n",
    "    print(page, end=' ')\n",
    "    url = url_base + ifr_url + '&page=' + str(page)\n",
    "    html = urlopen(url)\n",
    "    soup = BeautifulSoup(html, 'html.parser')\n",
    "    result = soup.find(class_='score_result')\n",
    "    lis = result.find_all('li')\n",
    "    for li in lis:\n",
    "        score = li.find(class_='star_score').find('em').get_text()\n",
    "        score = int(score)\n",
    "        point.append(score)\n",
    "        count_span = len(li.find(class_='score_reple').find(class_='').find_all('span'))\n",
    "        count_icon = len(li.find_all(class_='ico_viewer'))\n",
    "        count_spo = len(li.find_all(class_='text_spo'))\n",
    "        criteria = str(count_span) + str(count_icon) + str(count_spo)\n",
    "        #print(criteria)\n",
    "        if criteria == '100':\n",
    "            r = li.find(class_='score_reple').find('span').string.strip(' \\t\\r\\n')\n",
    "        elif criteria == '200':\n",
    "            r = li.find(class_='score_reple').find('a')['data-src']\n",
    "        elif criteria == '210':\n",
    "            r = li.find(class_='score_reple').find_all('span')[1].string.strip(' \\t\\r\\n')\n",
    "        elif criteria == '310':\n",
    "            r = li.find(class_='score_reple').find('a')['data-src']\n",
    "        elif criteria == '311':\n",
    "            r = li.find(class_='score_reple').find_all('span')[2].string.strip(' \\t\\r\\n')\n",
    "        elif criteria == '201':\n",
    "            r = li.find(class_='score_reple').find_all('span')[1].string.strip(' \\t\\r\\n')\n",
    "\n",
    "        review.append(r)\n",
    "        date.append(li.find(class_='score_reple').find_all('em')[1].get_text())"
   ]
  },
  {
   "cell_type": "code",
   "execution_count": 78,
   "metadata": {},
   "outputs": [
    {
     "data": {
      "text/html": [
       "<div>\n",
       "<style scoped>\n",
       "    .dataframe tbody tr th:only-of-type {\n",
       "        vertical-align: middle;\n",
       "    }\n",
       "\n",
       "    .dataframe tbody tr th {\n",
       "        vertical-align: top;\n",
       "    }\n",
       "\n",
       "    .dataframe thead th {\n",
       "        text-align: right;\n",
       "    }\n",
       "</style>\n",
       "<table border=\"1\" class=\"dataframe\">\n",
       "  <thead>\n",
       "    <tr style=\"text-align: right;\">\n",
       "      <th></th>\n",
       "      <th>평점</th>\n",
       "      <th>일시</th>\n",
       "      <th>감상평</th>\n",
       "    </tr>\n",
       "  </thead>\n",
       "  <tbody>\n",
       "    <tr>\n",
       "      <th>4803</th>\n",
       "      <td>1</td>\n",
       "      <td>2020.01.01 22:02</td>\n",
       "      <td>우파 좀비들이 백두산 테러했으니 저도 똑같이 테러해드립니당~ ㅅㅅ</td>\n",
       "    </tr>\n",
       "    <tr>\n",
       "      <th>4804</th>\n",
       "      <td>1</td>\n",
       "      <td>2020.01.03 04:33</td>\n",
       "      <td>백두산 보고 실망감을 날리기 위해서 미드웨이를 봤는데....정말....비추... 시...</td>\n",
       "    </tr>\n",
       "    <tr>\n",
       "      <th>4805</th>\n",
       "      <td>1</td>\n",
       "      <td>2020.01.02 10:06</td>\n",
       "      <td>너무 쓰레기라 평가할 가치도 없음</td>\n",
       "    </tr>\n",
       "    <tr>\n",
       "      <th>4806</th>\n",
       "      <td>2</td>\n",
       "      <td>2019.12.31 11:16</td>\n",
       "      <td>틀딱들때문에 안봐. 틀딱이 좋아하는 영화 안봐.  백두산 봐야지.  틀딱들이 평점 ...</td>\n",
       "    </tr>\n",
       "    <tr>\n",
       "      <th>4807</th>\n",
       "      <td>1</td>\n",
       "      <td>2019.12.31 10:03</td>\n",
       "      <td>뭔 영화보지도 않은 태극기 부대들이 친미운동하고있나요 평점 조절합니다</td>\n",
       "    </tr>\n",
       "    <tr>\n",
       "      <th>4808</th>\n",
       "      <td>1</td>\n",
       "      <td>2019.12.31 09:11</td>\n",
       "      <td>대만에서 10월31일 개봉했었는데.성공못했음. 미국에서도 성적이 별로구..그이유가 ...</td>\n",
       "    </tr>\n",
       "    <tr>\n",
       "      <th>4809</th>\n",
       "      <td>2</td>\n",
       "      <td>2020.01.05 20:41</td>\n",
       "      <td>아니 이게 재밌다는 사람은 뭐야?;그냥 국뽕-&gt;미국뽕 이 차이밖에 없는데 이 영화가...</td>\n",
       "    </tr>\n",
       "    <tr>\n",
       "      <th>4810</th>\n",
       "      <td>2</td>\n",
       "      <td>2020.01.01 23:40</td>\n",
       "      <td>시간이 아까워요. 엉성한 그래서 감동도 교훈도 없는...ㅉㅉ</td>\n",
       "    </tr>\n",
       "    <tr>\n",
       "      <th>4811</th>\n",
       "      <td>4</td>\n",
       "      <td>2019.12.31 15:37</td>\n",
       "      <td>진주만보다 낫다고해서봤는데대실망...천조국,왜놈들 국뽕영화</td>\n",
       "    </tr>\n",
       "    <tr>\n",
       "      <th>4812</th>\n",
       "      <td>1</td>\n",
       "      <td>2020.01.16 23:51</td>\n",
       "      <td>우리는 왜 이런 영화 못만드냐? 싸구려 좌파 찌라시 백x산이나 대놓고 친북사상 반일...</td>\n",
       "    </tr>\n",
       "  </tbody>\n",
       "</table>\n",
       "</div>"
      ],
      "text/plain": [
       "      평점                일시                                                감상평\n",
       "4803   1  2020.01.01 22:02               우파 좀비들이 백두산 테러했으니 저도 똑같이 테러해드립니당~ ㅅㅅ\n",
       "4804   1  2020.01.03 04:33  백두산 보고 실망감을 날리기 위해서 미드웨이를 봤는데....정말....비추... 시...\n",
       "4805   1  2020.01.02 10:06                                 너무 쓰레기라 평가할 가치도 없음\n",
       "4806   2  2019.12.31 11:16  틀딱들때문에 안봐. 틀딱이 좋아하는 영화 안봐.  백두산 봐야지.  틀딱들이 평점 ...\n",
       "4807   1  2019.12.31 10:03             뭔 영화보지도 않은 태극기 부대들이 친미운동하고있나요 평점 조절합니다\n",
       "4808   1  2019.12.31 09:11  대만에서 10월31일 개봉했었는데.성공못했음. 미국에서도 성적이 별로구..그이유가 ...\n",
       "4809   2  2020.01.05 20:41  아니 이게 재밌다는 사람은 뭐야?;그냥 국뽕->미국뽕 이 차이밖에 없는데 이 영화가...\n",
       "4810   2  2020.01.01 23:40                  시간이 아까워요. 엉성한 그래서 감동도 교훈도 없는...ㅉㅉ\n",
       "4811   4  2019.12.31 15:37                   진주만보다 낫다고해서봤는데대실망...천조국,왜놈들 국뽕영화\n",
       "4812   1  2020.01.16 23:51  우리는 왜 이런 영화 못만드냐? 싸구려 좌파 찌라시 백x산이나 대놓고 친북사상 반일..."
      ]
     },
     "execution_count": 78,
     "metadata": {},
     "output_type": "execute_result"
    }
   ],
   "source": [
    "import pandas as pd\n",
    "df = pd.DataFrame({'평점':point, '일시':date, '감상평':review})\n",
    "df.tail(10)"
   ]
  },
  {
   "cell_type": "code",
   "execution_count": 79,
   "metadata": {},
   "outputs": [],
   "source": [
    "df.to_csv('midway.csv')"
   ]
  },
  {
   "cell_type": "code",
   "execution_count": 80,
   "metadata": {},
   "outputs": [
    {
     "data": {
      "text/plain": [
       "4813"
      ]
     },
     "execution_count": 80,
     "metadata": {},
     "output_type": "execute_result"
    }
   ],
   "source": [
    "len(df)"
   ]
  },
  {
   "cell_type": "code",
   "execution_count": null,
   "metadata": {},
   "outputs": [],
   "source": []
  },
  {
   "cell_type": "code",
   "execution_count": null,
   "metadata": {},
   "outputs": [],
   "source": []
  }
 ],
 "metadata": {
  "kernelspec": {
   "display_name": "Python 3",
   "language": "python",
   "name": "python3"
  },
  "language_info": {
   "codemirror_mode": {
    "name": "ipython",
    "version": 3
   },
   "file_extension": ".py",
   "mimetype": "text/x-python",
   "name": "python",
   "nbconvert_exporter": "python",
   "pygments_lexer": "ipython3",
   "version": "3.7.6"
  }
 },
 "nbformat": 4,
 "nbformat_minor": 4
}
