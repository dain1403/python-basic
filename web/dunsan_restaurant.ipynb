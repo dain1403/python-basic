{
 "cells": [
  {
   "cell_type": "code",
   "execution_count": 2,
   "metadata": {},
   "outputs": [],
   "source": [
    "from bs4 import BeautifulSoup\n",
    "from urllib.request import urlopen"
   ]
  },
  {
   "cell_type": "code",
   "execution_count": 3,
   "metadata": {},
   "outputs": [],
   "source": [
    "url_base = 'https://www.menupan.com'\n",
    "url_sub = '/search/restaurant/restaurant_result.asp?sc=all&kw=%B4%EB%C0%FC+%B5%D0%BB%EA%B5%BF+%B8%C0%C1%FD&search.x=0&search.y=0'\n",
    "url = url_base + url_sub\n",
    "\n",
    "html = urlopen(url)\n",
    "soup = BeautifulSoup(html, 'html.parser')"
   ]
  },
  {
   "cell_type": "code",
   "execution_count": 4,
   "metadata": {},
   "outputs": [
    {
     "data": {
      "text/plain": [
       "[<li>\n",
       " <div class=\"imgDiv\">\n",
       " <a href=\"/Restaurant/Onepage.asp?acode=C300060\" target=\"_blank\"><img class=\"thumb\" height=\"70px\" src=\"/restaurant/restimg/000/ssimg/c300060a_s.jpg\" width=\"70px\"/></a><span class=\"btn\"><img alt=\"더보기\" onmouseout=\"imgmore('C300060_imgview',0);\" onmouseover=\"imgmore('C300060_imgview',1);\" src=\"/IMAGE/Search/ico_plus.gif\" style=\"cursor:hand\"/></span>\n",
       " </div>\n",
       " <dl>\n",
       " <dt>\n",
       " <!--[8].rankscore=7 , rest_value=50-->\n",
       " <a href=\"/Restaurant/Onepage.asp?acode=C300060\" target=\"_blank\">태원</a></dt>\n",
       " <dd class=\"sum3\"><span class=\"part\">중식&gt;일반 |</span>탕수육, 전가복, 청국탕수버섯</dd>\n",
       " <dd class=\"sum\">대전 서구 둔산동 1242 | 042-488-8836 | 추천맛집 0개 | 할인정보 : (20명이상코스주문..</dd>\n",
       " </dl>\n",
       " </li>,\n",
       " <li>\n",
       " <div class=\"imgDiv\">\n",
       " <a href=\"/Restaurant/Onepage.asp?acode=T300106\" target=\"_blank\"><img class=\"thumb\" height=\"70px\" src=\"/restaurant/restimg/006/ssimg/t300106a_s.jpg\" width=\"70px\"/></a><span class=\"btn\"><img alt=\"더보기\" onmouseout=\"imgmore('T300106_imgview',0);\" onmouseover=\"imgmore('T300106_imgview',1);\" src=\"/IMAGE/Search/ico_plus.gif\" style=\"cursor:hand\"/></span>\n",
       " </div>\n",
       " <dl>\n",
       " <dt>\n",
       " <!--[1].rankscore=17 , rest_value=0-->\n",
       " <a href=\"/Restaurant/Onepage.asp?acode=T300106\" target=\"_blank\">인디</a></dt>\n",
       " <dd class=\"sum3\"><span class=\"part\">기타/세계&gt;동남아음식 |</span>난 &amp; 커리, 그린 샐러드, 탄두리치킨</dd>\n",
       " <dd class=\"sum\">대전 서구 둔산동 1369 넥서스밸리 B동 102호 | 042-471-7052 | 추천맛집 0개</dd>\n",
       " </dl>\n",
       " </li>,\n",
       " <li>\n",
       " <div class=\"imgDiv\">\n",
       " <a href=\"/Restaurant/Onepage.asp?acode=D300868\" target=\"_blank\"><img class=\"thumb\" height=\"70px\" src=\"/restaurant/restimg/008/ssimg/d300868a_s.jpg\" width=\"70px\"/></a><span class=\"btn\"><img alt=\"더보기\" onmouseout=\"imgmore('D300868_imgview',0);\" onmouseover=\"imgmore('D300868_imgview',1);\" src=\"/IMAGE/Search/ico_plus.gif\" style=\"cursor:hand\"/></span>\n",
       " </div>\n",
       " <dl>\n",
       " <dt>\n",
       " <!--[2].rankscore=14 , rest_value=0-->\n",
       " <a href=\"/Restaurant/Onepage.asp?acode=D300868\" target=\"_blank\">플레져</a></dt>\n",
       " <dd class=\"sum3\"><span class=\"part\">카페/주점&gt;카페 |</span>청포도주스, 내부1, 페퍼민트</dd>\n",
       " <dd class=\"sum\">대전 서구 둔산동 1001-103 | 042-486-3777 | 추천맛집 0개</dd>\n",
       " </dl>\n",
       " </li>,\n",
       " <li>\n",
       " <div class=\"imgDiv\">\n",
       " <a href=\"/Restaurant/Onepage.asp?acode=H302118\" target=\"_blank\"><img class=\"thumb\" height=\"70px\" src=\"/restaurant/restimg/008/ssimg/h302118a_s.jpg\" width=\"70px\"/></a><span class=\"btn\"><img alt=\"더보기\" onmouseout=\"imgmore('H302118_imgview',0);\" onmouseover=\"imgmore('H302118_imgview',1);\" src=\"/IMAGE/Search/ico_plus.gif\" style=\"cursor:hand\"/></span>\n",
       " </div>\n",
       " <dl>\n",
       " <dt>\n",
       " <!--[3].rankscore=13 , rest_value=0-->\n",
       " <a href=\"/Restaurant/Onepage.asp?acode=H302118\" target=\"_blank\">사리원</a></dt>\n",
       " <dd class=\"sum3\"><span class=\"part\">한식 |</span>평양식물냉면, 사리원소불고기, 왕손만두</dd>\n",
       " <dd class=\"sum\">대전 서구 둔산동 968 | 042-487-4208 | 추천맛집 0개</dd>\n",
       " </dl>\n",
       " </li>,\n",
       " <li>\n",
       " <div class=\"imgDiv\">\n",
       " <a href=\"/Restaurant/Onepage.asp?acode=H302225\" target=\"_blank\"><img class=\"thumb\" height=\"70px\" src=\"/restaurant/restimg/005/ssimg/h302225a_s.jpg\" width=\"70px\"/></a><span class=\"btn\"><img alt=\"더보기\" onmouseout=\"imgmore('H302225_imgview',0);\" onmouseover=\"imgmore('H302225_imgview',1);\" src=\"/IMAGE/Search/ico_plus.gif\" style=\"cursor:hand\"/></span>\n",
       " </div>\n",
       " <dl>\n",
       " <dt>\n",
       " <!--[4].rankscore=11 , rest_value=0-->\n",
       " <a href=\"/Restaurant/Onepage.asp?acode=H302225\" target=\"_blank\">행복조개찜</a></dt>\n",
       " <dd class=\"sum3\"><span class=\"part\">한식&gt;해물요리 |</span>조개찜 (大), 오뎅, 조개찜_상세</dd>\n",
       " <dd class=\"sum\">대전 서구 둔산2동 1101-1 | 042-488-2924 | 추천맛집 0개</dd>\n",
       " </dl>\n",
       " </li>,\n",
       " <li>\n",
       " <div class=\"imgDiv\">\n",
       " <a href=\"/Restaurant/Onepage.asp?acode=D300870\" target=\"_blank\"><img class=\"thumb\" height=\"70px\" src=\"/restaurant/restimg/000/ssimg/d300870a_s.jpg\" width=\"70px\"/></a><span class=\"btn\"><img alt=\"더보기\" onmouseout=\"imgmore('D300870_imgview',0);\" onmouseover=\"imgmore('D300870_imgview',1);\" src=\"/IMAGE/Search/ico_plus.gif\" style=\"cursor:hand\"/></span>\n",
       " </div>\n",
       " <dl>\n",
       " <dt>\n",
       " <!--[5].rankscore=10 , rest_value=0-->\n",
       " <a href=\"/Restaurant/Onepage.asp?acode=D300870\" target=\"_blank\">모루</a></dt>\n",
       " <dd class=\"sum3\"><span class=\"part\">카페/주점&gt;카페 |</span>Moru's 오믈렛, 훈제연어 에그베네딕트, 아메리카노</dd>\n",
       " <dd class=\"sum\">대전 서구 둔산2동 1201 1층 | 042-486-2201 | 추천맛집 0개</dd>\n",
       " </dl>\n",
       " </li>,\n",
       " <li>\n",
       " <div class=\"imgDiv\">\n",
       " <a href=\"/Restaurant/Onepage.asp?acode=J300468\" target=\"_blank\"><img class=\"thumb\" height=\"70px\" src=\"/restaurant/restimg/008/ssimg/j300468a_s.jpg\" width=\"70px\"/></a><span class=\"btn\"><img alt=\"더보기\" onmouseout=\"imgmore('J300468_imgview',0);\" onmouseover=\"imgmore('J300468_imgview',1);\" src=\"/IMAGE/Search/ico_plus.gif\" style=\"cursor:hand\"/></span>\n",
       " </div>\n",
       " <dl>\n",
       " <dt>\n",
       " <!--[6].rankscore=9 , rest_value=0-->\n",
       " <a href=\"/Restaurant/Onepage.asp?acode=J300468\" target=\"_blank\">돗토리일식</a></dt>\n",
       " <dd class=\"sum3\"><span class=\"part\">일식&gt;정식 |</span>스페셜 사시미, 스페셜 사시미_상세, 스페셜 사시미_상세2</dd>\n",
       " <dd class=\"sum\">대전 서구 둔산동 1332 | 042-489-7373 | 추천맛집 0개</dd>\n",
       " </dl>\n",
       " </li>,\n",
       " <li>\n",
       " <div class=\"imgDiv\">\n",
       " <a href=\"/Restaurant/Onepage.asp?acode=H302227\" target=\"_blank\"><img class=\"thumb\" height=\"70px\" src=\"/restaurant/restimg/007/ssimg/h302227a_s.jpg\" width=\"70px\"/></a><span class=\"btn\"><img alt=\"더보기\" onmouseout=\"imgmore('H302227_imgview',0);\" onmouseover=\"imgmore('H302227_imgview',1);\" src=\"/IMAGE/Search/ico_plus.gif\" style=\"cursor:hand\"/></span>\n",
       " </div>\n",
       " <dl>\n",
       " <dt>\n",
       " <!--[7].rankscore=9 , rest_value=0-->\n",
       " <a href=\"/Restaurant/Onepage.asp?acode=H302227\" target=\"_blank\">예술마당</a></dt>\n",
       " <dd class=\"sum3\"><span class=\"part\">한식&gt;한정식 |</span>진지상_상세, 점심특선, 진지상</dd>\n",
       " <dd class=\"sum\">대전 서구 둔산동 1471 3층 | 042-489-8183 | 추천맛집 0개</dd>\n",
       " </dl>\n",
       " </li>,\n",
       " <li>\n",
       " <div class=\"imgDiv\">\n",
       " <a href=\"/Restaurant/Onepage.asp?acode=H302621\" target=\"_blank\"><img class=\"thumb\" height=\"70px\" src=\"/restaurant/restimg/001/ssimg/h302621a_s.jpg\" width=\"70px\"/></a><span class=\"btn\"><img alt=\"더보기\" onmouseout=\"imgmore('H302621_imgview',0);\" onmouseover=\"imgmore('H302621_imgview',1);\" src=\"/IMAGE/Search/ico_plus.gif\" style=\"cursor:hand\"/></span>\n",
       " </div>\n",
       " <dl>\n",
       " <dt>\n",
       " <!--[0].rankscore=18 , rest_value=0-->\n",
       " <a href=\"/Restaurant/Onepage.asp?acode=H302621\" target=\"_blank\">1980양푼이등갈비찜</a></dt>\n",
       " <dd class=\"sum3\"><span class=\"part\">한식&gt;갈비 |</span>등갈비찜, 스지 김치찌개, 치즈 닭발볶음</dd>\n",
       " <dd class=\"sum\">대전 서구 둔산동 1062 | 070-8817-6992 | 추천맛집 0개</dd>\n",
       " </dl>\n",
       " </li>,\n",
       " <li>\n",
       " <div class=\"imgDiv\">\n",
       " <a href=\"/Restaurant/Onepage.asp?acode=F300230\" target=\"_blank\"><img class=\"thumb\" height=\"70px\" src=\"/restaurant/restimg/000/ssimg/f300230a_s.jpg\" width=\"70px\"/></a>\n",
       " </div>\n",
       " <dl>\n",
       " <dt>\n",
       " <!--[9].rankscore=6 , rest_value=0-->\n",
       " <a href=\"/Restaurant/Onepage.asp?acode=F300230\" target=\"_blank\">파파존스-대전시청점</a></dt>\n",
       " <dd class=\"sum3\"><span class=\"part\">패스트푸드&gt;피자 |</span>슈퍼파파스, 아이리쉬포테이토</dd>\n",
       " <dd class=\"sum\">대전 서구 둔산동 1416 광조빌딩 2층 | 042-482-1577 | 추천맛집 0개</dd>\n",
       " </dl>\n",
       " </li>,\n",
       " <li>\n",
       " <div class=\"imgDiv\">\n",
       " <a href=\"/Restaurant/Onepage.asp?acode=D300865\" target=\"_blank\"><img class=\"thumb\" height=\"70px\" src=\"/restaurant/restimg/005/ssimg/d300865a_s.jpg\" width=\"70px\"/></a><span class=\"btn\"><img alt=\"더보기\" onmouseout=\"imgmore('D300865_imgview',0);\" onmouseover=\"imgmore('D300865_imgview',1);\" src=\"/IMAGE/Search/ico_plus.gif\" style=\"cursor:hand\"/></span>\n",
       " </div>\n",
       " <dl>\n",
       " <dt>\n",
       " <!--[10].rankscore=5 , rest_value=0-->\n",
       " <a href=\"/Restaurant/Onepage.asp?acode=D300865\" target=\"_blank\">마르가</a></dt>\n",
       " <dd class=\"sum3\"><span class=\"part\">카페/주점&gt;카페 |</span>홍차_상세, 홍자몽주스, 홍차</dd>\n",
       " <dd class=\"sum\">대전 서구 둔산동 1474 청정빌딩 1층 | 042-320-1404 | 추천맛집 0개</dd>\n",
       " </dl>\n",
       " </li>,\n",
       " <li>\n",
       " <div class=\"imgDiv\">\n",
       " <a href=\"/Restaurant/Onepage.asp?acode=R300152\" target=\"_blank\"><img class=\"thumb\" height=\"70px\" src=\"/restaurant/restimg/002/ssimg/r300152a_s.jpg\" width=\"70px\"/></a><span class=\"btn\"><img alt=\"더보기\" onmouseout=\"imgmore('R300152_imgview',0);\" onmouseover=\"imgmore('R300152_imgview',1);\" src=\"/IMAGE/Search/ico_plus.gif\" style=\"cursor:hand\"/></span>\n",
       " </div>\n",
       " <dl>\n",
       " <dt>\n",
       " <!--[11].rankscore=4 , rest_value=0-->\n",
       " <a href=\"/Restaurant/Onepage.asp?acode=R300152\" target=\"_blank\">원플레이트스탠다드키친</a></dt>\n",
       " <dd class=\"sum3\"><span class=\"part\">양식&gt;패밀리레스토랑 |</span>버팔로윙샐러드, 해산물크림, 스탠다드 샐러드</dd>\n",
       " <dd class=\"sum\">대전 서구 둔산동 1489 | 042-486-0131 | 추천맛집 0개</dd>\n",
       " </dl>\n",
       " </li>,\n",
       " <li>\n",
       " <div class=\"imgDiv\">\n",
       " <a href=\"/Restaurant/Onepage.asp?acode=R300158\" target=\"_blank\"><img class=\"thumb\" height=\"70px\" src=\"/restaurant/restimg/008/ssimg/r300158a_s.jpg\" width=\"70px\"/></a><span class=\"btn\"><img alt=\"더보기\" onmouseout=\"imgmore('R300158_imgview',0);\" onmouseover=\"imgmore('R300158_imgview',1);\" src=\"/IMAGE/Search/ico_plus.gif\" style=\"cursor:hand\"/></span>\n",
       " </div>\n",
       " <dl>\n",
       " <dt>\n",
       " <!--[12].rankscore=3 , rest_value=0-->\n",
       " <a href=\"/Restaurant/Onepage.asp?acode=R300158\" target=\"_blank\">파더스스테이크하우스</a></dt>\n",
       " <dd class=\"sum3\"><span class=\"part\">양식&gt;경양식 |</span>꽃등심 스테이크 (200g), 안심스테이크 (150g), 갈비안살 (200g)</dd>\n",
       " <dd class=\"sum\">대전 서구 둔산동 1417 리치빌 111호 | 042-484-0191 | 추천맛집 0개</dd>\n",
       " </dl>\n",
       " </li>,\n",
       " <li>\n",
       " <div class=\"imgDiv\">\n",
       " <a href=\"/Restaurant/Onepage.asp?acode=J300469\" target=\"_blank\"><img class=\"thumb\" height=\"70px\" src=\"/restaurant/restimg/009/ssimg/j300469a_s.jpg\" width=\"70px\"/></a><span class=\"btn\"><img alt=\"더보기\" onmouseout=\"imgmore('J300469_imgview',0);\" onmouseover=\"imgmore('J300469_imgview',1);\" src=\"/IMAGE/Search/ico_plus.gif\" style=\"cursor:hand\"/></span>\n",
       " </div>\n",
       " <dl>\n",
       " <dt>\n",
       " <!--[13].rankscore=2 , rest_value=0-->\n",
       " <a href=\"/Restaurant/Onepage.asp?acode=J300469\" target=\"_blank\">무젠스시</a></dt>\n",
       " <dd class=\"sum3\"><span class=\"part\">일식&gt;초밥/롤전문 |</span>낙지초밥, 우렁초밥, 참치김말이초밥</dd>\n",
       " <dd class=\"sum\">대전 서구 둔산동 1008 2F (올레 KT 2층) | 042-488-1203 | 추천맛집 0개</dd>\n",
       " </dl>\n",
       " </li>,\n",
       " <li>\n",
       " <div class=\"imgDiv\">\n",
       " <a href=\"/Restaurant/Onepage.asp?acode=H302079\" target=\"_blank\"><img class=\"thumb\" height=\"70px\" src=\"/restaurant/restimg/009/ssimg/h302079a_s.jpg\" width=\"70px\"/></a><span class=\"btn\"><img alt=\"더보기\" onmouseout=\"imgmore('H302079_imgview',0);\" onmouseover=\"imgmore('H302079_imgview',1);\" src=\"/IMAGE/Search/ico_plus.gif\" style=\"cursor:hand\"/></span>\n",
       " </div>\n",
       " <dl>\n",
       " <dt>\n",
       " <!--[14].rankscore=2 , rest_value=0-->\n",
       " <a href=\"/Restaurant/Onepage.asp?acode=H302079\" target=\"_blank\">만나 타임월드점</a></dt>\n",
       " <dd class=\"sum3\"><span class=\"part\">한식&gt;샤브샤브 |</span>상추쌈샤브샤브, 갈쌈세트, 떡쌈세트</dd>\n",
       " <dd class=\"sum\">대전 서구 둔산동 1036 갤러리아차임월드 9층 | 042-482-2629 | 추천맛집 0개</dd>\n",
       " </dl>\n",
       " </li>]"
      ]
     },
     "execution_count": 4,
     "metadata": {},
     "output_type": "execute_result"
    }
   ],
   "source": [
    "rest_list = soup.find(class_='listStyle3').find_all('li')\n",
    "rest_list"
   ]
  },
  {
   "cell_type": "code",
   "execution_count": 5,
   "metadata": {},
   "outputs": [
    {
     "data": {
      "text/plain": [
       "<li>\n",
       "<div class=\"imgDiv\">\n",
       "<a href=\"/Restaurant/Onepage.asp?acode=C300060\" target=\"_blank\"><img class=\"thumb\" height=\"70px\" src=\"/restaurant/restimg/000/ssimg/c300060a_s.jpg\" width=\"70px\"/></a><span class=\"btn\"><img alt=\"더보기\" onmouseout=\"imgmore('C300060_imgview',0);\" onmouseover=\"imgmore('C300060_imgview',1);\" src=\"/IMAGE/Search/ico_plus.gif\" style=\"cursor:hand\"/></span>\n",
       "</div>\n",
       "<dl>\n",
       "<dt>\n",
       "<!--[8].rankscore=7 , rest_value=50-->\n",
       "<a href=\"/Restaurant/Onepage.asp?acode=C300060\" target=\"_blank\">태원</a></dt>\n",
       "<dd class=\"sum3\"><span class=\"part\">중식&gt;일반 |</span>탕수육, 전가복, 청국탕수버섯</dd>\n",
       "<dd class=\"sum\">대전 서구 둔산동 1242 | 042-488-8836 | 추천맛집 0개 | 할인정보 : (20명이상코스주문..</dd>\n",
       "</dl>\n",
       "</li>"
      ]
     },
     "execution_count": 5,
     "metadata": {},
     "output_type": "execute_result"
    }
   ],
   "source": [
    "li = rest_list[0]\n",
    "li"
   ]
  },
  {
   "cell_type": "code",
   "execution_count": 6,
   "metadata": {},
   "outputs": [
    {
     "data": {
      "text/plain": [
       "[<a href=\"/Restaurant/Onepage.asp?acode=C300060\" target=\"_blank\"><img class=\"thumb\" height=\"70px\" src=\"/restaurant/restimg/000/ssimg/c300060a_s.jpg\" width=\"70px\"/></a>,\n",
       " <a href=\"/Restaurant/Onepage.asp?acode=C300060\" target=\"_blank\">태원</a>]"
      ]
     },
     "execution_count": 6,
     "metadata": {},
     "output_type": "execute_result"
    }
   ],
   "source": [
    "li.find_all('a')"
   ]
  },
  {
   "cell_type": "code",
   "execution_count": 7,
   "metadata": {},
   "outputs": [
    {
     "data": {
      "text/plain": [
       "<a href=\"/Restaurant/Onepage.asp?acode=C300060\" target=\"_blank\">태원</a>"
      ]
     },
     "execution_count": 7,
     "metadata": {},
     "output_type": "execute_result"
    }
   ],
   "source": [
    "li.find_all('a')[1]  #위에서 두번째 a를 찾아야하니까"
   ]
  },
  {
   "cell_type": "code",
   "execution_count": 8,
   "metadata": {},
   "outputs": [
    {
     "data": {
      "text/plain": [
       "'태원'"
      ]
     },
     "execution_count": 8,
     "metadata": {},
     "output_type": "execute_result"
    }
   ],
   "source": [
    "li.find_all('a')[1].get_text()"
   ]
  },
  {
   "cell_type": "code",
   "execution_count": 9,
   "metadata": {},
   "outputs": [
    {
     "data": {
      "text/plain": [
       "['태원',\n",
       " '인디',\n",
       " '플레져',\n",
       " '사리원',\n",
       " '행복조개찜',\n",
       " '모루',\n",
       " '돗토리일식',\n",
       " '예술마당',\n",
       " '1980양푼이등갈비찜',\n",
       " '파파존스-대전시청점',\n",
       " '마르가',\n",
       " '원플레이트스탠다드키친',\n",
       " '파더스스테이크하우스',\n",
       " '무젠스시',\n",
       " '만나 타임월드점']"
      ]
     },
     "execution_count": 9,
     "metadata": {},
     "output_type": "execute_result"
    }
   ],
   "source": [
    "rest_name_list = []   #식당이름\n",
    "for i in range(0,15):\n",
    "    rest_name_list.append(rest_list[i].find_all('a')[1].get_text())\n",
    "    \n",
    "rest_name_list"
   ]
  },
  {
   "cell_type": "code",
   "execution_count": 10,
   "metadata": {},
   "outputs": [
    {
     "data": {
      "text/plain": [
       "[<dd class=\"sum3\"><span class=\"part\">중식&gt;일반 |</span>탕수육, 전가복, 청국탕수버섯</dd>,\n",
       " <dd class=\"sum\">대전 서구 둔산동 1242 | 042-488-8836 | 추천맛집 0개 | 할인정보 : (20명이상코스주문..</dd>]"
      ]
     },
     "execution_count": 10,
     "metadata": {},
     "output_type": "execute_result"
    }
   ],
   "source": [
    "li.find_all('dd')"
   ]
  },
  {
   "cell_type": "code",
   "execution_count": 11,
   "metadata": {},
   "outputs": [
    {
     "data": {
      "text/plain": [
       "<dd class=\"sum3\"><span class=\"part\">중식&gt;일반 |</span>탕수육, 전가복, 청국탕수버섯</dd>"
      ]
     },
     "execution_count": 11,
     "metadata": {},
     "output_type": "execute_result"
    }
   ],
   "source": [
    "li.find_all('dd')[0]"
   ]
  },
  {
   "cell_type": "code",
   "execution_count": 12,
   "metadata": {},
   "outputs": [
    {
     "data": {
      "text/plain": [
       "'중식>일반 |탕수육, 전가복, 청국탕수버섯'"
      ]
     },
     "execution_count": 12,
     "metadata": {},
     "output_type": "execute_result"
    }
   ],
   "source": [
    "li.find_all('dd')[0].get_text()"
   ]
  },
  {
   "cell_type": "code",
   "execution_count": 13,
   "metadata": {},
   "outputs": [
    {
     "data": {
      "text/plain": [
       "['중식>일반 |탕수육, 전가복, 청국탕수버섯',\n",
       " '기타/세계>동남아음식 |난 & 커리, 그린 샐러드, 탄두리치킨',\n",
       " '카페/주점>카페 |청포도주스, 내부1, 페퍼민트',\n",
       " '한식 |평양식물냉면, 사리원소불고기, 왕손만두',\n",
       " '한식>해물요리 |조개찜 (大), 오뎅, 조개찜_상세',\n",
       " \"카페/주점>카페 |Moru's 오믈렛, 훈제연어 에그베네딕트, 아메리카노\",\n",
       " '일식>정식 |스페셜 사시미, 스페셜 사시미_상세, 스페셜 사시미_상세2',\n",
       " '한식>한정식 |진지상_상세, 점심특선, 진지상',\n",
       " '한식>갈비 |등갈비찜, 스지 김치찌개, 치즈 닭발볶음',\n",
       " '패스트푸드>피자 |슈퍼파파스, 아이리쉬포테이토',\n",
       " '카페/주점>카페 |홍차_상세, 홍자몽주스, 홍차',\n",
       " '양식>패밀리레스토랑 |버팔로윙샐러드, 해산물크림, 스탠다드 샐러드',\n",
       " '양식>경양식 |꽃등심 스테이크 (200g), 안심스테이크 (150g), 갈비안살 (200g)',\n",
       " '일식>초밥/롤전문 |낙지초밥, 우렁초밥, 참치김말이초밥',\n",
       " '한식>샤브샤브 |상추쌈샤브샤브, 갈쌈세트, 떡쌈세트']"
      ]
     },
     "execution_count": 13,
     "metadata": {},
     "output_type": "execute_result"
    }
   ],
   "source": [
    "rest_menu_list = []    #식당 메뉴\n",
    "for i in range(0,15):\n",
    "    rest_menu_list.append(rest_list[i].find_all('dd')[0].get_text())\n",
    "    \n",
    "rest_menu_list"
   ]
  },
  {
   "cell_type": "code",
   "execution_count": 14,
   "metadata": {},
   "outputs": [
    {
     "data": {
      "text/plain": [
       "'대전 서구 둔산동 1242 | 042-488-8836 | 추천맛집 0개 | 할인정보 : (20명이상코스주문..'"
      ]
     },
     "execution_count": 14,
     "metadata": {},
     "output_type": "execute_result"
    }
   ],
   "source": [
    "li.find_all('dd')[1].get_text()"
   ]
  },
  {
   "cell_type": "code",
   "execution_count": 15,
   "metadata": {},
   "outputs": [
    {
     "data": {
      "text/plain": [
       "['대전 서구 둔산동 1242 ', ' 042-488-8836 ', ' 추천맛집 0개 ', ' 할인정보 : (20명이상코스주문..']"
      ]
     },
     "execution_count": 15,
     "metadata": {},
     "output_type": "execute_result"
    }
   ],
   "source": [
    "li.find_all('dd')[1].get_text().split('|')"
   ]
  },
  {
   "cell_type": "code",
   "execution_count": 16,
   "metadata": {},
   "outputs": [
    {
     "data": {
      "text/plain": [
       "'대전 서구 둔산동 1242 '"
      ]
     },
     "execution_count": 16,
     "metadata": {},
     "output_type": "execute_result"
    }
   ],
   "source": [
    "li.find_all('dd')[1].get_text().split('|')[0]"
   ]
  },
  {
   "cell_type": "code",
   "execution_count": 17,
   "metadata": {},
   "outputs": [
    {
     "data": {
      "text/plain": [
       "['대전 서구 둔산동 1242 ',\n",
       " '대전 서구 둔산동 1369 넥서스밸리 B동 102호 ',\n",
       " '대전 서구 둔산동 1001-103 ',\n",
       " '대전 서구 둔산동 968 ',\n",
       " '대전 서구 둔산2동 1101-1 ',\n",
       " '대전 서구 둔산2동 1201 1층 ',\n",
       " '대전 서구 둔산동 1332 ',\n",
       " '대전 서구 둔산동 1471 3층 ',\n",
       " '대전 서구 둔산동 1062 ',\n",
       " '대전 서구 둔산동 1416 광조빌딩 2층 ',\n",
       " '대전 서구 둔산동 1474 청정빌딩 1층 ',\n",
       " '대전 서구 둔산동 1489 ',\n",
       " '대전 서구 둔산동 1417 리치빌 111호 ',\n",
       " '대전 서구 둔산동 1008 2F (올레 KT 2층) ',\n",
       " '대전 서구 둔산동 1036 갤러리아차임월드 9층 ']"
      ]
     },
     "execution_count": 17,
     "metadata": {},
     "output_type": "execute_result"
    }
   ],
   "source": [
    "rest_addr_list = []  # 식당 주소\n",
    "for i in range(0,15):\n",
    "    rest_addr_list.append(rest_list[i].find_all('dd')[1].get_text().split('|')[0])\n",
    "    \n",
    "rest_addr_list"
   ]
  },
  {
   "cell_type": "code",
   "execution_count": 18,
   "metadata": {},
   "outputs": [
    {
     "data": {
      "text/plain": [
       "[' 042-488-8836 ',\n",
       " ' 042-471-7052 ',\n",
       " ' 042-486-3777 ',\n",
       " ' 042-487-4208 ',\n",
       " ' 042-488-2924 ',\n",
       " ' 042-486-2201 ',\n",
       " ' 042-489-7373 ',\n",
       " ' 042-489-8183 ',\n",
       " ' 070-8817-6992 ',\n",
       " ' 042-482-1577 ',\n",
       " ' 042-320-1404 ',\n",
       " ' 042-486-0131 ',\n",
       " ' 042-484-0191 ',\n",
       " ' 042-488-1203 ',\n",
       " ' 042-482-2629 ']"
      ]
     },
     "execution_count": 18,
     "metadata": {},
     "output_type": "execute_result"
    }
   ],
   "source": [
    "rest_call_list = []  # 식당 전화번호\n",
    "for i in range(0,15):\n",
    "    rest_call_list.append(rest_list[i].find_all('dd')[1].get_text().split('|')[1])\n",
    "    \n",
    "rest_call_list"
   ]
  },
  {
   "cell_type": "code",
   "execution_count": 19,
   "metadata": {},
   "outputs": [],
   "source": [
    "import pandas as pd"
   ]
  },
  {
   "cell_type": "code",
   "execution_count": 20,
   "metadata": {},
   "outputs": [
    {
     "data": {
      "text/html": [
       "<div>\n",
       "<style scoped>\n",
       "    .dataframe tbody tr th:only-of-type {\n",
       "        vertical-align: middle;\n",
       "    }\n",
       "\n",
       "    .dataframe tbody tr th {\n",
       "        vertical-align: top;\n",
       "    }\n",
       "\n",
       "    .dataframe thead th {\n",
       "        text-align: right;\n",
       "    }\n",
       "</style>\n",
       "<table border=\"1\" class=\"dataframe\">\n",
       "  <thead>\n",
       "    <tr style=\"text-align: right;\">\n",
       "      <th></th>\n",
       "      <th>restaurant</th>\n",
       "      <th>menu</th>\n",
       "      <th>address</th>\n",
       "      <th>call</th>\n",
       "    </tr>\n",
       "  </thead>\n",
       "  <tbody>\n",
       "    <tr>\n",
       "      <th>0</th>\n",
       "      <td>태원</td>\n",
       "      <td>중식&gt;일반 |탕수육, 전가복, 청국탕수버섯</td>\n",
       "      <td>대전 서구 둔산동 1242</td>\n",
       "      <td>042-488-8836</td>\n",
       "    </tr>\n",
       "    <tr>\n",
       "      <th>1</th>\n",
       "      <td>인디</td>\n",
       "      <td>기타/세계&gt;동남아음식 |난 &amp; 커리, 그린 샐러드, 탄두리치킨</td>\n",
       "      <td>대전 서구 둔산동 1369 넥서스밸리 B동 102호</td>\n",
       "      <td>042-471-7052</td>\n",
       "    </tr>\n",
       "    <tr>\n",
       "      <th>2</th>\n",
       "      <td>플레져</td>\n",
       "      <td>카페/주점&gt;카페 |청포도주스, 내부1, 페퍼민트</td>\n",
       "      <td>대전 서구 둔산동 1001-103</td>\n",
       "      <td>042-486-3777</td>\n",
       "    </tr>\n",
       "    <tr>\n",
       "      <th>3</th>\n",
       "      <td>사리원</td>\n",
       "      <td>한식 |평양식물냉면, 사리원소불고기, 왕손만두</td>\n",
       "      <td>대전 서구 둔산동 968</td>\n",
       "      <td>042-487-4208</td>\n",
       "    </tr>\n",
       "    <tr>\n",
       "      <th>4</th>\n",
       "      <td>행복조개찜</td>\n",
       "      <td>한식&gt;해물요리 |조개찜 (大), 오뎅, 조개찜_상세</td>\n",
       "      <td>대전 서구 둔산2동 1101-1</td>\n",
       "      <td>042-488-2924</td>\n",
       "    </tr>\n",
       "    <tr>\n",
       "      <th>5</th>\n",
       "      <td>모루</td>\n",
       "      <td>카페/주점&gt;카페 |Moru's 오믈렛, 훈제연어 에그베네딕트, 아메리카노</td>\n",
       "      <td>대전 서구 둔산2동 1201 1층</td>\n",
       "      <td>042-486-2201</td>\n",
       "    </tr>\n",
       "    <tr>\n",
       "      <th>6</th>\n",
       "      <td>돗토리일식</td>\n",
       "      <td>일식&gt;정식 |스페셜 사시미, 스페셜 사시미_상세, 스페셜 사시미_상세2</td>\n",
       "      <td>대전 서구 둔산동 1332</td>\n",
       "      <td>042-489-7373</td>\n",
       "    </tr>\n",
       "    <tr>\n",
       "      <th>7</th>\n",
       "      <td>예술마당</td>\n",
       "      <td>한식&gt;한정식 |진지상_상세, 점심특선, 진지상</td>\n",
       "      <td>대전 서구 둔산동 1471 3층</td>\n",
       "      <td>042-489-8183</td>\n",
       "    </tr>\n",
       "    <tr>\n",
       "      <th>8</th>\n",
       "      <td>1980양푼이등갈비찜</td>\n",
       "      <td>한식&gt;갈비 |등갈비찜, 스지 김치찌개, 치즈 닭발볶음</td>\n",
       "      <td>대전 서구 둔산동 1062</td>\n",
       "      <td>070-8817-6992</td>\n",
       "    </tr>\n",
       "    <tr>\n",
       "      <th>9</th>\n",
       "      <td>파파존스-대전시청점</td>\n",
       "      <td>패스트푸드&gt;피자 |슈퍼파파스, 아이리쉬포테이토</td>\n",
       "      <td>대전 서구 둔산동 1416 광조빌딩 2층</td>\n",
       "      <td>042-482-1577</td>\n",
       "    </tr>\n",
       "    <tr>\n",
       "      <th>10</th>\n",
       "      <td>마르가</td>\n",
       "      <td>카페/주점&gt;카페 |홍차_상세, 홍자몽주스, 홍차</td>\n",
       "      <td>대전 서구 둔산동 1474 청정빌딩 1층</td>\n",
       "      <td>042-320-1404</td>\n",
       "    </tr>\n",
       "    <tr>\n",
       "      <th>11</th>\n",
       "      <td>원플레이트스탠다드키친</td>\n",
       "      <td>양식&gt;패밀리레스토랑 |버팔로윙샐러드, 해산물크림, 스탠다드 샐러드</td>\n",
       "      <td>대전 서구 둔산동 1489</td>\n",
       "      <td>042-486-0131</td>\n",
       "    </tr>\n",
       "    <tr>\n",
       "      <th>12</th>\n",
       "      <td>파더스스테이크하우스</td>\n",
       "      <td>양식&gt;경양식 |꽃등심 스테이크 (200g), 안심스테이크 (150g), 갈비안살 (...</td>\n",
       "      <td>대전 서구 둔산동 1417 리치빌 111호</td>\n",
       "      <td>042-484-0191</td>\n",
       "    </tr>\n",
       "    <tr>\n",
       "      <th>13</th>\n",
       "      <td>무젠스시</td>\n",
       "      <td>일식&gt;초밥/롤전문 |낙지초밥, 우렁초밥, 참치김말이초밥</td>\n",
       "      <td>대전 서구 둔산동 1008 2F (올레 KT 2층)</td>\n",
       "      <td>042-488-1203</td>\n",
       "    </tr>\n",
       "    <tr>\n",
       "      <th>14</th>\n",
       "      <td>만나 타임월드점</td>\n",
       "      <td>한식&gt;샤브샤브 |상추쌈샤브샤브, 갈쌈세트, 떡쌈세트</td>\n",
       "      <td>대전 서구 둔산동 1036 갤러리아차임월드 9층</td>\n",
       "      <td>042-482-2629</td>\n",
       "    </tr>\n",
       "  </tbody>\n",
       "</table>\n",
       "</div>"
      ],
      "text/plain": [
       "     restaurant                                               menu  \\\n",
       "0            태원                            중식>일반 |탕수육, 전가복, 청국탕수버섯   \n",
       "1            인디                 기타/세계>동남아음식 |난 & 커리, 그린 샐러드, 탄두리치킨   \n",
       "2           플레져                         카페/주점>카페 |청포도주스, 내부1, 페퍼민트   \n",
       "3           사리원                          한식 |평양식물냉면, 사리원소불고기, 왕손만두   \n",
       "4         행복조개찜                       한식>해물요리 |조개찜 (大), 오뎅, 조개찜_상세   \n",
       "5            모루           카페/주점>카페 |Moru's 오믈렛, 훈제연어 에그베네딕트, 아메리카노   \n",
       "6         돗토리일식            일식>정식 |스페셜 사시미, 스페셜 사시미_상세, 스페셜 사시미_상세2   \n",
       "7          예술마당                          한식>한정식 |진지상_상세, 점심특선, 진지상   \n",
       "8   1980양푼이등갈비찜                      한식>갈비 |등갈비찜, 스지 김치찌개, 치즈 닭발볶음   \n",
       "9    파파존스-대전시청점                          패스트푸드>피자 |슈퍼파파스, 아이리쉬포테이토   \n",
       "10          마르가                         카페/주점>카페 |홍차_상세, 홍자몽주스, 홍차   \n",
       "11  원플레이트스탠다드키친               양식>패밀리레스토랑 |버팔로윙샐러드, 해산물크림, 스탠다드 샐러드   \n",
       "12   파더스스테이크하우스  양식>경양식 |꽃등심 스테이크 (200g), 안심스테이크 (150g), 갈비안살 (...   \n",
       "13         무젠스시                     일식>초밥/롤전문 |낙지초밥, 우렁초밥, 참치김말이초밥   \n",
       "14     만나 타임월드점                       한식>샤브샤브 |상추쌈샤브샤브, 갈쌈세트, 떡쌈세트   \n",
       "\n",
       "                          address             call  \n",
       "0                 대전 서구 둔산동 1242     042-488-8836   \n",
       "1   대전 서구 둔산동 1369 넥서스밸리 B동 102호     042-471-7052   \n",
       "2             대전 서구 둔산동 1001-103     042-486-3777   \n",
       "3                  대전 서구 둔산동 968     042-487-4208   \n",
       "4              대전 서구 둔산2동 1101-1     042-488-2924   \n",
       "5             대전 서구 둔산2동 1201 1층     042-486-2201   \n",
       "6                 대전 서구 둔산동 1332     042-489-7373   \n",
       "7              대전 서구 둔산동 1471 3층     042-489-8183   \n",
       "8                 대전 서구 둔산동 1062    070-8817-6992   \n",
       "9         대전 서구 둔산동 1416 광조빌딩 2층     042-482-1577   \n",
       "10        대전 서구 둔산동 1474 청정빌딩 1층     042-320-1404   \n",
       "11                대전 서구 둔산동 1489     042-486-0131   \n",
       "12       대전 서구 둔산동 1417 리치빌 111호     042-484-0191   \n",
       "13  대전 서구 둔산동 1008 2F (올레 KT 2층)     042-488-1203   \n",
       "14    대전 서구 둔산동 1036 갤러리아차임월드 9층     042-482-2629   "
      ]
     },
     "execution_count": 20,
     "metadata": {},
     "output_type": "execute_result"
    }
   ],
   "source": [
    "df = pd.DataFrame({'restaurant':rest_name_list, 'menu':rest_menu_list,\n",
    "                  'address' : rest_addr_list, 'call' : rest_call_list})\n",
    "df"
   ]
  },
  {
   "cell_type": "code",
   "execution_count": 21,
   "metadata": {},
   "outputs": [],
   "source": [
    "df.to_csv('dunsan_restaurant.csv', sep=',', encoding=\"UTF-8\")"
   ]
  },
  {
   "cell_type": "code",
   "execution_count": null,
   "metadata": {},
   "outputs": [],
   "source": []
  }
 ],
 "metadata": {
  "kernelspec": {
   "display_name": "Python 3",
   "language": "python",
   "name": "python3"
  },
  "language_info": {
   "codemirror_mode": {
    "name": "ipython",
    "version": 3
   },
   "file_extension": ".py",
   "mimetype": "text/x-python",
   "name": "python",
   "nbconvert_exporter": "python",
   "pygments_lexer": "ipython3",
   "version": "3.7.6"
  }
 },
 "nbformat": 4,
 "nbformat_minor": 4
}
