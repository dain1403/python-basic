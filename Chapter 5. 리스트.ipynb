{
 "cells": [
  {
   "cell_type": "markdown",
   "metadata": {},
   "source": [
    "# Chapter 5. 리스트"
   ]
  },
  {
   "cell_type": "code",
   "execution_count": 7,
   "metadata": {},
   "outputs": [
    {
     "name": "stdout",
     "output_type": "stream",
     "text": [
      "['사과', '오렌지', '딸기', '포도', '감', '키위', '멜론', '수박']\n",
      "<class 'list'>\n",
      "[1, 3, 5, 7, 9]\n",
      "\n",
      "사과\n",
      "['오렌지', '딸기', '포도']\n",
      "['딸기', '포도', '감', '키위', '멜론', '수박']\n",
      "수박\n",
      "['수박']\n",
      "['감', '키위']\n",
      "['키위', '멜론', '수박']\n"
     ]
    }
   ],
   "source": [
    "# ex 5-1\n",
    "fruits = ['사과','오렌지','딸기','포도','감','키위','멜론','수박']\n",
    "list1 = [5, 10.2, '탁구',True,[4,5,6]]\n",
    "numbers = list(range(1,10,2))\n",
    "\n",
    "print(fruits)\n",
    "print(list)\n",
    "print(numbers)\n",
    "\n",
    "print()\n",
    "print(fruits[0])\n",
    "print(fruits[1:4])\n",
    "print(fruits[2:])\n",
    "print(fruits[-1])\n",
    "print(fruits[-1:])\n",
    "print(fruits[-4:-2])\n",
    "print(fruits[-3:])"
   ]
  },
  {
   "cell_type": "code",
   "execution_count": 6,
   "metadata": {},
   "outputs": [
    {
     "name": "stdout",
     "output_type": "stream",
     "text": [
      "['red', 'green', 'blue', 'yellow']\n",
      "['red', 'black', 'green', 'blue', 'yellow']\n",
      "['red', 'black', 'green', 'blue', 'yellow', 'purple', 'white']\n",
      "['red', 'black', 'green', 'blue', 'yellow', 'purple', 'white', 'purple', 'white']\n"
     ]
    }
   ],
   "source": [
    "# ex 5-2\n",
    "a = ['red','green','blue']\n",
    "a.append('yellow')\n",
    "print(a)\n",
    "\n",
    "a.insert(1,'black')\n",
    "print(a)\n",
    "\n",
    "b = ['purple','white']\n",
    "a.extend(b)\n",
    "print(a)\n",
    "\n",
    "c = a + b\n",
    "print(c)"
   ]
  },
  {
   "cell_type": "code",
   "execution_count": 9,
   "metadata": {},
   "outputs": [
    {
     "name": "stdout",
     "output_type": "stream",
     "text": [
      "2\n",
      "[10, 20, 40, 50, 60, 70, 80, 90, 100]\n",
      "[]\n"
     ]
    }
   ],
   "source": [
    "# ex 5-3\n",
    "a = [10,20,30,40,50,60,70,80,90,100]\n",
    "x = a.index(30)\n",
    "print(x)\n",
    "\n",
    "a.pop(x)\n",
    "print(a)\n",
    "\n",
    "a.clear()\n",
    "print(a)"
   ]
  },
  {
   "cell_type": "code",
   "execution_count": 10,
   "metadata": {},
   "outputs": [
    {
     "name": "stdout",
     "output_type": "stream",
     "text": [
      "3\n"
     ]
    }
   ],
   "source": [
    "# ex 5-4\n",
    "list1 = ['a','bb','c','d','aaa','c','ddd','aaa','b','cc','d','aaa',]\n",
    "length = list1.count('aaa')  #aaa값을 가진 요소의 개수\n",
    "\n",
    "print(length)"
   ]
  },
  {
   "cell_type": "code",
   "execution_count": 12,
   "metadata": {},
   "outputs": [
    {
     "name": "stdout",
     "output_type": "stream",
     "text": [
      "[-7, 1, 3, 5, 8, 9, 11, 13]\n",
      "[13, 11, 9, 8, 5, 3, 1, -7]\n"
     ]
    }
   ],
   "source": [
    "# ex 5-5\n",
    "list2 = [-7,1,5,8,3,9,11,13]\n",
    "list2.sort()    #오름차순\n",
    "print(list2)\n",
    "\n",
    "list2.sort(reverse=True)  #내림차순\n",
    "print(list2)"
   ]
  },
  {
   "cell_type": "code",
   "execution_count": 14,
   "metadata": {},
   "outputs": [
    {
     "name": "stdout",
     "output_type": "stream",
     "text": [
      "red\n",
      "white\n",
      "['green', 'blue', 'black']\n"
     ]
    }
   ],
   "source": [
    "# Q 5-1\n",
    "color = ['red','green','blue','black','white']\n",
    "print(color[0])\n",
    "print(color[-1])\n",
    "print(color[1:-1])"
   ]
  },
  {
   "cell_type": "code",
   "execution_count": 15,
   "metadata": {},
   "outputs": [
    {
     "name": "stdout",
     "output_type": "stream",
     "text": [
      "[1, 3, 5, 7, 9, 11, 13, 15, 17, 19]\n"
     ]
    }
   ],
   "source": [
    "# Q 5-2\n",
    "num = list(range(1,20,2))\n",
    "print(num)"
   ]
  },
  {
   "cell_type": "code",
   "execution_count": 17,
   "metadata": {},
   "outputs": [
    {
     "name": "stdout",
     "output_type": "stream",
     "text": [
      "사과\n",
      "바나나\n",
      "파인애플\n",
      "배\n",
      "키위\n"
     ]
    }
   ],
   "source": [
    "# Q 5-3\n",
    "mylist = ['사과','바나나','파인애플','배']\n",
    "mylist.append('키위')\n",
    "\n",
    "for a in mylist:   #mylist만 적으면 됨 ....range X\n",
    "    print(a)"
   ]
  },
  {
   "cell_type": "code",
   "execution_count": 21,
   "metadata": {},
   "outputs": [
    {
     "name": "stdout",
     "output_type": "stream",
     "text": [
      "['사과', '파인애플', '포도', '오렌지', '배']\n"
     ]
    }
   ],
   "source": [
    "# Q 5-4\n",
    "mylist = ['사과','바나나','파인애플','포도','오렌지','배']\n",
    "mylist.remove('바나나')  ############\n",
    "print(mylist)"
   ]
  },
  {
   "cell_type": "code",
   "execution_count": 32,
   "metadata": {},
   "outputs": [
    {
     "name": "stdout",
     "output_type": "stream",
     "text": [
      "['kim', 24, 'kim@naver.com', 'lee', 35, 'lee@hanmail.net']\n"
     ]
    }
   ],
   "source": [
    "# Q 5-5\n",
    "person1 = ['kim',24,'kim@naver.com']\n",
    "person2 = ['lee', 35, 'lee@hanmail.net']\n",
    "\n",
    "person = person1+person2\n",
    "print(person)"
   ]
  },
  {
   "cell_type": "code",
   "execution_count": 37,
   "metadata": {},
   "outputs": [
    {
     "name": "stdout",
     "output_type": "stream",
     "text": [
      "apple\n",
      "orange\n",
      "banana\n"
     ]
    }
   ],
   "source": [
    "# ex 5-6\n",
    "fruits = ['apple','orange','banana']\n",
    "\n",
    "for fruit in fruits :\n",
    "    print(fruit)"
   ]
  },
  {
   "cell_type": "code",
   "execution_count": 38,
   "metadata": {},
   "outputs": [
    {
     "name": "stdout",
     "output_type": "stream",
     "text": [
      "총점 : 666, 평균 : 83.25\n"
     ]
    }
   ],
   "source": [
    "# ex 5-7\n",
    "scores = [88,75,90,95,77,69,80,92]\n",
    "\n",
    "sum = 0;\n",
    "for score in scores:\n",
    "    sum += score\n",
    "    \n",
    "avg = sum/8\n",
    "\n",
    "print('총점 : %d, 평균 : %.2f'%(sum,avg))"
   ]
  },
  {
   "cell_type": "code",
   "execution_count": 42,
   "metadata": {},
   "outputs": [
    {
     "name": "stdout",
     "output_type": "stream",
     "text": [
      "[10, 20, 30]\n",
      "[40, 50, 60]\n",
      "10\n",
      "20\n",
      "30\n",
      "40\n",
      "50\n",
      "60\n",
      "\n",
      "2\n",
      "3\n"
     ]
    }
   ],
   "source": [
    "# ex 5-9\n",
    "numbers = [[10,20,30],[40,50,60]]\n",
    "\n",
    "print(numbers[0])\n",
    "print(numbers[1])\n",
    "print(numbers[0][0])\n",
    "print(numbers[0][1])\n",
    "print(numbers[0][2])\n",
    "print(numbers[1][0])\n",
    "print(numbers[1][1])\n",
    "print(numbers[1][2])\n",
    "\n",
    "print()\n",
    "print(len(numbers))\n",
    "print(len(numbers[0]))"
   ]
  },
  {
   "cell_type": "code",
   "execution_count": 44,
   "metadata": {},
   "outputs": [
    {
     "name": "stdout",
     "output_type": "stream",
     "text": [
      "1번째 학생의 합계 : 260, 평균 : 86.67\n",
      "2번째 학생의 합계 : 258, 평균 : 86.00\n",
      "3번째 학생의 합계 : 254, 평균 : 84.67\n",
      "4번째 학생의 합계 : 254, 평균 : 84.67\n",
      "5번째 학생의 합계 : 257, 평균 : 85.67\n",
      "6번째 학생의 합계 : 236, 평균 : 78.67\n",
      "7번째 학생의 합계 : 248, 평균 : 82.67\n",
      "8번째 학생의 합계 : 258, 평균 : 86.00\n"
     ]
    }
   ],
   "source": [
    "# ex 5-10\n",
    "scores = [[96,84,80],[96,86,76],[76,95,83],[89,96,69],\\\n",
    "          [90,76,91],[82,66,88],[83,86,79],[85,90,83]]\n",
    "\n",
    "for i in range(len(scores)):\n",
    "    sum = 0\n",
    "    for j in range(len(scores[i])):\n",
    "        sum = sum + scores[i][j]\n",
    "    avg = sum/len(scores[i])\n",
    "    \n",
    "    print('%d번째 학생의 합계 : %d, 평균 : %.2f'%(i+1,sum,avg))"
   ]
  },
  {
   "cell_type": "code",
   "execution_count": null,
   "metadata": {},
   "outputs": [],
   "source": [
    "# Q 5 - 8\n",
    "scores = [[96,84,80],[96,86,76],[76,95,83],[89,96,69],\\\n",
    "          [90,76,91],[82,66,88],[83,86,79],[85,90,83]]\n",
    "\n",
    "i = 0     #초기화해주기!!\n",
    "while i < len(scores):\n",
    "    sum = 0\n",
    "    j = 0\n",
    "    while j < len(scores[i]):\n",
    "        sum = sum + scores[i][j]\n",
    "        j += 1\n",
    "        \n",
    "    avg = sum/len(scores[i])\n",
    "    print('%d번째 학생의 합계 : %d, 평균 : %.2f'%(i+1, sum, avg))\n",
    "    i += 1"
   ]
  },
  {
   "cell_type": "code",
   "execution_count": 2,
   "metadata": {},
   "outputs": [
    {
     "name": "stdout",
     "output_type": "stream",
     "text": [
      "성적을 입력하세요(종료시 -1입력): 75\n",
      "성적을 입력하세요(종료시 -1입력): 83\n",
      "성적을 입력하세요(종료시 -1입력): 88\n",
      "성적을 입력하세요(종료시 -1입력): 93\n",
      "성적을 입력하세요(종료시 -1입력): 97\n",
      "성적을 입력하세요(종료시 -1입력): -1\n",
      "합계 : 436, 평균 : 87.20\n"
     ]
    }
   ],
   "source": [
    "# Q 5-9\n",
    "scores = []\n",
    "\n",
    "while True :\n",
    "    score = int(input('성적을 입력하세요(종료시 -1입력): '))\n",
    "    \n",
    "    if score == -1:\n",
    "        break\n",
    "    else:\n",
    "        scores.append(score)\n",
    "        \n",
    "sum = 0\n",
    "for i in range(0,len(scores)):\n",
    "    sum += scores[i]\n",
    "        \n",
    "avg = sum / len(scores)\n",
    "    \n",
    "print('합계 : %d, 평균 : %.2f'%(sum,avg))"
   ]
  },
  {
   "cell_type": "code",
   "execution_count": 4,
   "metadata": {},
   "outputs": [
    {
     "name": "stdout",
     "output_type": "stream",
     "text": [
      "  □  □  □  □  □  □  □  □  □  □\n",
      "  □  □  □  □  □  □  □  □  □  □\n",
      "  □  □  □  □  □  □  □  □  □  □\n",
      "  ■  ■  ■  □  □  □  □  □  ■  □\n",
      "  □  □  □  □  □  ■  □  □  □  □\n",
      "  □  ■  □  □  □  ■  □  ■  □  □\n",
      "  □  □  □  □  □  □  ■  □  □  □\n",
      "  ■  □  ■  □  □  □  □  □  □  ■\n",
      "\n",
      " ※예약 가능 : ■, 예약불가 :□\n"
     ]
    }
   ],
   "source": [
    "# Q 5-10\n",
    "seats = [[0,0,0,0,0,0,0,0,0,0],\\\n",
    "        [0,0,0,0,0,0,0,0,0,0],\\\n",
    "        [0,0,0,0,0,0,0,0,0,0],\\\n",
    "        [1,1,1,0,0,0,0,0,1,0],\\\n",
    "        [0,0,0,0,0,1,0,0,0,0],\\\n",
    "        [0,1,0,0,0,1,0,1,0,0],\\\n",
    "        [0,0,0,0,0,0,1,0,0,0],\\\n",
    "         [1,0,1,0,0,0,0,0,0,1]]\n",
    "\n",
    "for i in range(len(seats)):\n",
    "    for j in range(len(seats[i])):\n",
    "        if seats[i][j] == 0:\n",
    "            print('%3s'%'□',end='')\n",
    "        else:\n",
    "            print('%3s'%'■',end='')\n",
    "    print()\n",
    "print('\\n ※예약 가능 : ■, 예약불가 :□')"
   ]
  },
  {
   "cell_type": "code",
   "execution_count": 5,
   "metadata": {},
   "outputs": [
    {
     "name": "stdout",
     "output_type": "stream",
     "text": [
      "[1, 4, 9, 16, 25]\n"
     ]
    }
   ],
   "source": [
    "a = []\n",
    "for i in range(1,6):\n",
    "    a.append(i*i)\n",
    "print(a)"
   ]
  },
  {
   "cell_type": "code",
   "execution_count": 6,
   "metadata": {},
   "outputs": [
    {
     "name": "stdout",
     "output_type": "stream",
     "text": [
      "[1, 4, 9, 16, 25]\n"
     ]
    }
   ],
   "source": [
    "a = [i * i for i in range(1,6)]\n",
    "print(a)   #윗 칸과 같은 것"
   ]
  },
  {
   "cell_type": "code",
   "execution_count": 9,
   "metadata": {},
   "outputs": [
    {
     "name": "stdout",
     "output_type": "stream",
     "text": [
      "[1, 9, 25, 49, 81]\n"
     ]
    }
   ],
   "source": [
    "b = []\n",
    "for i in range(1,10,2):\n",
    "    b.append(i*i)\n",
    "print(b)"
   ]
  },
  {
   "cell_type": "code",
   "execution_count": 8,
   "metadata": {},
   "outputs": [
    {
     "name": "stdout",
     "output_type": "stream",
     "text": [
      "[4, 16, 36, 64]\n"
     ]
    }
   ],
   "source": [
    "b = [i * i for i in range(1,10) if i % 2 == 0]\n",
    "print(b)   #윗 칸과 같은 것"
   ]
  },
  {
   "cell_type": "code",
   "execution_count": 10,
   "metadata": {},
   "outputs": [
    {
     "name": "stdout",
     "output_type": "stream",
     "text": [
      "[2, 4, 6, 8, 10, 12, 14, 16, 18, 3, 6, 9, 12, 15, 18, 21, 24, 27, 4, 8, 12, 16, 20, 24, 28, 32, 36, 5, 10, 15, 20, 25, 30, 35, 40, 45, 6, 12, 18, 24, 30, 36, 42, 48, 54, 7, 14, 21, 28, 35, 42, 49, 56, 63, 8, 16, 24, 32, 40, 48, 56, 64, 72, 9, 18, 27, 36, 45, 54, 63, 72, 81]\n"
     ]
    }
   ],
   "source": [
    "gugudan = [i*k for i in range(2,10)\n",
    "               for k in range(1,10)]\n",
    "print(gugudan)"
   ]
  },
  {
   "cell_type": "markdown",
   "metadata": {},
   "source": [
    "# 함수 결과"
   ]
  },
  {
   "cell_type": "code",
   "execution_count": 11,
   "metadata": {},
   "outputs": [
    {
     "data": {
      "text/plain": [
       "['I', 'love', 'you']"
      ]
     },
     "execution_count": 11,
     "metadata": {},
     "output_type": "execute_result"
    }
   ],
   "source": [
    "'I love you'.split(' ')   #함수결과가 리스트로 나온다"
   ]
  },
  {
   "cell_type": "code",
   "execution_count": null,
   "metadata": {},
   "outputs": [],
   "source": []
  }
 ],
 "metadata": {
  "kernelspec": {
   "display_name": "Python 3",
   "language": "python",
   "name": "python3"
  }
 },
 "nbformat": 4,
 "nbformat_minor": 4
}
