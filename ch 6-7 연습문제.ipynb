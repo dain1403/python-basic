{
 "cells": [
  {
   "cell_type": "markdown",
   "metadata": {},
   "source": [
    "# chapter 6. 튜플과 딕셔너리 연습문제 (홀수번)"
   ]
  },
  {
   "cell_type": "code",
   "execution_count": 12,
   "metadata": {},
   "outputs": [
    {
     "name": "stdout",
     "output_type": "stream",
     "text": [
      "1. 아이디 : kim99, 마일리지 : 12000점\n",
      "2. 아이디 : lee66, 마일리지 : 11000점\n",
      "3. 아이디 : han55, 마일리지 : 3000점\n",
      "4. 아이디 : hong77, 마일리지 : 5000점\n",
      "5. 아이디 : hwang33, 마일리지 : 18000점\n"
     ]
    }
   ],
   "source": [
    "# 1번\n",
    "member = {'kim99':12000,'lee66':11000,'han55':3000,'hong77':5000,'hwang33':18000}\n",
    "count = 0\n",
    "for key in member:\n",
    "    count += 1\n",
    "    print('%d. 아이디 : %s, 마일리지 : %d점'%(count, key,member[key]))"
   ]
  },
  {
   "cell_type": "code",
   "execution_count": 15,
   "metadata": {},
   "outputs": [
    {
     "name": "stdout",
     "output_type": "stream",
     "text": [
      "전체 딕셔너리 : {'kim99': 12000, 'lee66': 11000, 'han55': 3000, 'hong77': 5000, 'hwang33': 18000, 'jang88': 7000}\n",
      "jang88님의 마일리지(7000점)가 추가 되었습니다.\n"
     ]
    }
   ],
   "source": [
    "# 3번   \n",
    "member['jang88'] = 7000\n",
    "print('전체 딕셔너리 : %s'%member)\n",
    "print('jang88님의 마일리지(%d점)가 추가 되었습니다.'%member['jang88'])"
   ]
  },
  {
   "cell_type": "code",
   "execution_count": 15,
   "metadata": {},
   "outputs": [
    {
     "name": "stdout",
     "output_type": "stream",
     "text": [
      "--------------------------------------------------\n",
      "   월   화   수   목   금   토   일\n",
      "--------------------------------------------------\n",
      " 25.5 28.3 33.2 32.1 17.3 35.3 33.3\n",
      "--------------------------------------------------\n"
     ]
    }
   ],
   "source": [
    "# 5번\n",
    "whether = {'월':25.5,'화':28.3,'수':33.2,'목':32.1,'금':17.3,'토':35.3,'일':33.3}\n",
    "print('-'*50)\n",
    "for key in whether.keys():\n",
    "    print('%4s'%key, end='')\n",
    "\n",
    "print()\n",
    "print('-'*50)\n",
    "\n",
    "for key in whether.keys():\n",
    "    print('%5.1f'%whether[key], end='')\n",
    "    \n",
    "print()\n",
    "print('-'*50)"
   ]
  },
  {
   "cell_type": "code",
   "execution_count": 7,
   "metadata": {},
   "outputs": [
    {
     "name": "stdout",
     "output_type": "stream",
     "text": [
      "기온이 30º 이상인 요일 : 수 목 토 일 "
     ]
    }
   ],
   "source": [
    "# 7번  \n",
    "whether = {'월':25.5,'화':28.3,'수':33.2,'목':32.1,'금':17.3,'토':35.3,'일':33.3}\n",
    "print('기온이 30º 이상인 요일 : ',end='')\n",
    "for key in whether.keys():\n",
    "    if 30 <= whether[key]:\n",
    "        print('%s'%key,end=' ')"
   ]
  },
  {
   "cell_type": "markdown",
   "metadata": {},
   "source": [
    "# Chapter7. 함수 연습문제"
   ]
  },
  {
   "cell_type": "code",
   "execution_count": 47,
   "metadata": {},
   "outputs": [
    {
     "name": "stdout",
     "output_type": "stream",
     "text": [
      "20,10\n"
     ]
    }
   ],
   "source": [
    "#1번\n",
    "def f1(a):\n",
    "    a += 10\n",
    "    print(a, end=',')\n",
    "    \n",
    "a = 10\n",
    "f1(a)\n",
    "print(a)"
   ]
  },
  {
   "cell_type": "code",
   "execution_count": 25,
   "metadata": {},
   "outputs": [
    {
     "name": "stdout",
     "output_type": "stream",
     "text": [
      "n값을 입력해 주세요 : 20\n",
      "2 ~ 20까지의 정수 중 소수 : 2 3 5 7 11 13 17 19 "
     ]
    }
   ],
   "source": [
    "#3번\n",
    "def sosu(n):\n",
    "    print('2 ~ %d까지의 정수 중 소수 : '%n,end='')\n",
    "    for i in range (2, n+1):\n",
    "        check = 0\n",
    "        for j in range(2,i):\n",
    "            if i % j == 0:\n",
    "                check = 1\n",
    "                break\n",
    "        if check == 0:\n",
    "            print(i,end=' ')\n",
    "        \n",
    "num = int(input('n값을 입력해 주세요 : '))\n",
    "sosu(num)"
   ]
  },
  {
   "cell_type": "code",
   "execution_count": 26,
   "metadata": {},
   "outputs": [
    {
     "name": "stdout",
     "output_type": "stream",
     "text": [
      "[1, 4, 9, 16, 25]\n"
     ]
    }
   ],
   "source": [
    "# 5번\n",
    "def numSquare(num):\n",
    "    list_new = []\n",
    "    for i in range(1, num+1):\n",
    "        list_new.append(i**2)\n",
    "        \n",
    "    return list_new\n",
    "\n",
    "n = 5\n",
    "result = numSquare(n)\n",
    "print(result)"
   ]
  },
  {
   "cell_type": "code",
   "execution_count": 4,
   "metadata": {},
   "outputs": [
    {
     "name": "stdout",
     "output_type": "stream",
     "text": [
      "※비밀번호는 10자리 이상, 영문 대문자를 포함하여야 합니다.\n",
      "비밀번호 : 3677848\n",
      "비밀번호 확인 : 3677848\n",
      "비밀번호가 잘못되었습니다. 다시입력해 주세요\n",
      "비밀번호 : A123456789\n",
      "비밀번호 확인 : asdfsadf\n",
      "비밀번호와 비밀번호 확인이 서로 다릅니다! 다시 입력해 주세요!\n",
      "비밀번호 : A123456789\n",
      "비밀번호 확인 : A123456789\n",
      "유효한 비밀번호입니다~~\n"
     ]
    }
   ],
   "source": [
    "# 7번\n",
    "def password_ck():\n",
    "    while True:\n",
    "        str1 = input('비밀번호 : ')\n",
    "        str2 = input('비밀번호 확인 : ')\n",
    "        if str1 == str2:\n",
    "            if len(str1) >= 10 and str1.isupper() :\n",
    "                print('유효한 비밀번호입니다~~')\n",
    "                break\n",
    "            else :\n",
    "                print('비밀번호가 잘못되었습니다. 다시입력해 주세요')\n",
    "        else:\n",
    "            print('비밀번호와 비밀번호 확인이 서로 다릅니다! 다시 입력해 주세요!')\n",
    "        \n",
    "print('※비밀번호는 10자리 이상, 영문 대문자를 포함하여야 합니다.')\n",
    "password_ck()"
   ]
  },
  {
   "cell_type": "code",
   "execution_count": null,
   "metadata": {},
   "outputs": [],
   "source": []
  }
 ],
 "metadata": {
  "kernelspec": {
   "display_name": "Python 3",
   "language": "python",
   "name": "python3"
  }
 },
 "nbformat": 4,
 "nbformat_minor": 4
}
