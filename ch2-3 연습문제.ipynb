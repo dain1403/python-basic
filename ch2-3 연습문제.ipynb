{
 "cells": [
  {
   "cell_type": "markdown",
   "metadata": {},
   "source": [
    "# CH2 연습문제"
   ]
  },
  {
   "cell_type": "code",
   "execution_count": 1,
   "metadata": {},
   "outputs": [
    {
     "data": {
      "text/plain": [
       "'\\n(1) 숫자 : 정수로 구성된 정수형(Integer)과 소수점이 있는 실수형(Floating Point)숫자가 있다.\\n\\n'"
      ]
     },
     "execution_count": 1,
     "metadata": {},
     "output_type": "execute_result"
    }
   ],
   "source": [
    "# 1번\n",
    "\"\"\"\n",
    "(1) 숫자 \n",
    "정수로 구성된 정수형(Integer)과 소수점이 있는 실수형(Floating Point)숫자가 있다.\n",
    "정수형 숫자는 음수, 0, 양수로 구성된 정수를 의미하고, 실수형 숫자는 소수점이 존재하는\n",
    "숫자를 말한다.\n",
    "\n",
    "(2) 문자열\n",
    "하나 또는 다수의 문자로 구성된 데이터 형을 말한다. \n",
    "문자열을 사용할 때는 숫자와는 달리 해당 문자열 앞 뒤에 단 따옴표('')나 쌍 따옴표(\"\")를\n",
    "붙여야 한다.\n",
    "\n",
    "\"\"\" "
   ]
  },
  {
   "cell_type": "code",
   "execution_count": 6,
   "metadata": {},
   "outputs": [
    {
     "name": "stdout",
     "output_type": "stream",
     "text": [
      "-72\n"
     ]
    }
   ],
   "source": [
    "#2번\n",
    "\n",
    "a = 7\n",
    "b = 10\n",
    "\n",
    "c = a + b * 2\n",
    "c %= 5\n",
    "c **= 3\n",
    "c -= c* 10\n",
    "\n",
    "print(c)\n"
   ]
  },
  {
   "cell_type": "code",
   "execution_count": 10,
   "metadata": {},
   "outputs": [
    {
     "name": "stdout",
     "output_type": "stream",
     "text": [
      "반지름을 입력하세요 : 10\n",
      "반지름 : 10 cm\n",
      "원의 둘레 : 62.80 cm\n",
      "원의 면적 : 314.00 cm2\n"
     ]
    }
   ],
   "source": [
    "# 3번\n",
    "r = int(input('반지름을 입력하세요 : '))\n",
    "\n",
    "print('반지름 : %d cm'%r)\n",
    "print('원의 둘레 : %.2f cm'%(2*3.14*r))\n",
    "print('원의 면적 : %.2f cm2'%(3.14*r*r))"
   ]
  },
  {
   "cell_type": "code",
   "execution_count": 11,
   "metadata": {},
   "outputs": [
    {
     "name": "stdout",
     "output_type": "stream",
     "text": [
      "책 값을 입력하세요 : 15000\n",
      "할인율을 입력하세요(%) : 15\n",
      "배송료를 입력하세요 : 3000\n",
      "결제 금액 : 15750원\n"
     ]
    }
   ],
   "source": [
    "# 4번\n",
    "\n",
    "money = int(input('책 값을 입력하세요 : '))\n",
    "discount = int(input('할인율을 입력하세요(%) : '))\n",
    "delivery = int(input('배송료를 입력하세요 : '))\n",
    "\n",
    "print('결제 금액 : %d원'%(money-(money*discount/100)+delivery))"
   ]
  },
  {
   "cell_type": "code",
   "execution_count": 12,
   "metadata": {},
   "outputs": [
    {
     "name": "stdout",
     "output_type": "stream",
     "text": [
      "이름을 입력하세요 : 안지영\n",
      "현재년을 입력하세요 : 2020\n",
      "탄생년을 입력하세요 : 1997\n",
      "안지영님의 나이는 24세 입니다!\n"
     ]
    }
   ],
   "source": [
    "# 5번\n",
    "name = input('이름을 입력하세요 : ')\n",
    "now_year = int(input('현재년을 입력하세요 : '))\n",
    "birth_year = int(input('탄생년을 입력하세요 : '))\n",
    "\n",
    "print('%s님의 나이는 %d세 입니다!'%(name,(now_year-birth_year+1)))"
   ]
  },
  {
   "cell_type": "code",
   "execution_count": 18,
   "metadata": {},
   "outputs": [
    {
     "name": "stdout",
     "output_type": "stream",
     "text": [
      "연을 입력하세요 : 2020\n",
      "월을 입력하세요 : 1\n",
      "일을 입력하세요 : 5\n",
      "2020-01-05\n"
     ]
    }
   ],
   "source": [
    "# 6번\n",
    "year = int(input('연을 입력하세요 : '))\n",
    "month = int(input('월을 입력하세요 : '))\n",
    "day = int(input('일을 입력하세요 : '))\n",
    "\n",
    "print('%s'%year,end='-')\n",
    "print('%02d'%month,end='-')\n",
    "print('%02d'%day)"
   ]
  },
  {
   "cell_type": "markdown",
   "metadata": {},
   "source": [
    "# CH03. 연습문제"
   ]
  },
  {
   "cell_type": "code",
   "execution_count": 1,
   "metadata": {},
   "outputs": [
    {
     "data": {
      "text/plain": [
       "'\\nFalse False False\\nTrue  True  False\\nTrue  True  True\\n'"
      ]
     },
     "execution_count": 1,
     "metadata": {},
     "output_type": "execute_result"
    }
   ],
   "source": [
    "# 1번\n",
    "\"\"\"\n",
    "False False False\n",
    "True  False  False\n",
    "True  True  True\n",
    "\"\"\""
   ]
  },
  {
   "cell_type": "code",
   "execution_count": 2,
   "metadata": {},
   "outputs": [
    {
     "data": {
      "text/plain": [
       "'\\nFalse True\\nTrue  False\\nFalse True\\n'"
      ]
     },
     "execution_count": 2,
     "metadata": {},
     "output_type": "execute_result"
    }
   ],
   "source": [
    "# 2번\n",
    "\"\"\"\n",
    "False True\n",
    "True  False\n",
    "False True\n",
    "\"\"\""
   ]
  },
  {
   "cell_type": "code",
   "execution_count": 3,
   "metadata": {},
   "outputs": [
    {
     "name": "stdout",
     "output_type": "stream",
     "text": [
      "4\n"
     ]
    }
   ],
   "source": [
    "# 3번\n",
    "a = 2\n",
    "z = a * 5\n",
    "w = (z - 3) * (a - 2)/7 + 10\n",
    "\n",
    "if a > z or w > a :\n",
    "    y = 2 * a\n",
    "else :\n",
    "    y = 4 * a\n",
    "    \n",
    "print(y)"
   ]
  },
  {
   "cell_type": "code",
   "execution_count": 6,
   "metadata": {},
   "outputs": [
    {
     "name": "stdout",
     "output_type": "stream",
     "text": [
      "단위를 입력하세요(1:섭씨, 2:화씨): 2\n",
      "온도를 입력하세요 : 80\n",
      "물의 섭씨 온도 : 26.67, 상태 : 액체\n"
     ]
    }
   ],
   "source": [
    "# 4번\n",
    "num = int(input('단위를 입력하세요(1:섭씨, 2:화씨): '))\n",
    "tem_input = float(input('온도를 입력하세요 : '))\n",
    "tem = 0\n",
    "\n",
    "if num == 2 :\n",
    "    tem = (tem_input - 32) *5 /9\n",
    "\n",
    "if tem < 0:\n",
    "    result = '얼음'\n",
    "elif tem <100 :\n",
    "    result = '액체'\n",
    "else:\n",
    "    result = '수증기'\n",
    "print('물의 섭씨 온도 : %.2f, 상태 : %s'%(tem,result))"
   ]
  },
  {
   "cell_type": "code",
   "execution_count": 10,
   "metadata": {},
   "outputs": [
    {
     "name": "stdout",
     "output_type": "stream",
     "text": [
      "아이디를 입력하세요 : rubato\n",
      "회원 레벨을 입력해 주세요 : 3\n",
      "일부 콘텐츠 이용 가능\n"
     ]
    }
   ],
   "source": [
    "# 5번\n",
    "id = input('아이디를 입력하세요 : ')\n",
    "\n",
    "if id == 'admin' :\n",
    "    print('모든 콘텐츠 이용 가능')\n",
    "else :\n",
    "    level = int(input('회원 레벨을 입력해 주세요 : '))\n",
    "    if level >= 2 and level <= 7 :\n",
    "        print('일부 콘텐츠 이용 가능')\n",
    "    else :\n",
    "        print('일부 콘텐츠 이용 가능')\n"
   ]
  },
  {
   "cell_type": "code",
   "execution_count": 11,
   "metadata": {},
   "outputs": [
    {
     "name": "stdout",
     "output_type": "stream",
     "text": [
      "나이를 입력하세요 : 6\n",
      "입장료는 1000원입니다.\n"
     ]
    }
   ],
   "source": [
    "# 6번\n",
    "age = int(input('나이를 입력하세요 : '))\n",
    "\n",
    "if age <= 10 :\n",
    "    price = 1000\n",
    "elif age > 65:\n",
    "    price = 0\n",
    "else :\n",
    "    price = 2000\n",
    "    \n",
    "print('입장료는 %d원입니다.'%price)"
   ]
  },
  {
   "cell_type": "code",
   "execution_count": 13,
   "metadata": {},
   "outputs": [
    {
     "name": "stdout",
     "output_type": "stream",
     "text": [
      "영어시험 점수를 입력하세요 : 85\n",
      "수학시험 점수를 입력하세요 : 75\n",
      "재시험 기회제공\n"
     ]
    }
   ],
   "source": [
    "#7번\n",
    "english_score = int(input('영어시험 점수를 입력하세요 : '))\n",
    "math_score = int(input('수학시험 점수를 입력하세요 : '))\n",
    "\n",
    "if english_score >= 80 and math_score >= 80:\n",
    "    print('합격')\n",
    "elif english_score < 80 and math_score < 80:\n",
    "    print('불합격')\n",
    "else:\n",
    "    print('재시험 기회제공')\n"
   ]
  },
  {
   "cell_type": "code",
   "execution_count": null,
   "metadata": {},
   "outputs": [],
   "source": []
  }
 ],
 "metadata": {
  "kernelspec": {
   "display_name": "Python 3",
   "language": "python",
   "name": "python3"
  },
  "language_info": {
   "codemirror_mode": {
    "name": "ipython",
    "version": 3
   },
   "file_extension": ".py",
   "mimetype": "text/x-python",
   "name": "python",
   "nbconvert_exporter": "python",
   "pygments_lexer": "ipython3",
   "version": "3.7.6"
  }
 },
 "nbformat": 4,
 "nbformat_minor": 4
}
